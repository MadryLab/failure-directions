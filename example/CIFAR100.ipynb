{
 "cells": [
  {
   "cell_type": "code",
   "execution_count": 33,
   "id": "819cbdb3",
   "metadata": {},
   "outputs": [],
   "source": [
    "import torch\n",
    "import torchvision\n",
    "import sys\n",
    "sys.path.append('..')\n",
    "import failure_directions\n",
    "import numpy as np\n",
    "import torchvision.transforms as transforms\n",
    "from torch.cuda.amp import autocast\n",
    "from tqdm import tqdm\n",
    "import torch.nn as nn\n",
    "import matplotlib.pyplot as plt\n",
    "import yaml\n",
    "from failure_directions.src.config_parsing import ffcv_read_check_override_config\n",
    "import os\n",
    "import failure_directions.src.pytorch_datasets as pytorch_datasets\n",
    "import seaborn as sns\n",
    "sns.set()"
   ]
  },
  {
   "cell_type": "code",
   "execution_count": 34,
   "id": "28fa3b22",
   "metadata": {},
   "outputs": [
    {
     "name": "stdout",
     "output_type": "stream",
     "text": [
      "/mnt/cfs/home/saachij/src/failure-directions/failure_directions\n",
      "Using default os_cache: False\n",
      "Using default quasi_random: True\n",
      "Using default val_aug: None\n",
      "Using default loss_vec_file: None\n",
      "Using default indices_file: None\n",
      "Using default val_beton: None\n",
      "Using default unlabeled_beton: None\n",
      "Using default loss_upweight: 5\n",
      "Using default bce: False\n",
      "Using default cmnist: False\n",
      "/mnt/cfs/home/saachij/src/failure-directions/example\n",
      "{'mean': [125.307, 122.961, 113.8575], 'std': [51.5865, 50.847, 51.255], 'num_classes': 20, 'arch': 'resnet18', 'arch_type': 'cifar_resnet', 'batch_size': 512, 'num_workers': 1, 'imgsz': 32, 'train_beton': 'supercifar100/supercifar100_train.beton', 'test_beton': 'supercifar100/supercifar100_test.beton', 'train_img_decoder': 'simple', 'val_img_decoder': 'simple', 'shuffle': True, 'drop_last': True, 'train_aug': 'cifar_train_aug', 'training': {'epochs': 35, 'lr': 0.5, 'optimizer': {'momentum': 0.9, 'weight_decay': 0.0005}, 'lr_scheduler': {'type': 'cyclic', 'lr_peak_epoch': 5}}, 'os_cache': False, 'quasi_random': True, 'val_aug': None, 'loss_vec_file': None, 'indices_file': None, 'val_beton': None, 'unlabeled_beton': None, 'loss_upweight': 5, 'bce': False, 'cmnist': False}\n"
     ]
    }
   ],
   "source": [
    "# Get hyperparameters\n",
    "%cd ../failure_directions\n",
    "with open(\"dataset_configs/supercifar100.yaml\", 'r') as file:\n",
    "    hparams = yaml.safe_load(file)\n",
    "hparams = ffcv_read_check_override_config(hparams)\n",
    "%cd ../example\n",
    "\n",
    "print(hparams)"
   ]
  },
  {
   "cell_type": "code",
   "execution_count": 35,
   "id": "f4cae48f",
   "metadata": {},
   "outputs": [],
   "source": [
    "base_transform = transforms.Compose([\n",
    "    transforms.ToTensor(),\n",
    "    transforms.Normalize(mean=np.array(hparams['mean'])/255, std=np.array(hparams['std'])/255)])\n",
    "\n",
    "train_transform = transforms.Compose([\n",
    "    transforms.RandomCrop(32, padding=4),\n",
    "    transforms.RandomHorizontalFlip(),\n",
    "    base_transform\n",
    "])\n",
    "\n",
    "# For visualization\n",
    "INV_NORM = transforms.Compose([ transforms.Normalize(mean = [ 0., 0., 0. ],\n",
    "                                                     std = [255/x for x in hparams['std']]),\n",
    "                                transforms.Normalize(mean = [-x /255 for x in hparams['mean']],\n",
    "                                                     std = [ 1., 1., 1. ])])\n",
    "TOIMAGE = transforms.Compose([INV_NORM, transforms.ToPILImage()])"
   ]
  },
  {
   "cell_type": "code",
   "execution_count": 36,
   "id": "f33aa7b6",
   "metadata": {},
   "outputs": [
    {
     "name": "stdout",
     "output_type": "stream",
     "text": [
      "val_indices 10000\n",
      "unlabeled_indices 20000\n",
      "train_indices 17016\n",
      "classes_to_drop 20\n"
     ]
    }
   ],
   "source": [
    "# Get the indices dict\n",
    "indices_dict = torch.load(os.path.join(\"../failure_directions/\", \"index_files/spurious_cifar100_with_unlabeled.pt\"))\n",
    "for k in indices_dict.keys():\n",
    "    if indices_dict[k] is not None:\n",
    "        print(k, len(indices_dict[k]))\n",
    "indices_dict['no_shuffle_train_indices'] = indices_dict['train_indices']\n",
    "minority_classes = torch.tensor(indices_dict['classes_to_drop'])"
   ]
  },
  {
   "cell_type": "code",
   "execution_count": 37,
   "id": "1d5c54e2",
   "metadata": {},
   "outputs": [],
   "source": [
    "cifar100_orig_train = pytorch_datasets.SuperCIFAR100(root=\"/mnt/nfs/home/saachij/datasets/cifar100\", \n",
    "                                               train=True, transform=train_transform)\n",
    "cifar100_no_aug_train = pytorch_datasets.SuperCIFAR100(root=\"/mnt/nfs/home/saachij/datasets/cifar100\", \n",
    "                                               train=True, transform=base_transform)\n",
    "cifar100_orig_test = pytorch_datasets.SuperCIFAR100(root=\"/mnt/nfs/home/saachij/datasets/cifar100\", \n",
    "                                                    train=False, transform=base_transform)"
   ]
  },
  {
   "cell_type": "code",
   "execution_count": 38,
   "id": "d2933ab7",
   "metadata": {},
   "outputs": [],
   "source": [
    "train_orig_subclasses = torch.tensor(cifar100_orig_train.subclass_targets) # subclasses from the original training dataset\n",
    "train_orig_classes = torch.tensor(cifar100_orig_train.targets) # subclasses from the original training dataset\n",
    "train_orig_is_minority = np.in1d(train_orig_subclasses.numpy(), minority_classes.numpy()) # indicator vector of examples that are part of the minority pop\n",
    "test_orig_subclasses = torch.tensor(cifar100_orig_test.subclass_targets) # subclasses from the original training dataset\n",
    "test_orig_classes = torch.tensor(cifar100_orig_test.targets) # subclasses from the original training dataset"
   ]
  },
  {
   "cell_type": "code",
   "execution_count": 39,
   "id": "e058624c",
   "metadata": {},
   "outputs": [],
   "source": [
    "# perform subsetting\n",
    "dataset_splits = {}\n",
    "for k in ['train', 'val', 'unlabeled', 'no_shuffle_train']:\n",
    "    if k == 'train': # shuffle and augment\n",
    "        subset_ds = cifar100_orig_train\n",
    "    else:\n",
    "        subset_ds = cifar100_no_aug_train\n",
    "    subset_ds = torch.utils.data.Subset(subset_ds, indices_dict[f'{k}_indices'])\n",
    "    subset_subclasses = train_orig_subclasses[indices_dict[f'{k}_indices']]\n",
    "    subset_classes = train_orig_classes[indices_dict[f'{k}_indices']]\n",
    "    is_minority = np.in1d(subset_subclasses.numpy(), minority_classes.numpy())\n",
    "    dataset_splits[k] = {\n",
    "        'ds': subset_ds, \n",
    "        'subclasses': subset_subclasses, \n",
    "        'classes': subset_classes,\n",
    "        'is_minority': is_minority,\n",
    "    }\n",
    "dataset_splits['test'] = {\n",
    "    'ds': cifar100_orig_test, \n",
    "    'subclasses': test_orig_subclasses, \n",
    "    'classes': test_orig_classes,\n",
    "    'is_minority': np.in1d(test_orig_subclasses.numpy(), minority_classes.numpy())\n",
    "}"
   ]
  },
  {
   "cell_type": "code",
   "execution_count": 40,
   "id": "58a0f214",
   "metadata": {},
   "outputs": [
    {
     "name": "stdout",
     "output_type": "stream",
     "text": [
      "----  train -----\n",
      "Length:17016\n",
      "Percent from minority classes:0.059\n",
      "----  val -----\n",
      "Length:10000\n",
      "Percent from minority classes:0.198\n",
      "----  unlabeled -----\n",
      "Length:20000\n",
      "Percent from minority classes:0.201\n",
      "----  no_shuffle_train -----\n",
      "Length:17016\n",
      "Percent from minority classes:0.059\n",
      "----  test -----\n",
      "Length:10000\n",
      "Percent from minority classes:0.200\n"
     ]
    }
   ],
   "source": [
    "for k, ds_dict in dataset_splits.items():\n",
    "    print(\"---- \", k, \"-----\")\n",
    "    print(f\"Length:{len(ds_dict['subclasses'])}\")\n",
    "    print(f\"Percent from minority classes:{ds_dict['is_minority'].mean():0.3f}\")"
   ]
  },
  {
   "cell_type": "markdown",
   "id": "b98f2c63",
   "metadata": {},
   "source": [
    "## Train the base model"
   ]
  },
  {
   "cell_type": "code",
   "execution_count": 41,
   "id": "0601415e",
   "metadata": {},
   "outputs": [],
   "source": [
    "loaders = {\n",
    "    k: torch.utils.data.DataLoader(dataset_splits[k]['ds'], batch_size=hparams['batch_size'], \n",
    "                                   shuffle=(k=='train'), drop_last=(k=='train'))\n",
    "    for k in dataset_splits.keys()\n",
    "}"
   ]
  },
  {
   "cell_type": "code",
   "execution_count": 42,
   "id": "73c80ea0",
   "metadata": {},
   "outputs": [],
   "source": [
    "def train_model(train_loader, val_loader, exp_name):\n",
    "    build_fn = failure_directions.model_utils.BUILD_FUNCTIONS[hparams['arch_type']]\n",
    "    model = build_fn(hparams['arch'], hparams['num_classes'])\n",
    "    model = model.cuda()\n",
    "\n",
    "    training_args=hparams['training']\n",
    "    training_args['iters_per_epoch'] = len(train_loader)\n",
    "    trainer = failure_directions.LightWeightTrainer(training_args=hparams['training'],\n",
    "                                                    exp_name=exp_name, enable_logging=True,\n",
    "                                                    bce=False, set_device=True)\n",
    "    trainer.fit(model, train_loader, val_loader)\n",
    "    return model\n",
    "\n",
    "def evaluate_model(model, loader):\n",
    "    with torch.no_grad():\n",
    "        with autocast():\n",
    "            gts, preds, confs = [], [], []\n",
    "            for x, y, _ in tqdm(loader):\n",
    "                x = x.cuda()\n",
    "                logits = model(x)\n",
    "                gts.append(y.cpu())\n",
    "                preds.append(logits.argmax(-1).cpu())\n",
    "                softmax_logits = nn.Softmax(dim=-1)(logits)\n",
    "                confs.append(softmax_logits[torch.arange(logits.shape[0]), y].cpu())\n",
    "    gts = torch.cat(gts).numpy()\n",
    "    preds = torch.cat(preds).numpy()\n",
    "    confs = torch.cat(confs).numpy()\n",
    "    return {\n",
    "        'gt': gts, \n",
    "        'preds': preds, \n",
    "        'confs': confs\n",
    "    }"
   ]
  },
  {
   "cell_type": "markdown",
   "id": "b2f27505",
   "metadata": {},
   "source": [
    "if you've already trained the model just load it here by uncommenting this cell\n"
   ]
  },
  {
   "cell_type": "code",
   "execution_count": 11,
   "id": "61cb9ef8",
   "metadata": {},
   "outputs": [],
   "source": [
    "# build_fn = failure_directions.model_utils.BUILD_FUNCTIONS[hparams['arch_type']]\n",
    "# path = \"runs/base/version_0/checkpoints/checkpoint_last.pt\"\n",
    "# model = failure_directions.model_utils.load_model(path, build_fn)\n",
    "# model = model.cuda()\n"
   ]
  },
  {
   "cell_type": "markdown",
   "id": "6201c411",
   "metadata": {},
   "source": [
    "otherwise train it here by running this cell"
   ]
  },
  {
   "cell_type": "code",
   "execution_count": null,
   "id": "b86ef52e",
   "metadata": {},
   "outputs": [],
   "source": [
    "# or train it here\n",
    "model = train_model(loaders['train'], loaders['val'], exp_name='base')"
   ]
  },
  {
   "cell_type": "markdown",
   "id": "6d3cc8a0",
   "metadata": {},
   "source": [
    "evaluate model and check accuracy on the minority population"
   ]
  },
  {
   "cell_type": "code",
   "execution_count": 44,
   "id": "9d3ad261",
   "metadata": {},
   "outputs": [
    {
     "name": "stderr",
     "output_type": "stream",
     "text": [
      "100%|██████████| 20/20 [00:01<00:00, 13.81it/s]\n"
     ]
    },
    {
     "name": "stdout",
     "output_type": "stream",
     "text": [
      "val || Overall 0.693\t Minority acc 0.457\n"
     ]
    },
    {
     "name": "stderr",
     "output_type": "stream",
     "text": [
      "100%|██████████| 40/40 [00:02<00:00, 13.87it/s]\n"
     ]
    },
    {
     "name": "stdout",
     "output_type": "stream",
     "text": [
      "unlabeled || Overall 0.688\t Minority acc 0.444\n"
     ]
    },
    {
     "name": "stderr",
     "output_type": "stream",
     "text": [
      "100%|██████████| 34/34 [00:02<00:00, 13.86it/s]\n"
     ]
    },
    {
     "name": "stdout",
     "output_type": "stream",
     "text": [
      "no_shuffle_train || Overall 0.994\t Minority acc 0.980\n"
     ]
    },
    {
     "name": "stderr",
     "output_type": "stream",
     "text": [
      "100%|██████████| 20/20 [00:01<00:00, 14.44it/s]"
     ]
    },
    {
     "name": "stdout",
     "output_type": "stream",
     "text": [
      "test || Overall 0.696\t Minority acc 0.434\n"
     ]
    },
    {
     "name": "stderr",
     "output_type": "stream",
     "text": [
      "\n"
     ]
    }
   ],
   "source": [
    "# evaluate\n",
    "model = model.eval()\n",
    "run_dict = {}\n",
    "for split, loader in loaders.items():\n",
    "    if split == 'train':\n",
    "        continue\n",
    "    out = evaluate_model(model, loader)\n",
    "    run_dict[split] = out\n",
    "    is_correct = out['gt'] == out['preds']\n",
    "    overall_acc = is_correct.mean()\n",
    "    subpop_acc = is_correct[dataset_splits[split]['is_minority']].mean()\n",
    "    print(f\"{split} || Overall {overall_acc:0.3f}\\t Minority acc {subpop_acc:0.3f}\")"
   ]
  },
  {
   "cell_type": "markdown",
   "id": "3085412d",
   "metadata": {},
   "source": [
    "## Get the clip features"
   ]
  },
  {
   "cell_type": "code",
   "execution_count": 45,
   "id": "cf4d3029",
   "metadata": {},
   "outputs": [
    {
     "name": "stderr",
     "output_type": "stream",
     "text": [
      "100%|██████████| 33/33 [00:05<00:00,  5.66it/s]\n",
      "100%|██████████| 20/20 [00:02<00:00,  7.43it/s]\n",
      "100%|██████████| 40/40 [00:05<00:00,  7.43it/s]\n",
      "100%|██████████| 34/34 [00:04<00:00,  7.42it/s]\n",
      "100%|██████████| 20/20 [00:02<00:00,  7.53it/s]\n"
     ]
    }
   ],
   "source": [
    "clip_processor = failure_directions.CLIPProcessor(ds_mean=hparams['mean'], ds_std=hparams['std'])\n",
    "clip_features = {}\n",
    "for split, loader in loaders.items():\n",
    "    if loader == 'train':\n",
    "        continue\n",
    "    clip_features[split] = clip_processor.evaluate_clip_images(loader)"
   ]
  },
  {
   "cell_type": "code",
   "execution_count": 46,
   "id": "66d540d3",
   "metadata": {
    "scrolled": true
   },
   "outputs": [
    {
     "name": "stdout",
     "output_type": "stream",
     "text": [
      "updating whitening\n"
     ]
    },
    {
     "name": "stderr",
     "output_type": "stream",
     "text": [
      "  0%|          | 0/20 [00:00<?, ?it/s]\n",
      "  0%|          | 0/7 [00:00<?, ?it/s]\u001b[A\n",
      " 29%|██▊       | 2/7 [00:00<00:00, 17.75it/s]\u001b[A\n",
      " 57%|█████▋    | 4/7 [00:00<00:00, 17.97it/s]\u001b[A\n",
      "100%|██████████| 7/7 [00:00<00:00, 18.84it/s]\u001b[A\n",
      "  5%|▌         | 1/20 [00:00<00:07,  2.68it/s]\n",
      "  0%|          | 0/7 [00:00<?, ?it/s]\u001b[A\n",
      " 29%|██▊       | 2/7 [00:00<00:00, 17.69it/s]\u001b[A\n",
      " 57%|█████▋    | 4/7 [00:00<00:00, 17.60it/s]\u001b[A\n",
      "100%|██████████| 7/7 [00:00<00:00, 17.85it/s]\u001b[A\n",
      " 10%|█         | 2/20 [00:00<00:06,  2.60it/s]\n",
      "  0%|          | 0/7 [00:00<?, ?it/s]\u001b[A\n",
      " 29%|██▊       | 2/7 [00:00<00:00, 18.65it/s]\u001b[A\n",
      " 57%|█████▋    | 4/7 [00:00<00:00, 18.53it/s]\u001b[A\n",
      "100%|██████████| 7/7 [00:00<00:00, 19.35it/s]\u001b[A\n",
      " 15%|█▌        | 3/20 [00:01<00:06,  2.66it/s]\n",
      "  0%|          | 0/7 [00:00<?, ?it/s]\u001b[A\n",
      " 29%|██▊       | 2/7 [00:00<00:00, 18.28it/s]\u001b[A\n",
      " 57%|█████▋    | 4/7 [00:00<00:00, 18.18it/s]\u001b[A\n",
      "100%|██████████| 7/7 [00:00<00:00, 18.75it/s]\u001b[A\n",
      " 20%|██        | 4/20 [00:01<00:06,  2.66it/s]\n",
      "  0%|          | 0/7 [00:00<?, ?it/s]\u001b[A\n",
      " 29%|██▊       | 2/7 [00:00<00:00, 18.73it/s]\u001b[A\n",
      " 57%|█████▋    | 4/7 [00:00<00:00, 18.66it/s]\u001b[A\n",
      "100%|██████████| 7/7 [00:00<00:00, 20.11it/s]\u001b[A\n",
      " 25%|██▌       | 5/20 [00:01<00:05,  2.73it/s]\n",
      "  0%|          | 0/7 [00:00<?, ?it/s]\u001b[A\n",
      " 29%|██▊       | 2/7 [00:00<00:00, 18.40it/s]\u001b[A\n",
      " 57%|█████▋    | 4/7 [00:00<00:00, 18.38it/s]\u001b[A\n",
      "100%|██████████| 7/7 [00:00<00:00, 18.99it/s]\u001b[A\n",
      " 30%|███       | 6/20 [00:02<00:05,  2.72it/s]\n",
      "  0%|          | 0/7 [00:00<?, ?it/s]\u001b[A\n",
      " 29%|██▊       | 2/7 [00:00<00:00, 18.72it/s]\u001b[A\n",
      " 57%|█████▋    | 4/7 [00:00<00:00, 18.58it/s]\u001b[A\n",
      "100%|██████████| 7/7 [00:00<00:00, 19.21it/s]\u001b[A\n",
      " 35%|███▌      | 7/20 [00:02<00:04,  2.72it/s]\n",
      "  0%|          | 0/7 [00:00<?, ?it/s]\u001b[A\n",
      " 29%|██▊       | 2/7 [00:00<00:00, 18.55it/s]\u001b[A\n",
      " 57%|█████▋    | 4/7 [00:00<00:00, 18.45it/s]\u001b[A\n",
      "100%|██████████| 7/7 [00:00<00:00, 19.09it/s]\u001b[A\n",
      " 40%|████      | 8/20 [00:02<00:04,  2.72it/s]\n",
      "  0%|          | 0/7 [00:00<?, ?it/s]\u001b[A\n",
      " 29%|██▊       | 2/7 [00:00<00:00, 18.05it/s]\u001b[A\n",
      " 57%|█████▋    | 4/7 [00:00<00:00, 18.13it/s]\u001b[A\n",
      "100%|██████████| 7/7 [00:00<00:00, 18.94it/s]\u001b[A\n",
      " 45%|████▌     | 9/20 [00:03<00:04,  2.71it/s]\n",
      "  0%|          | 0/7 [00:00<?, ?it/s]\u001b[A\n",
      " 29%|██▊       | 2/7 [00:00<00:00, 18.91it/s]\u001b[A\n",
      " 57%|█████▋    | 4/7 [00:00<00:00, 18.83it/s]\u001b[A\n",
      "100%|██████████| 7/7 [00:00<00:00, 19.79it/s]\u001b[A\n",
      " 50%|█████     | 10/20 [00:03<00:03,  2.74it/s]\n",
      "  0%|          | 0/7 [00:00<?, ?it/s]\u001b[A\n",
      " 29%|██▊       | 2/7 [00:00<00:00, 18.88it/s]\u001b[A\n",
      " 57%|█████▋    | 4/7 [00:00<00:00, 18.84it/s]\u001b[A\n",
      "100%|██████████| 7/7 [00:00<00:00, 20.24it/s]\u001b[A\n",
      " 55%|█████▌    | 11/20 [00:04<00:03,  2.78it/s]\n",
      "  0%|          | 0/7 [00:00<?, ?it/s]\u001b[A\n",
      " 29%|██▊       | 2/7 [00:00<00:00, 18.67it/s]\u001b[A\n",
      " 57%|█████▋    | 4/7 [00:00<00:00, 18.55it/s]\u001b[A\n",
      "100%|██████████| 7/7 [00:00<00:00, 19.75it/s]\u001b[A\n",
      " 60%|██████    | 12/20 [00:04<00:02,  2.79it/s]\n",
      "  0%|          | 0/7 [00:00<?, ?it/s]\u001b[A\n",
      " 29%|██▊       | 2/7 [00:00<00:00, 18.06it/s]\u001b[A\n",
      " 57%|█████▋    | 4/7 [00:00<00:00, 18.03it/s]\u001b[A\n",
      "100%|██████████| 7/7 [00:00<00:00, 18.33it/s]\u001b[A\n",
      " 65%|██████▌   | 13/20 [00:04<00:02,  2.73it/s]\n",
      "  0%|          | 0/7 [00:00<?, ?it/s]\u001b[A\n",
      " 29%|██▊       | 2/7 [00:00<00:00, 18.19it/s]\u001b[A\n",
      " 57%|█████▋    | 4/7 [00:00<00:00, 18.23it/s]\u001b[A\n",
      "100%|██████████| 7/7 [00:00<00:00, 18.43it/s]\u001b[A\n",
      " 70%|███████   | 14/20 [00:05<00:02,  2.70it/s]\n",
      "  0%|          | 0/7 [00:00<?, ?it/s]\u001b[A\n",
      " 29%|██▊       | 2/7 [00:00<00:00, 18.96it/s]\u001b[A\n",
      " 57%|█████▋    | 4/7 [00:00<00:00, 18.83it/s]\u001b[A\n",
      "100%|██████████| 7/7 [00:00<00:00, 19.53it/s]\u001b[A\n",
      " 75%|███████▌  | 15/20 [00:05<00:01,  2.72it/s]\n",
      "  0%|          | 0/7 [00:00<?, ?it/s]\u001b[A\n",
      " 29%|██▊       | 2/7 [00:00<00:00, 18.01it/s]\u001b[A\n",
      " 57%|█████▋    | 4/7 [00:00<00:00, 18.06it/s]\u001b[A\n",
      "100%|██████████| 7/7 [00:00<00:00, 18.29it/s]\u001b[A\n",
      " 80%|████████  | 16/20 [00:05<00:01,  2.68it/s]\n",
      "  0%|          | 0/7 [00:00<?, ?it/s]\u001b[A\n",
      " 29%|██▊       | 2/7 [00:00<00:00, 18.13it/s]\u001b[A\n",
      " 57%|█████▋    | 4/7 [00:00<00:00, 18.10it/s]\u001b[A\n",
      "100%|██████████| 7/7 [00:00<00:00, 18.48it/s]\u001b[A\n",
      " 85%|████████▌ | 17/20 [00:06<00:01,  2.67it/s]\n",
      "  0%|          | 0/7 [00:00<?, ?it/s]\u001b[A\n",
      " 29%|██▊       | 2/7 [00:00<00:00, 19.59it/s]\u001b[A\n",
      " 57%|█████▋    | 4/7 [00:00<00:00, 19.47it/s]\u001b[A\n",
      "100%|██████████| 7/7 [00:00<00:00, 20.71it/s]\u001b[A\n",
      " 90%|█████████ | 18/20 [00:06<00:00,  2.74it/s]\n",
      "  0%|          | 0/7 [00:00<?, ?it/s]\u001b[A\n",
      " 29%|██▊       | 2/7 [00:00<00:00, 18.62it/s]\u001b[A\n",
      " 57%|█████▋    | 4/7 [00:00<00:00, 18.52it/s]\u001b[A\n",
      "100%|██████████| 7/7 [00:00<00:00, 19.25it/s]\u001b[A\n",
      " 95%|█████████▌| 19/20 [00:06<00:00,  2.74it/s]\n",
      "  0%|          | 0/7 [00:00<?, ?it/s]\u001b[A\n",
      " 29%|██▊       | 2/7 [00:00<00:00, 18.37it/s]\u001b[A\n",
      " 57%|█████▋    | 4/7 [00:00<00:00, 18.31it/s]\u001b[A\n",
      "100%|██████████| 7/7 [00:00<00:00, 18.81it/s]\u001b[A\n",
      "100%|██████████| 20/20 [00:07<00:00,  2.72it/s]\n"
     ]
    }
   ],
   "source": [
    "svm_fitter = failure_directions.SVMFitter()\n",
    "svm_fitter.set_preprocess(clip_features['train'])\n",
    "val_gts = run_dict['val']['gt']\n",
    "val_preds = run_dict['val']['preds']\n",
    "cv_scores = svm_fitter.fit(preds=val_preds, ys=val_gts, latents=clip_features['val'].numpy())"
   ]
  },
  {
   "cell_type": "code",
   "execution_count": 47,
   "id": "ae6fae3c",
   "metadata": {},
   "outputs": [
    {
     "name": "stderr",
     "output_type": "stream",
     "text": [
      "100%|██████████| 20/20 [00:00<00:00, 28.56it/s]\n",
      "100%|██████████| 20/20 [00:01<00:00, 14.26it/s]\n",
      "100%|██████████| 20/20 [00:01<00:00, 16.62it/s]\n",
      "100%|██████████| 20/20 [00:00<00:00, 28.45it/s]\n"
     ]
    }
   ],
   "source": [
    "svm_predictions = {}\n",
    "svm_decision_values = {}\n",
    "for split, loader in loaders.items():\n",
    "    if split == 'train':\n",
    "        continue\n",
    "    mask, dv = svm_fitter.predict(ys=run_dict[split]['gt'], latents=clip_features[split], compute_metrics=False)\n",
    "    svm_predictions[split] = mask\n",
    "    svm_decision_values[split] = dv"
   ]
  },
  {
   "cell_type": "markdown",
   "id": "aa286b1e",
   "metadata": {},
   "source": [
    "## Plot resulting how decision values correspond to minority population"
   ]
  },
  {
   "cell_type": "code",
   "execution_count": 48,
   "id": "07c2cf55",
   "metadata": {},
   "outputs": [],
   "source": [
    "def get_cdf(arr, xaxis):\n",
    "    return np.array([arr[:k].mean() for k in xaxis])\n",
    "\n",
    "confidence_cdfs = []\n",
    "dv_cdfs = []\n",
    "xaxis = np.arange(10, 500, 50)\n",
    "for c in range(hparams['num_classes']):\n",
    "    mask = run_dict['test']['gt'] == c\n",
    "    confs = run_dict['test']['confs'][mask]\n",
    "    dv = svm_decision_values['test'][mask]\n",
    "    minority = dataset_splits['test']['is_minority'][mask]\n",
    "    \n",
    "    conf_order = minority[np.argsort(confs)]\n",
    "    dv_order = minority[np.argsort(dv)]\n",
    "    confidence_cdfs.append(get_cdf(conf_order, xaxis))\n",
    "    dv_cdfs.append(get_cdf(dv_order, xaxis))\n",
    "    \n",
    "confidence_cdfs = np.stack(confidence_cdfs).mean(0)\n",
    "dv_cdfs = np.stack(dv_cdfs).mean(0)\n",
    "\n",
    "    "
   ]
  },
  {
   "cell_type": "code",
   "execution_count": 49,
   "id": "2ec49560",
   "metadata": {},
   "outputs": [
    {
     "data": {
      "text/plain": [
       "Text(0, 0.5, 'Fraction Minority Subclass')"
      ]
     },
     "execution_count": 49,
     "metadata": {},
     "output_type": "execute_result"
    },
    {
     "data": {
      "image/png": "[encoded data removed]",
      "text/plain": [
       "<Figure size 432x288 with 1 Axes>"
      ]
     },
     "metadata": {},
     "output_type": "display_data"
    }
   ],
   "source": [
    "sns.lineplot(x=xaxis, y=confidence_cdfs, label='Confidence')\n",
    "sns.lineplot(x=xaxis, y=dv_cdfs, label='SVM Decision Value')\n",
    "plt.xlabel(\"Top K Flagged\")\n",
    "plt.ylabel(\"Fraction Minority Subclass\")"
   ]
  },
  {
   "cell_type": "markdown",
   "id": "185063b0",
   "metadata": {},
   "source": [
    "## Intervention"
   ]
  },
  {
   "cell_type": "code",
   "execution_count": 50,
   "id": "c192c38b",
   "metadata": {},
   "outputs": [],
   "source": [
    "K_TO_ADD = 75 # vary between 25 and 100. in the paper, this was done over 5 runs, just doing one here"
   ]
  },
  {
   "cell_type": "code",
   "execution_count": 51,
   "id": "1023e08f",
   "metadata": {},
   "outputs": [],
   "source": [
    "extra_data_values = {\n",
    "    'confidence': run_dict['unlabeled']['confs'],\n",
    "    'SVM': svm_decision_values['unlabeled'],\n",
    "    'random': np.random.random(len(run_dict['unlabeled']['confs'])),\n",
    "}\n",
    "extra_data_targets = dataset_splits['unlabeled']['classes']\n",
    "extra_data_indices = indices_dict['unlabeled_indices']\n",
    "extra_minority_indices = dataset_splits['unlabeled']['is_minority']"
   ]
  },
  {
   "cell_type": "code",
   "execution_count": 52,
   "id": "0bb76942",
   "metadata": {},
   "outputs": [],
   "source": [
    "extra_selected_indices = {k: [indices_dict['train_indices']] for k in extra_data_values.keys()}\n",
    "for c in range(hparams['num_classes']):\n",
    "    mask = extra_data_targets == c\n",
    "    for k, vals in extra_data_values.items():\n",
    "        candidate_indices = extra_data_indices[mask]\n",
    "        candidate_indices = candidate_indices[np.argsort(vals[mask])][:K_TO_ADD]\n",
    "        extra_selected_indices[k].append(candidate_indices)\n",
    "extra_selected_indices = {k: torch.cat(v) for k, v in extra_selected_indices.items()}"
   ]
  },
  {
   "cell_type": "code",
   "execution_count": 30,
   "id": "9f7ded08",
   "metadata": {
    "scrolled": false
   },
   "outputs": [
    {
     "name": "stdout",
     "output_type": "stream",
     "text": [
      "logging in  runs/confidence/version_0\n"
     ]
    },
    {
     "name": "stderr",
     "output_type": "stream",
     "text": [
      "Train Epoch: 0: 100%|██████████| 36/36 [00:04<00:00,  7.33it/s, loss=2.49, acc=0.252]\n",
      "Val Epoch: 0: 100%|██████████| 20/20 [00:01<00:00, 13.77it/s, loss=4.38, acc=0.129] \n"
     ]
    },
    {
     "name": "stdout",
     "output_type": "stream",
     "text": [
      "LR: 0.1, Train Loss: 2.7858, Train Acc: 0.1565, Val Loss: 7.1540, Val Acc: 0.0820\n"
     ]
    },
    {
     "name": "stderr",
     "output_type": "stream",
     "text": [
      "Train Epoch: 1: 100%|██████████| 36/36 [00:04<00:00,  7.33it/s, loss=2.51, acc=0.254]\n",
      "Val Epoch: 1: 100%|██████████| 20/20 [00:01<00:00, 13.78it/s, loss=2.28, acc=0.368] \n"
     ]
    },
    {
     "name": "stdout",
     "output_type": "stream",
     "text": [
      "LR: 0.2, Train Loss: 2.5223, Train Acc: 0.2353, Val Loss: 2.4916, Val Acc: 0.2346\n"
     ]
    },
    {
     "name": "stderr",
     "output_type": "stream",
     "text": [
      "Train Epoch: 2: 100%|██████████| 36/36 [00:05<00:00,  6.95it/s, loss=2.39, acc=0.26] \n",
      "Val Epoch: 2: 100%|██████████| 20/20 [00:01<00:00, 13.78it/s, loss=2.46, acc=0.188]  \n"
     ]
    },
    {
     "name": "stdout",
     "output_type": "stream",
     "text": [
      "LR: 0.3, Train Loss: 2.3965, Train Acc: 0.2694, Val Loss: 2.4335, Val Acc: 0.2661\n"
     ]
    },
    {
     "name": "stderr",
     "output_type": "stream",
     "text": [
      "Train Epoch: 3: 100%|██████████| 36/36 [00:04<00:00,  7.32it/s, loss=2.22, acc=0.307]\n",
      "Val Epoch: 3: 100%|██████████| 20/20 [00:01<00:00, 13.83it/s, loss=2.57, acc=0.0662]\n"
     ]
    },
    {
     "name": "stdout",
     "output_type": "stream",
     "text": [
      "LR: 0.4, Train Loss: 2.2809, Train Acc: 0.2982, Val Loss: 2.3763, Val Acc: 0.2809\n"
     ]
    },
    {
     "name": "stderr",
     "output_type": "stream",
     "text": [
      "Train Epoch: 4: 100%|██████████| 36/36 [00:04<00:00,  7.32it/s, loss=2.16, acc=0.334]\n",
      "Val Epoch: 4: 100%|██████████| 20/20 [00:01<00:00, 13.72it/s, loss=2.5, acc=0.0919] \n"
     ]
    },
    {
     "name": "stdout",
     "output_type": "stream",
     "text": [
      "LR: 0.5, Train Loss: 2.2161, Train Acc: 0.3191, Val Loss: 2.4028, Val Acc: 0.2630\n"
     ]
    },
    {
     "name": "stderr",
     "output_type": "stream",
     "text": [
      "Train Epoch: 5: 100%|██████████| 36/36 [00:04<00:00,  7.34it/s, loss=2.02, acc=0.354]\n",
      "Val Epoch: 5: 100%|██████████| 20/20 [00:01<00:00, 13.75it/s, loss=2.23, acc=0.349]\n"
     ]
    },
    {
     "name": "stdout",
     "output_type": "stream",
     "text": [
      "LR: 0.48333333333333334, Train Loss: 2.1000, Train Acc: 0.3503, Val Loss: 2.0946, Val Acc: 0.3456\n"
     ]
    },
    {
     "name": "stderr",
     "output_type": "stream",
     "text": [
      "Train Epoch: 6: 100%|██████████| 36/36 [00:04<00:00,  7.31it/s, loss=1.91, acc=0.396]\n",
      "Val Epoch: 6: 100%|██████████| 20/20 [00:01<00:00, 13.77it/s, loss=2.07, acc=0.357]\n"
     ]
    },
    {
     "name": "stdout",
     "output_type": "stream",
     "text": [
      "LR: 0.4666666666666667, Train Loss: 1.9728, Train Acc: 0.3836, Val Loss: 2.0226, Val Acc: 0.3692\n"
     ]
    },
    {
     "name": "stderr",
     "output_type": "stream",
     "text": [
      "Train Epoch: 7: 100%|██████████| 36/36 [00:04<00:00,  7.31it/s, loss=1.82, acc=0.445]\n",
      "Val Epoch: 7: 100%|██████████| 20/20 [00:01<00:00, 13.74it/s, loss=2.69, acc=0.0735]\n"
     ]
    },
    {
     "name": "stdout",
     "output_type": "stream",
     "text": [
      "LR: 0.45, Train Loss: 1.8674, Train Acc: 0.4206, Val Loss: 1.9545, Val Acc: 0.3880\n"
     ]
    },
    {
     "name": "stderr",
     "output_type": "stream",
     "text": [
      "Train Epoch: 8: 100%|██████████| 36/36 [00:04<00:00,  7.29it/s, loss=1.78, acc=0.434]\n",
      "Val Epoch: 8: 100%|██████████| 20/20 [00:01<00:00, 13.77it/s, loss=2.1, acc=0.305] \n"
     ]
    },
    {
     "name": "stdout",
     "output_type": "stream",
     "text": [
      "LR: 0.43333333333333335, Train Loss: 1.7816, Train Acc: 0.4435, Val Loss: 1.8490, Val Acc: 0.4217\n"
     ]
    },
    {
     "name": "stderr",
     "output_type": "stream",
     "text": [
      "Train Epoch: 9: 100%|██████████| 36/36 [00:04<00:00,  7.33it/s, loss=1.63, acc=0.473]\n",
      "Val Epoch: 9: 100%|██████████| 20/20 [00:01<00:00, 13.82it/s, loss=2.07, acc=0.408]\n"
     ]
    },
    {
     "name": "stdout",
     "output_type": "stream",
     "text": [
      "LR: 0.41666666666666663, Train Loss: 1.6957, Train Acc: 0.4734, Val Loss: 1.8723, Val Acc: 0.4156\n"
     ]
    },
    {
     "name": "stderr",
     "output_type": "stream",
     "text": [
      "Train Epoch: 10: 100%|██████████| 36/36 [00:04<00:00,  7.30it/s, loss=1.63, acc=0.463]\n",
      "Val Epoch: 10: 100%|██████████| 20/20 [00:01<00:00, 13.75it/s, loss=1.89, acc=0.382] \n"
     ]
    },
    {
     "name": "stdout",
     "output_type": "stream",
     "text": [
      "LR: 0.4, Train Loss: 1.5904, Train Acc: 0.4972, Val Loss: 1.7774, Val Acc: 0.4553\n"
     ]
    },
    {
     "name": "stderr",
     "output_type": "stream",
     "text": [
      "Train Epoch: 11: 100%|██████████| 36/36 [00:04<00:00,  7.32it/s, loss=1.5, acc=0.545] \n",
      "Val Epoch: 11: 100%|██████████| 20/20 [00:01<00:00, 13.74it/s, loss=1.68, acc=0.43]  \n"
     ]
    },
    {
     "name": "stdout",
     "output_type": "stream",
     "text": [
      "LR: 0.3833333333333333, Train Loss: 1.5103, Train Acc: 0.5252, Val Loss: 1.5945, Val Acc: 0.5013\n"
     ]
    },
    {
     "name": "stderr",
     "output_type": "stream",
     "text": [
      "Train Epoch: 12: 100%|██████████| 36/36 [00:04<00:00,  7.33it/s, loss=1.41, acc=0.555]\n",
      "Val Epoch: 12: 100%|██████████| 20/20 [00:01<00:00, 13.77it/s, loss=1.81, acc=0.357] \n"
     ]
    },
    {
     "name": "stdout",
     "output_type": "stream",
     "text": [
      "LR: 0.3666666666666667, Train Loss: 1.4247, Train Acc: 0.5490, Val Loss: 1.6739, Val Acc: 0.4827\n"
     ]
    },
    {
     "name": "stderr",
     "output_type": "stream",
     "text": [
      "Train Epoch: 13: 100%|██████████| 36/36 [00:04<00:00,  7.31it/s, loss=1.36, acc=0.574]\n",
      "Val Epoch: 13: 100%|██████████| 20/20 [00:01<00:00, 13.78it/s, loss=2.38, acc=0.342]\n"
     ]
    },
    {
     "name": "stdout",
     "output_type": "stream",
     "text": [
      "LR: 0.35, Train Loss: 1.3688, Train Acc: 0.5648, Val Loss: 1.7812, Val Acc: 0.4644\n"
     ]
    },
    {
     "name": "stderr",
     "output_type": "stream",
     "text": [
      "Train Epoch: 14: 100%|██████████| 36/36 [00:04<00:00,  7.31it/s, loss=1.33, acc=0.588]\n",
      "Val Epoch: 14: 100%|██████████| 20/20 [00:01<00:00, 13.75it/s, loss=2.03, acc=0.312] \n"
     ]
    },
    {
     "name": "stdout",
     "output_type": "stream",
     "text": [
      "LR: 0.3333333333333333, Train Loss: 1.2970, Train Acc: 0.5923, Val Loss: 1.7788, Val Acc: 0.4667\n"
     ]
    },
    {
     "name": "stderr",
     "output_type": "stream",
     "text": [
      "Train Epoch: 15: 100%|██████████| 36/36 [00:04<00:00,  7.35it/s, loss=1.2, acc=0.617] \n",
      "Val Epoch: 15: 100%|██████████| 20/20 [00:01<00:00, 13.75it/s, loss=1.24, acc=0.471] \n"
     ]
    },
    {
     "name": "stdout",
     "output_type": "stream",
     "text": [
      "LR: 0.31666666666666665, Train Loss: 1.2316, Train Acc: 0.6058, Val Loss: 1.6147, Val Acc: 0.5141\n"
     ]
    },
    {
     "name": "stderr",
     "output_type": "stream",
     "text": [
      "Train Epoch: 16: 100%|██████████| 36/36 [00:04<00:00,  7.33it/s, loss=1.16, acc=0.611]\n",
      "Val Epoch: 16: 100%|██████████| 20/20 [00:01<00:00, 13.75it/s, loss=1.77, acc=0.445] \n"
     ]
    },
    {
     "name": "stdout",
     "output_type": "stream",
     "text": [
      "LR: 0.3, Train Loss: 1.1585, Train Acc: 0.6336, Val Loss: 1.4430, Val Acc: 0.5451\n"
     ]
    },
    {
     "name": "stderr",
     "output_type": "stream",
     "text": [
      "Train Epoch: 17: 100%|██████████| 36/36 [00:04<00:00,  7.34it/s, loss=1.12, acc=0.645]\n",
      "Val Epoch: 17: 100%|██████████| 20/20 [00:01<00:00, 13.84it/s, loss=1.26, acc=0.559] \n"
     ]
    },
    {
     "name": "stdout",
     "output_type": "stream",
     "text": [
      "LR: 0.2833333333333333, Train Loss: 1.0989, Train Acc: 0.6491, Val Loss: 1.3751, Val Acc: 0.5694\n"
     ]
    },
    {
     "name": "stderr",
     "output_type": "stream",
     "text": [
      "Train Epoch: 18: 100%|██████████| 36/36 [00:04<00:00,  7.34it/s, loss=0.977, acc=0.682]\n",
      "Val Epoch: 18: 100%|██████████| 20/20 [00:01<00:00, 13.77it/s, loss=1.66, acc=0.489] \n"
     ]
    },
    {
     "name": "stdout",
     "output_type": "stream",
     "text": [
      "LR: 0.26666666666666666, Train Loss: 1.0510, Train Acc: 0.6669, Val Loss: 1.3756, Val Acc: 0.5740\n"
     ]
    },
    {
     "name": "stderr",
     "output_type": "stream",
     "text": [
      "Train Epoch: 19: 100%|██████████| 36/36 [00:04<00:00,  7.31it/s, loss=1.08, acc=0.65]  \n",
      "Val Epoch: 19: 100%|██████████| 20/20 [00:01<00:00, 13.78it/s, loss=1.97, acc=0.346] \n"
     ]
    },
    {
     "name": "stdout",
     "output_type": "stream",
     "text": [
      "LR: 0.25, Train Loss: 0.9752, Train Acc: 0.6894, Val Loss: 1.4947, Val Acc: 0.5459\n"
     ]
    },
    {
     "name": "stderr",
     "output_type": "stream",
     "text": [
      "Train Epoch: 20: 100%|██████████| 36/36 [00:04<00:00,  7.33it/s, loss=0.877, acc=0.709]\n",
      "Val Epoch: 20: 100%|██████████| 20/20 [00:01<00:00, 13.79it/s, loss=1.57, acc=0.533] \n"
     ]
    },
    {
     "name": "stdout",
     "output_type": "stream",
     "text": [
      "LR: 0.23333333333333334, Train Loss: 0.9282, Train Acc: 0.7023, Val Loss: 1.3639, Val Acc: 0.5741\n"
     ]
    },
    {
     "name": "stderr",
     "output_type": "stream",
     "text": [
      "Train Epoch: 21: 100%|██████████| 36/36 [00:04<00:00,  7.32it/s, loss=1.02, acc=0.688] \n",
      "Val Epoch: 21: 100%|██████████| 20/20 [00:01<00:00, 13.79it/s, loss=2.24, acc=0.338] \n"
     ]
    },
    {
     "name": "stdout",
     "output_type": "stream",
     "text": [
      "LR: 0.21666666666666667, Train Loss: 0.8617, Train Acc: 0.7253, Val Loss: 1.4468, Val Acc: 0.5718\n"
     ]
    },
    {
     "name": "stderr",
     "output_type": "stream",
     "text": [
      "Train Epoch: 22: 100%|██████████| 36/36 [00:04<00:00,  7.31it/s, loss=0.786, acc=0.758]\n",
      "Val Epoch: 22: 100%|██████████| 20/20 [00:01<00:00, 13.78it/s, loss=1.09, acc=0.658] \n"
     ]
    },
    {
     "name": "stdout",
     "output_type": "stream",
     "text": [
      "LR: 0.2, Train Loss: 0.8106, Train Acc: 0.7407, Val Loss: 1.2517, Val Acc: 0.6064\n"
     ]
    },
    {
     "name": "stderr",
     "output_type": "stream",
     "text": [
      "Train Epoch: 23: 100%|██████████| 36/36 [00:04<00:00,  7.33it/s, loss=0.786, acc=0.719]\n",
      "Val Epoch: 23: 100%|██████████| 20/20 [00:01<00:00, 13.78it/s, loss=1.55, acc=0.529] \n"
     ]
    },
    {
     "name": "stdout",
     "output_type": "stream",
     "text": [
      "LR: 0.18333333333333335, Train Loss: 0.7541, Train Acc: 0.7560, Val Loss: 1.3384, Val Acc: 0.5988\n"
     ]
    },
    {
     "name": "stderr",
     "output_type": "stream",
     "text": [
      "Train Epoch: 24: 100%|██████████| 36/36 [00:04<00:00,  7.31it/s, loss=0.6, acc=0.812]  \n",
      "Val Epoch: 24: 100%|██████████| 20/20 [00:01<00:00, 13.77it/s, loss=1.37, acc=0.548] \n"
     ]
    },
    {
     "name": "stdout",
     "output_type": "stream",
     "text": [
      "LR: 0.16666666666666663, Train Loss: 0.6934, Train Acc: 0.7748, Val Loss: 1.2468, Val Acc: 0.6308\n"
     ]
    },
    {
     "name": "stderr",
     "output_type": "stream",
     "text": [
      "Train Epoch: 25: 100%|██████████| 36/36 [00:04<00:00,  7.33it/s, loss=0.656, acc=0.781]\n",
      "Val Epoch: 25: 100%|██████████| 20/20 [00:01<00:00, 13.80it/s, loss=2, acc=0.412]    \n"
     ]
    },
    {
     "name": "stdout",
     "output_type": "stream",
     "text": [
      "LR: 0.14999999999999997, Train Loss: 0.6195, Train Acc: 0.7971, Val Loss: 1.2310, Val Acc: 0.6351\n"
     ]
    },
    {
     "name": "stderr",
     "output_type": "stream",
     "text": [
      "Train Epoch: 26: 100%|██████████| 36/36 [00:04<00:00,  7.33it/s, loss=0.525, acc=0.826]\n",
      "Val Epoch: 26: 100%|██████████| 20/20 [00:01<00:00, 13.77it/s, loss=1.17, acc=0.607] \n"
     ]
    },
    {
     "name": "stdout",
     "output_type": "stream",
     "text": [
      "LR: 0.1333333333333333, Train Loss: 0.5465, Train Acc: 0.8204, Val Loss: 1.2139, Val Acc: 0.6493\n"
     ]
    },
    {
     "name": "stderr",
     "output_type": "stream",
     "text": [
      "Train Epoch: 27: 100%|██████████| 36/36 [00:04<00:00,  7.37it/s, loss=0.549, acc=0.818]\n",
      "Val Epoch: 27: 100%|██████████| 20/20 [00:01<00:00, 13.75it/s, loss=1.06, acc=0.676]\n"
     ]
    },
    {
     "name": "stdout",
     "output_type": "stream",
     "text": [
      "LR: 0.11666666666666664, Train Loss: 0.4866, Train Acc: 0.8426, Val Loss: 1.2257, Val Acc: 0.6562\n"
     ]
    },
    {
     "name": "stderr",
     "output_type": "stream",
     "text": [
      "Train Epoch: 28: 100%|██████████| 36/36 [00:04<00:00,  7.35it/s, loss=0.364, acc=0.879]\n",
      "Val Epoch: 28: 100%|██████████| 20/20 [00:01<00:00, 13.77it/s, loss=0.923, acc=0.721]\n"
     ]
    },
    {
     "name": "stdout",
     "output_type": "stream",
     "text": [
      "LR: 0.09999999999999998, Train Loss: 0.4069, Train Acc: 0.8635, Val Loss: 1.3236, Val Acc: 0.6361\n"
     ]
    },
    {
     "name": "stderr",
     "output_type": "stream",
     "text": [
      "Train Epoch: 29: 100%|██████████| 36/36 [00:04<00:00,  7.36it/s, loss=0.328, acc=0.896]\n",
      "Val Epoch: 29: 100%|██████████| 20/20 [00:01<00:00, 13.78it/s, loss=1.52, acc=0.562] \n"
     ]
    },
    {
     "name": "stdout",
     "output_type": "stream",
     "text": [
      "LR: 0.08333333333333331, Train Loss: 0.3400, Train Acc: 0.8886, Val Loss: 1.2470, Val Acc: 0.6567\n"
     ]
    },
    {
     "name": "stderr",
     "output_type": "stream",
     "text": [
      "Train Epoch: 30: 100%|██████████| 36/36 [00:04<00:00,  7.33it/s, loss=0.286, acc=0.9]  \n",
      "Val Epoch: 30: 100%|██████████| 20/20 [00:01<00:00, 13.76it/s, loss=1.47, acc=0.603] \n"
     ]
    },
    {
     "name": "stdout",
     "output_type": "stream",
     "text": [
      "LR: 0.06666666666666665, Train Loss: 0.2687, Train Acc: 0.9117, Val Loss: 1.2896, Val Acc: 0.6574\n"
     ]
    },
    {
     "name": "stderr",
     "output_type": "stream",
     "text": [
      "Train Epoch: 31: 100%|██████████| 36/36 [00:04<00:00,  7.33it/s, loss=0.187, acc=0.938]\n",
      "Val Epoch: 31: 100%|██████████| 20/20 [00:01<00:00, 13.83it/s, loss=1.27, acc=0.643] \n"
     ]
    },
    {
     "name": "stdout",
     "output_type": "stream",
     "text": [
      "LR: 0.04999999999999999, Train Loss: 0.2028, Train Acc: 0.9363, Val Loss: 1.1678, Val Acc: 0.6902\n"
     ]
    },
    {
     "name": "stderr",
     "output_type": "stream",
     "text": [
      "Train Epoch: 32: 100%|██████████| 36/36 [00:04<00:00,  7.33it/s, loss=0.122, acc=0.961]\n",
      "Val Epoch: 32: 100%|██████████| 20/20 [00:01<00:00, 13.74it/s, loss=1.35, acc=0.64]  \n"
     ]
    },
    {
     "name": "stdout",
     "output_type": "stream",
     "text": [
      "LR: 0.033333333333333326, Train Loss: 0.1387, Train Acc: 0.9607, Val Loss: 1.1687, Val Acc: 0.6929\n"
     ]
    },
    {
     "name": "stderr",
     "output_type": "stream",
     "text": [
      "Train Epoch: 33: 100%|██████████| 36/36 [00:04<00:00,  7.32it/s, loss=0.0879, acc=0.977]\n",
      "Val Epoch: 33: 100%|██████████| 20/20 [00:01<00:00, 13.78it/s, loss=1.09, acc=0.688] \n"
     ]
    },
    {
     "name": "stdout",
     "output_type": "stream",
     "text": [
      "LR: 0.016666666666666663, Train Loss: 0.0961, Train Acc: 0.9754, Val Loss: 1.1412, Val Acc: 0.7049\n"
     ]
    },
    {
     "name": "stderr",
     "output_type": "stream",
     "text": [
      "Train Epoch: 34: 100%|██████████| 36/36 [00:04<00:00,  7.32it/s, loss=0.0767, acc=0.982]\n",
      "Val Epoch: 34: 100%|██████████| 20/20 [00:01<00:00, 13.75it/s, loss=1.2, acc=0.665]  \n"
     ]
    },
    {
     "name": "stdout",
     "output_type": "stream",
     "text": [
      "LR: 0.0, Train Loss: 0.0750, Train Acc: 0.9822, Val Loss: 1.1341, Val Acc: 0.7104\n"
     ]
    },
    {
     "name": "stderr",
     "output_type": "stream",
     "text": [
      "100%|██████████| 20/20 [00:01<00:00, 14.12it/s]\n"
     ]
    },
    {
     "name": "stdout",
     "output_type": "stream",
     "text": [
      "confidence 0.4985\n",
      "logging in  runs/SVM/version_0\n"
     ]
    },
    {
     "name": "stderr",
     "output_type": "stream",
     "text": [
      "Train Epoch: 0: 100%|██████████| 36/36 [00:04<00:00,  7.34it/s, loss=2.56, acc=0.215]\n",
      "Val Epoch: 0: 100%|██████████| 20/20 [00:01<00:00, 13.74it/s, loss=6.12, acc=0]      \n"
     ]
    },
    {
     "name": "stdout",
     "output_type": "stream",
     "text": [
      "LR: 0.1, Train Loss: 2.8522, Train Acc: 0.1444, Val Loss: 9.4503, Val Acc: 0.0802\n"
     ]
    },
    {
     "name": "stderr",
     "output_type": "stream",
     "text": [
      "Train Epoch: 1: 100%|██████████| 36/36 [00:04<00:00,  7.28it/s, loss=2.45, acc=0.242]\n",
      "Val Epoch: 1: 100%|██████████| 20/20 [00:01<00:00, 13.70it/s, loss=2.8, acc=0.143]  \n"
     ]
    },
    {
     "name": "stdout",
     "output_type": "stream",
     "text": [
      "LR: 0.2, Train Loss: 2.5346, Train Acc: 0.2224, Val Loss: 2.8268, Val Acc: 0.1722\n"
     ]
    },
    {
     "name": "stderr",
     "output_type": "stream",
     "text": [
      "Train Epoch: 2: 100%|██████████| 36/36 [00:04<00:00,  7.33it/s, loss=2.36, acc=0.271]\n",
      "Val Epoch: 2: 100%|██████████| 20/20 [00:01<00:00, 13.70it/s, loss=2.42, acc=0.103] \n"
     ]
    },
    {
     "name": "stdout",
     "output_type": "stream",
     "text": [
      "LR: 0.3, Train Loss: 2.4217, Train Acc: 0.2497, Val Loss: 2.4289, Val Acc: 0.2563\n"
     ]
    },
    {
     "name": "stderr",
     "output_type": "stream",
     "text": [
      "Train Epoch: 3: 100%|██████████| 36/36 [00:04<00:00,  7.32it/s, loss=2.23, acc=0.316]\n",
      "Val Epoch: 3: 100%|██████████| 20/20 [00:01<00:00, 13.81it/s, loss=1.57, acc=0.353] \n"
     ]
    },
    {
     "name": "stdout",
     "output_type": "stream",
     "text": [
      "LR: 0.4, Train Loss: 2.2792, Train Acc: 0.2953, Val Loss: 2.5394, Val Acc: 0.2528\n"
     ]
    },
    {
     "name": "stderr",
     "output_type": "stream",
     "text": [
      "Train Epoch: 4: 100%|██████████| 36/36 [00:04<00:00,  7.30it/s, loss=2.15, acc=0.326]\n",
      "Val Epoch: 4: 100%|██████████| 20/20 [00:01<00:00, 13.74it/s, loss=2.41, acc=0.147] \n"
     ]
    },
    {
     "name": "stdout",
     "output_type": "stream",
     "text": [
      "LR: 0.5, Train Loss: 2.1965, Train Acc: 0.3235, Val Loss: 2.1570, Val Acc: 0.3363\n"
     ]
    },
    {
     "name": "stderr",
     "output_type": "stream",
     "text": [
      "Train Epoch: 5: 100%|██████████| 36/36 [00:05<00:00,  6.96it/s, loss=2.15, acc=0.334]\n",
      "Val Epoch: 5: 100%|██████████| 20/20 [00:01<00:00, 13.76it/s, loss=1.54, acc=0.485] \n"
     ]
    },
    {
     "name": "stdout",
     "output_type": "stream",
     "text": [
      "LR: 0.48333333333333334, Train Loss: 2.0744, Train Acc: 0.3571, Val Loss: 2.1744, Val Acc: 0.3192\n"
     ]
    },
    {
     "name": "stderr",
     "output_type": "stream",
     "text": [
      "Train Epoch: 6: 100%|██████████| 36/36 [00:04<00:00,  7.30it/s, loss=1.88, acc=0.414]\n",
      "Val Epoch: 6: 100%|██████████| 20/20 [00:01<00:00, 13.73it/s, loss=3, acc=0.158]    \n"
     ]
    },
    {
     "name": "stdout",
     "output_type": "stream",
     "text": [
      "LR: 0.4666666666666667, Train Loss: 1.9616, Train Acc: 0.3856, Val Loss: 2.1912, Val Acc: 0.3404\n"
     ]
    },
    {
     "name": "stderr",
     "output_type": "stream",
     "text": [
      "Train Epoch: 7: 100%|██████████| 36/36 [00:04<00:00,  7.31it/s, loss=1.85, acc=0.424]\n",
      "Val Epoch: 7: 100%|██████████| 20/20 [00:01<00:00, 13.79it/s, loss=1.86, acc=0.412]\n"
     ]
    },
    {
     "name": "stdout",
     "output_type": "stream",
     "text": [
      "LR: 0.45, Train Loss: 1.8682, Train Acc: 0.4161, Val Loss: 2.0812, Val Acc: 0.3564\n"
     ]
    },
    {
     "name": "stderr",
     "output_type": "stream",
     "text": [
      "Train Epoch: 8: 100%|██████████| 36/36 [00:04<00:00,  7.32it/s, loss=1.7, acc=0.443] \n",
      "Val Epoch: 8: 100%|██████████| 20/20 [00:01<00:00, 13.76it/s, loss=2, acc=0.327]    \n"
     ]
    },
    {
     "name": "stdout",
     "output_type": "stream",
     "text": [
      "LR: 0.43333333333333335, Train Loss: 1.7746, Train Acc: 0.4400, Val Loss: 2.0006, Val Acc: 0.3802\n"
     ]
    },
    {
     "name": "stderr",
     "output_type": "stream",
     "text": [
      "Train Epoch: 9: 100%|██████████| 36/36 [00:04<00:00,  7.34it/s, loss=1.57, acc=0.506]\n",
      "Val Epoch: 9: 100%|██████████| 20/20 [00:01<00:00, 13.78it/s, loss=1.61, acc=0.463]\n"
     ]
    },
    {
     "name": "stdout",
     "output_type": "stream",
     "text": [
      "LR: 0.41666666666666663, Train Loss: 1.6742, Train Acc: 0.4692, Val Loss: 1.8647, Val Acc: 0.4254\n"
     ]
    },
    {
     "name": "stderr",
     "output_type": "stream",
     "text": [
      "Train Epoch: 10: 100%|██████████| 36/36 [00:04<00:00,  7.32it/s, loss=1.67, acc=0.467]\n",
      "Val Epoch: 10: 100%|██████████| 20/20 [00:01<00:00, 13.79it/s, loss=1.13, acc=0.632]\n"
     ]
    },
    {
     "name": "stdout",
     "output_type": "stream",
     "text": [
      "LR: 0.4, Train Loss: 1.5815, Train Acc: 0.4999, Val Loss: 1.7126, Val Acc: 0.4490\n"
     ]
    },
    {
     "name": "stderr",
     "output_type": "stream",
     "text": [
      "Train Epoch: 11: 100%|██████████| 36/36 [00:04<00:00,  7.33it/s, loss=1.46, acc=0.529]\n",
      "Val Epoch: 11: 100%|██████████| 20/20 [00:01<00:00, 13.80it/s, loss=2.32, acc=0.357]\n"
     ]
    },
    {
     "name": "stdout",
     "output_type": "stream",
     "text": [
      "LR: 0.3833333333333333, Train Loss: 1.4797, Train Acc: 0.5258, Val Loss: 1.8604, Val Acc: 0.4309\n"
     ]
    },
    {
     "name": "stderr",
     "output_type": "stream",
     "text": [
      "Train Epoch: 12: 100%|██████████| 36/36 [00:04<00:00,  7.31it/s, loss=1.4, acc=0.566] \n",
      "Val Epoch: 12: 100%|██████████| 20/20 [00:01<00:00, 13.75it/s, loss=1.71, acc=0.419]\n"
     ]
    },
    {
     "name": "stdout",
     "output_type": "stream",
     "text": [
      "LR: 0.3666666666666667, Train Loss: 1.3926, Train Acc: 0.5552, Val Loss: 1.6957, Val Acc: 0.4664\n"
     ]
    },
    {
     "name": "stderr",
     "output_type": "stream",
     "text": [
      "Train Epoch: 13: 100%|██████████| 36/36 [00:04<00:00,  7.31it/s, loss=1.34, acc=0.568]\n",
      "Val Epoch: 13: 100%|██████████| 20/20 [00:01<00:00, 13.76it/s, loss=2.07, acc=0.301] \n"
     ]
    },
    {
     "name": "stdout",
     "output_type": "stream",
     "text": [
      "LR: 0.35, Train Loss: 1.3047, Train Acc: 0.5775, Val Loss: 1.6541, Val Acc: 0.4763\n"
     ]
    },
    {
     "name": "stderr",
     "output_type": "stream",
     "text": [
      "Train Epoch: 14: 100%|██████████| 36/36 [00:04<00:00,  7.31it/s, loss=1.2, acc=0.617] \n",
      "Val Epoch: 14: 100%|██████████| 20/20 [00:01<00:00, 13.79it/s, loss=1.22, acc=0.544] \n"
     ]
    },
    {
     "name": "stdout",
     "output_type": "stream",
     "text": [
      "LR: 0.3333333333333333, Train Loss: 1.2329, Train Acc: 0.6025, Val Loss: 1.5446, Val Acc: 0.5223\n"
     ]
    },
    {
     "name": "stderr",
     "output_type": "stream",
     "text": [
      "Train Epoch: 15: 100%|██████████| 36/36 [00:04<00:00,  7.33it/s, loss=1.19, acc=0.646]\n",
      "Val Epoch: 15: 100%|██████████| 20/20 [00:01<00:00, 13.77it/s, loss=1.01, acc=0.651] \n"
     ]
    },
    {
     "name": "stdout",
     "output_type": "stream",
     "text": [
      "LR: 0.31666666666666665, Train Loss: 1.1463, Train Acc: 0.6311, Val Loss: 1.5522, Val Acc: 0.5250\n"
     ]
    },
    {
     "name": "stderr",
     "output_type": "stream",
     "text": [
      "Train Epoch: 16: 100%|██████████| 36/36 [00:04<00:00,  7.37it/s, loss=1.01, acc=0.67]  \n",
      "Val Epoch: 16: 100%|██████████| 20/20 [00:01<00:00, 13.75it/s, loss=1.61, acc=0.518] \n"
     ]
    },
    {
     "name": "stdout",
     "output_type": "stream",
     "text": [
      "LR: 0.3, Train Loss: 1.0740, Train Acc: 0.6545, Val Loss: 1.6012, Val Acc: 0.5309\n"
     ]
    },
    {
     "name": "stderr",
     "output_type": "stream",
     "text": [
      "Train Epoch: 17: 100%|██████████| 36/36 [00:04<00:00,  7.32it/s, loss=1.02, acc=0.682] \n",
      "Val Epoch: 17: 100%|██████████| 20/20 [00:01<00:00, 13.75it/s, loss=1.82, acc=0.419] \n"
     ]
    },
    {
     "name": "stdout",
     "output_type": "stream",
     "text": [
      "LR: 0.2833333333333333, Train Loss: 1.0206, Train Acc: 0.6700, Val Loss: 1.4996, Val Acc: 0.5379\n"
     ]
    },
    {
     "name": "stderr",
     "output_type": "stream",
     "text": [
      "Train Epoch: 18: 100%|██████████| 36/36 [00:04<00:00,  7.31it/s, loss=0.967, acc=0.682]\n",
      "Val Epoch: 18: 100%|██████████| 20/20 [00:01<00:00, 13.79it/s, loss=1.21, acc=0.654] \n"
     ]
    },
    {
     "name": "stdout",
     "output_type": "stream",
     "text": [
      "LR: 0.26666666666666666, Train Loss: 0.9602, Train Acc: 0.6878, Val Loss: 1.4086, Val Acc: 0.5581\n"
     ]
    },
    {
     "name": "stderr",
     "output_type": "stream",
     "text": [
      "Train Epoch: 19: 100%|██████████| 36/36 [00:04<00:00,  7.33it/s, loss=0.898, acc=0.703]\n",
      "Val Epoch: 19: 100%|██████████| 20/20 [00:01<00:00, 13.76it/s, loss=1.78, acc=0.467]\n"
     ]
    },
    {
     "name": "stdout",
     "output_type": "stream",
     "text": [
      "LR: 0.25, Train Loss: 0.8911, Train Acc: 0.7076, Val Loss: 1.4579, Val Acc: 0.5553\n"
     ]
    },
    {
     "name": "stderr",
     "output_type": "stream",
     "text": [
      "Train Epoch: 20: 100%|██████████| 36/36 [00:04<00:00,  7.32it/s, loss=0.901, acc=0.74] \n",
      "Val Epoch: 20: 100%|██████████| 20/20 [00:01<00:00, 13.75it/s, loss=1.54, acc=0.551] \n"
     ]
    },
    {
     "name": "stdout",
     "output_type": "stream",
     "text": [
      "LR: 0.23333333333333334, Train Loss: 0.8465, Train Acc: 0.7240, Val Loss: 1.4108, Val Acc: 0.5737\n"
     ]
    },
    {
     "name": "stderr",
     "output_type": "stream",
     "text": [
      "Train Epoch: 21: 100%|██████████| 36/36 [00:04<00:00,  7.32it/s, loss=0.774, acc=0.738]\n",
      "Val Epoch: 21: 100%|██████████| 20/20 [00:01<00:00, 13.79it/s, loss=0.976, acc=0.68] \n"
     ]
    },
    {
     "name": "stdout",
     "output_type": "stream",
     "text": [
      "LR: 0.21666666666666667, Train Loss: 0.7812, Train Acc: 0.7450, Val Loss: 1.3272, Val Acc: 0.6083\n"
     ]
    },
    {
     "name": "stderr",
     "output_type": "stream",
     "text": [
      "Train Epoch: 22: 100%|██████████| 36/36 [00:04<00:00,  7.33it/s, loss=0.695, acc=0.781]\n",
      "Val Epoch: 22: 100%|██████████| 20/20 [00:01<00:00, 13.77it/s, loss=1.67, acc=0.559] \n"
     ]
    },
    {
     "name": "stdout",
     "output_type": "stream",
     "text": [
      "LR: 0.2, Train Loss: 0.7153, Train Acc: 0.7661, Val Loss: 1.4079, Val Acc: 0.6004\n"
     ]
    },
    {
     "name": "stderr",
     "output_type": "stream",
     "text": [
      "Train Epoch: 23: 100%|██████████| 36/36 [00:04<00:00,  7.31it/s, loss=0.733, acc=0.748]\n",
      "Val Epoch: 23: 100%|██████████| 20/20 [00:01<00:00, 13.78it/s, loss=1.38, acc=0.625]\n"
     ]
    },
    {
     "name": "stdout",
     "output_type": "stream",
     "text": [
      "LR: 0.18333333333333335, Train Loss: 0.6615, Train Acc: 0.7816, Val Loss: 1.4299, Val Acc: 0.5876\n"
     ]
    },
    {
     "name": "stderr",
     "output_type": "stream",
     "text": [
      "Train Epoch: 24: 100%|██████████| 36/36 [00:04<00:00,  7.32it/s, loss=0.615, acc=0.787]\n",
      "Val Epoch: 24: 100%|██████████| 20/20 [00:01<00:00, 13.79it/s, loss=0.909, acc=0.757]\n"
     ]
    },
    {
     "name": "stdout",
     "output_type": "stream",
     "text": [
      "LR: 0.16666666666666663, Train Loss: 0.5914, Train Acc: 0.8067, Val Loss: 1.3948, Val Acc: 0.5984\n"
     ]
    },
    {
     "name": "stderr",
     "output_type": "stream",
     "text": [
      "Train Epoch: 25: 100%|██████████| 36/36 [00:04<00:00,  7.31it/s, loss=0.589, acc=0.799]\n",
      "Val Epoch: 25: 100%|██████████| 20/20 [00:01<00:00, 13.78it/s, loss=1.29, acc=0.64]  \n"
     ]
    },
    {
     "name": "stdout",
     "output_type": "stream",
     "text": [
      "LR: 0.14999999999999997, Train Loss: 0.5392, Train Acc: 0.8228, Val Loss: 1.4101, Val Acc: 0.6084\n"
     ]
    },
    {
     "name": "stderr",
     "output_type": "stream",
     "text": [
      "Train Epoch: 26: 100%|██████████| 36/36 [00:04<00:00,  7.31it/s, loss=0.453, acc=0.852]\n",
      "Val Epoch: 26: 100%|██████████| 20/20 [00:01<00:00, 13.70it/s, loss=0.975, acc=0.691]\n"
     ]
    },
    {
     "name": "stdout",
     "output_type": "stream",
     "text": [
      "LR: 0.1333333333333333, Train Loss: 0.4634, Train Acc: 0.8465, Val Loss: 1.3412, Val Acc: 0.6249\n"
     ]
    },
    {
     "name": "stderr",
     "output_type": "stream",
     "text": [
      "Train Epoch: 27: 100%|██████████| 36/36 [00:04<00:00,  7.32it/s, loss=0.497, acc=0.83] \n",
      "Val Epoch: 27: 100%|██████████| 20/20 [00:01<00:00, 13.74it/s, loss=1.12, acc=0.673] \n"
     ]
    },
    {
     "name": "stdout",
     "output_type": "stream",
     "text": [
      "LR: 0.11666666666666664, Train Loss: 0.4001, Train Acc: 0.8661, Val Loss: 1.4192, Val Acc: 0.6228\n"
     ]
    },
    {
     "name": "stderr",
     "output_type": "stream",
     "text": [
      "Train Epoch: 28: 100%|██████████| 36/36 [00:04<00:00,  7.36it/s, loss=0.319, acc=0.9]  \n",
      "Val Epoch: 28: 100%|██████████| 20/20 [00:01<00:00, 13.73it/s, loss=0.68, acc=0.801] \n"
     ]
    },
    {
     "name": "stdout",
     "output_type": "stream",
     "text": [
      "LR: 0.09999999999999998, Train Loss: 0.3552, Train Acc: 0.8822, Val Loss: 1.3467, Val Acc: 0.6511\n"
     ]
    },
    {
     "name": "stderr",
     "output_type": "stream",
     "text": [
      "Train Epoch: 29: 100%|██████████| 36/36 [00:04<00:00,  7.31it/s, loss=0.29, acc=0.893] \n",
      "Val Epoch: 29: 100%|██████████| 20/20 [00:01<00:00, 13.79it/s, loss=0.702, acc=0.776]\n"
     ]
    },
    {
     "name": "stdout",
     "output_type": "stream",
     "text": [
      "LR: 0.08333333333333331, Train Loss: 0.2855, Train Acc: 0.9046, Val Loss: 1.2864, Val Acc: 0.6679\n"
     ]
    },
    {
     "name": "stderr",
     "output_type": "stream",
     "text": [
      "Train Epoch: 30: 100%|██████████| 36/36 [00:04<00:00,  7.32it/s, loss=0.193, acc=0.938]\n",
      "Val Epoch: 30: 100%|██████████| 20/20 [00:01<00:00, 13.72it/s, loss=1.14, acc=0.654] \n"
     ]
    },
    {
     "name": "stdout",
     "output_type": "stream",
     "text": [
      "LR: 0.06666666666666665, Train Loss: 0.2052, Train Acc: 0.9352, Val Loss: 1.1814, Val Acc: 0.6872\n"
     ]
    },
    {
     "name": "stderr",
     "output_type": "stream",
     "text": [
      "Train Epoch: 31: 100%|██████████| 36/36 [00:04<00:00,  7.34it/s, loss=0.135, acc=0.959]\n",
      "Val Epoch: 31: 100%|██████████| 20/20 [00:01<00:00, 13.80it/s, loss=0.815, acc=0.787]\n"
     ]
    },
    {
     "name": "stdout",
     "output_type": "stream",
     "text": [
      "LR: 0.04999999999999999, Train Loss: 0.1450, Train Acc: 0.9578, Val Loss: 1.2273, Val Acc: 0.6904\n"
     ]
    },
    {
     "name": "stderr",
     "output_type": "stream",
     "text": [
      "Train Epoch: 32: 100%|██████████| 36/36 [00:04<00:00,  7.32it/s, loss=0.0956, acc=0.973]\n",
      "Val Epoch: 32: 100%|██████████| 20/20 [00:01<00:00, 13.76it/s, loss=0.974, acc=0.717]\n"
     ]
    },
    {
     "name": "stdout",
     "output_type": "stream",
     "text": [
      "LR: 0.033333333333333326, Train Loss: 0.1065, Train Acc: 0.9705, Val Loss: 1.1834, Val Acc: 0.7036\n"
     ]
    },
    {
     "name": "stderr",
     "output_type": "stream",
     "text": [
      "Train Epoch: 33: 100%|██████████| 36/36 [00:04<00:00,  7.32it/s, loss=0.0518, acc=0.994]\n",
      "Val Epoch: 33: 100%|██████████| 20/20 [00:01<00:00, 13.79it/s, loss=0.992, acc=0.717]\n"
     ]
    },
    {
     "name": "stdout",
     "output_type": "stream",
     "text": [
      "LR: 0.016666666666666663, Train Loss: 0.0739, Train Acc: 0.9817, Val Loss: 1.1670, Val Acc: 0.7112\n"
     ]
    },
    {
     "name": "stderr",
     "output_type": "stream",
     "text": [
      "Train Epoch: 34: 100%|██████████| 36/36 [00:04<00:00,  7.32it/s, loss=0.0533, acc=0.994]\n",
      "Val Epoch: 34: 100%|██████████| 20/20 [00:01<00:00, 13.76it/s, loss=1.05, acc=0.706] \n"
     ]
    },
    {
     "name": "stdout",
     "output_type": "stream",
     "text": [
      "LR: 0.0, Train Loss: 0.0560, Train Acc: 0.9885, Val Loss: 1.1628, Val Acc: 0.7139\n"
     ]
    },
    {
     "name": "stderr",
     "output_type": "stream",
     "text": [
      "100%|██████████| 20/20 [00:01<00:00, 14.42it/s]\n"
     ]
    },
    {
     "name": "stdout",
     "output_type": "stream",
     "text": [
      "SVM 0.519\n",
      "logging in  runs/random/version_0\n"
     ]
    },
    {
     "name": "stderr",
     "output_type": "stream",
     "text": [
      "Train Epoch: 0: 100%|██████████| 36/36 [00:04<00:00,  7.36it/s, loss=2.54, acc=0.227]\n",
      "Val Epoch: 0: 100%|██████████| 20/20 [00:01<00:00, 13.74it/s, loss=12.2, acc=0]      \n"
     ]
    },
    {
     "name": "stdout",
     "output_type": "stream",
     "text": [
      "LR: 0.1, Train Loss: 2.8160, Train Acc: 0.1550, Val Loss: 13.5366, Val Acc: 0.0672\n"
     ]
    },
    {
     "name": "stderr",
     "output_type": "stream",
     "text": [
      "Train Epoch: 1: 100%|██████████| 36/36 [00:04<00:00,  7.34it/s, loss=2.4, acc=0.246] \n",
      "Val Epoch: 1: 100%|██████████| 20/20 [00:01<00:00, 13.79it/s, loss=2.49, acc=0.191] \n"
     ]
    },
    {
     "name": "stdout",
     "output_type": "stream",
     "text": [
      "LR: 0.2, Train Loss: 2.4810, Train Acc: 0.2400, Val Loss: 2.5091, Val Acc: 0.2371\n"
     ]
    },
    {
     "name": "stderr",
     "output_type": "stream",
     "text": [
      "Train Epoch: 2: 100%|██████████| 36/36 [00:04<00:00,  7.32it/s, loss=2.36, acc=0.264]\n",
      "Val Epoch: 2: 100%|██████████| 20/20 [00:01<00:00, 13.76it/s, loss=2.34, acc=0.221] \n"
     ]
    },
    {
     "name": "stdout",
     "output_type": "stream",
     "text": [
      "LR: 0.3, Train Loss: 2.3377, Train Acc: 0.2771, Val Loss: 2.3598, Val Acc: 0.2646\n"
     ]
    },
    {
     "name": "stderr",
     "output_type": "stream",
     "text": [
      "Train Epoch: 3: 100%|██████████| 36/36 [00:04<00:00,  7.32it/s, loss=2.25, acc=0.305]\n",
      "Val Epoch: 3: 100%|██████████| 20/20 [00:01<00:00, 13.75it/s, loss=1.58, acc=0.312] \n"
     ]
    },
    {
     "name": "stdout",
     "output_type": "stream",
     "text": [
      "LR: 0.4, Train Loss: 2.2212, Train Acc: 0.3171, Val Loss: 2.9213, Val Acc: 0.2170\n"
     ]
    },
    {
     "name": "stderr",
     "output_type": "stream",
     "text": [
      "Train Epoch: 4: 100%|██████████| 36/36 [00:04<00:00,  7.31it/s, loss=2.15, acc=0.338]\n",
      "Val Epoch: 4: 100%|██████████| 20/20 [00:01<00:00, 13.78it/s, loss=1.97, acc=0.279]\n"
     ]
    },
    {
     "name": "stdout",
     "output_type": "stream",
     "text": [
      "LR: 0.5, Train Loss: 2.0915, Train Acc: 0.3533, Val Loss: 2.2850, Val Acc: 0.2988\n"
     ]
    },
    {
     "name": "stderr",
     "output_type": "stream",
     "text": [
      "Train Epoch: 5: 100%|██████████| 36/36 [00:04<00:00,  7.32it/s, loss=2.02, acc=0.363]\n",
      "Val Epoch: 5: 100%|██████████| 20/20 [00:01<00:00, 13.77it/s, loss=2.68, acc=0.154]\n"
     ]
    },
    {
     "name": "stdout",
     "output_type": "stream",
     "text": [
      "LR: 0.48333333333333334, Train Loss: 1.9977, Train Acc: 0.3751, Val Loss: 2.1228, Val Acc: 0.3327\n"
     ]
    },
    {
     "name": "stderr",
     "output_type": "stream",
     "text": [
      "Train Epoch: 6: 100%|██████████| 36/36 [00:04<00:00,  7.34it/s, loss=1.88, acc=0.387]\n",
      "Val Epoch: 6: 100%|██████████| 20/20 [00:01<00:00, 13.81it/s, loss=3.03, acc=0.0993]\n"
     ]
    },
    {
     "name": "stdout",
     "output_type": "stream",
     "text": [
      "LR: 0.4666666666666667, Train Loss: 1.8603, Train Acc: 0.4176, Val Loss: 2.1183, Val Acc: 0.3430\n"
     ]
    },
    {
     "name": "stderr",
     "output_type": "stream",
     "text": [
      "Train Epoch: 7: 100%|██████████| 36/36 [00:04<00:00,  7.32it/s, loss=1.87, acc=0.402]\n",
      "Val Epoch: 7: 100%|██████████| 20/20 [00:01<00:00, 13.77it/s, loss=1.76, acc=0.404]\n"
     ]
    },
    {
     "name": "stdout",
     "output_type": "stream",
     "text": [
      "LR: 0.45, Train Loss: 1.7540, Train Acc: 0.4475, Val Loss: 2.0452, Val Acc: 0.3624\n"
     ]
    },
    {
     "name": "stderr",
     "output_type": "stream",
     "text": [
      "Train Epoch: 8: 100%|██████████| 36/36 [00:05<00:00,  6.94it/s, loss=1.69, acc=0.459]\n",
      "Val Epoch: 8: 100%|██████████| 20/20 [00:01<00:00, 13.75it/s, loss=2.16, acc=0.257]\n"
     ]
    },
    {
     "name": "stdout",
     "output_type": "stream",
     "text": [
      "LR: 0.43333333333333335, Train Loss: 1.6236, Train Acc: 0.4873, Val Loss: 1.8436, Val Acc: 0.4339\n"
     ]
    },
    {
     "name": "stderr",
     "output_type": "stream",
     "text": [
      "Train Epoch: 9: 100%|██████████| 36/36 [00:04<00:00,  7.31it/s, loss=1.59, acc=0.529]\n",
      "Val Epoch: 9: 100%|██████████| 20/20 [00:01<00:00, 13.75it/s, loss=1.92, acc=0.386] \n"
     ]
    },
    {
     "name": "stdout",
     "output_type": "stream",
     "text": [
      "LR: 0.41666666666666663, Train Loss: 1.5209, Train Acc: 0.5183, Val Loss: 1.9291, Val Acc: 0.4086\n"
     ]
    },
    {
     "name": "stderr",
     "output_type": "stream",
     "text": [
      "Train Epoch: 10: 100%|██████████| 36/36 [00:04<00:00,  7.30it/s, loss=1.28, acc=0.588]\n",
      "Val Epoch: 10: 100%|██████████| 20/20 [00:01<00:00, 13.75it/s, loss=1.24, acc=0.603]\n"
     ]
    },
    {
     "name": "stdout",
     "output_type": "stream",
     "text": [
      "LR: 0.4, Train Loss: 1.4037, Train Acc: 0.5547, Val Loss: 1.6956, Val Acc: 0.4619\n"
     ]
    },
    {
     "name": "stderr",
     "output_type": "stream",
     "text": [
      "Train Epoch: 11: 100%|██████████| 36/36 [00:04<00:00,  7.34it/s, loss=1.41, acc=0.533]\n",
      "Val Epoch: 11: 100%|██████████| 20/20 [00:01<00:00, 13.81it/s, loss=1.79, acc=0.441] \n"
     ]
    },
    {
     "name": "stdout",
     "output_type": "stream",
     "text": [
      "LR: 0.3833333333333333, Train Loss: 1.3326, Train Acc: 0.5708, Val Loss: 1.5860, Val Acc: 0.4971\n"
     ]
    },
    {
     "name": "stderr",
     "output_type": "stream",
     "text": [
      "Train Epoch: 12: 100%|██████████| 36/36 [00:04<00:00,  7.32it/s, loss=1.3, acc=0.592] \n",
      "Val Epoch: 12: 100%|██████████| 20/20 [00:01<00:00, 13.77it/s, loss=2.41, acc=0.276]\n"
     ]
    },
    {
     "name": "stdout",
     "output_type": "stream",
     "text": [
      "LR: 0.3666666666666667, Train Loss: 1.2422, Train Acc: 0.6010, Val Loss: 2.1435, Val Acc: 0.3974\n"
     ]
    },
    {
     "name": "stderr",
     "output_type": "stream",
     "text": [
      "Train Epoch: 13: 100%|██████████| 36/36 [00:04<00:00,  7.31it/s, loss=1.25, acc=0.605]\n",
      "Val Epoch: 13: 100%|██████████| 20/20 [00:01<00:00, 13.74it/s, loss=2.13, acc=0.335] \n"
     ]
    },
    {
     "name": "stdout",
     "output_type": "stream",
     "text": [
      "LR: 0.35, Train Loss: 1.1582, Train Acc: 0.6287, Val Loss: 2.0362, Val Acc: 0.4346\n"
     ]
    },
    {
     "name": "stderr",
     "output_type": "stream",
     "text": [
      "Train Epoch: 14: 100%|██████████| 36/36 [00:04<00:00,  7.30it/s, loss=1.04, acc=0.668] \n",
      "Val Epoch: 14: 100%|██████████| 20/20 [00:01<00:00, 13.74it/s, loss=1.28, acc=0.566] \n"
     ]
    },
    {
     "name": "stdout",
     "output_type": "stream",
     "text": [
      "LR: 0.3333333333333333, Train Loss: 1.0901, Train Acc: 0.6483, Val Loss: 1.4587, Val Acc: 0.5524\n"
     ]
    },
    {
     "name": "stderr",
     "output_type": "stream",
     "text": [
      "Train Epoch: 15: 100%|██████████| 36/36 [00:04<00:00,  7.33it/s, loss=1.01, acc=0.67]  \n",
      "Val Epoch: 15: 100%|██████████| 20/20 [00:01<00:00, 13.78it/s, loss=1.75, acc=0.438] \n"
     ]
    },
    {
     "name": "stdout",
     "output_type": "stream",
     "text": [
      "LR: 0.31666666666666665, Train Loss: 1.0086, Train Acc: 0.6704, Val Loss: 1.5783, Val Acc: 0.5301\n"
     ]
    },
    {
     "name": "stderr",
     "output_type": "stream",
     "text": [
      "Train Epoch: 16: 100%|██████████| 36/36 [00:04<00:00,  7.31it/s, loss=0.894, acc=0.715]\n",
      "Val Epoch: 16: 100%|██████████| 20/20 [00:01<00:00, 13.75it/s, loss=1.53, acc=0.496] \n"
     ]
    },
    {
     "name": "stdout",
     "output_type": "stream",
     "text": [
      "LR: 0.3, Train Loss: 0.9473, Train Acc: 0.6941, Val Loss: 1.5973, Val Acc: 0.5404\n"
     ]
    },
    {
     "name": "stderr",
     "output_type": "stream",
     "text": [
      "Train Epoch: 17: 100%|██████████| 36/36 [00:04<00:00,  7.31it/s, loss=0.955, acc=0.682]\n",
      "Val Epoch: 17: 100%|██████████| 20/20 [00:01<00:00, 13.76it/s, loss=0.983, acc=0.632]\n"
     ]
    },
    {
     "name": "stdout",
     "output_type": "stream",
     "text": [
      "LR: 0.2833333333333333, Train Loss: 0.9214, Train Acc: 0.7011, Val Loss: 1.3379, Val Acc: 0.5803\n"
     ]
    },
    {
     "name": "stderr",
     "output_type": "stream",
     "text": [
      "Train Epoch: 18: 100%|██████████| 36/36 [00:04<00:00,  7.32it/s, loss=0.883, acc=0.703]\n",
      "Val Epoch: 18: 100%|██████████| 20/20 [00:01<00:00, 13.79it/s, loss=1.45, acc=0.592] \n"
     ]
    },
    {
     "name": "stdout",
     "output_type": "stream",
     "text": [
      "LR: 0.26666666666666666, Train Loss: 0.8465, Train Acc: 0.7264, Val Loss: 1.5028, Val Acc: 0.5529\n"
     ]
    },
    {
     "name": "stderr",
     "output_type": "stream",
     "text": [
      "Train Epoch: 19: 100%|██████████| 36/36 [00:04<00:00,  7.36it/s, loss=0.803, acc=0.727]\n",
      "Val Epoch: 19: 100%|██████████| 20/20 [00:01<00:00, 13.78it/s, loss=2.17, acc=0.393] \n"
     ]
    },
    {
     "name": "stdout",
     "output_type": "stream",
     "text": [
      "LR: 0.25, Train Loss: 0.7806, Train Acc: 0.7472, Val Loss: 1.4935, Val Acc: 0.5634\n"
     ]
    },
    {
     "name": "stderr",
     "output_type": "stream",
     "text": [
      "Train Epoch: 20: 100%|██████████| 36/36 [00:04<00:00,  7.31it/s, loss=0.776, acc=0.75] \n",
      "Val Epoch: 20: 100%|██████████| 20/20 [00:01<00:00, 13.77it/s, loss=3.4, acc=0.243]  \n"
     ]
    },
    {
     "name": "stdout",
     "output_type": "stream",
     "text": [
      "LR: 0.23333333333333334, Train Loss: 0.7507, Train Acc: 0.7520, Val Loss: 1.6879, Val Acc: 0.5381\n"
     ]
    },
    {
     "name": "stderr",
     "output_type": "stream",
     "text": [
      "Train Epoch: 21: 100%|██████████| 36/36 [00:04<00:00,  7.32it/s, loss=0.648, acc=0.807]\n",
      "Val Epoch: 21: 100%|██████████| 20/20 [00:01<00:00, 13.80it/s, loss=1.35, acc=0.559] \n"
     ]
    },
    {
     "name": "stdout",
     "output_type": "stream",
     "text": [
      "LR: 0.21666666666666667, Train Loss: 0.6896, Train Acc: 0.7783, Val Loss: 1.3180, Val Acc: 0.5980\n"
     ]
    },
    {
     "name": "stderr",
     "output_type": "stream",
     "text": [
      "Train Epoch: 22: 100%|██████████| 36/36 [00:04<00:00,  7.32it/s, loss=0.687, acc=0.775]\n",
      "Val Epoch: 22: 100%|██████████| 20/20 [00:01<00:00, 13.79it/s, loss=1.92, acc=0.471] \n"
     ]
    },
    {
     "name": "stdout",
     "output_type": "stream",
     "text": [
      "LR: 0.2, Train Loss: 0.6343, Train Acc: 0.7942, Val Loss: 1.4815, Val Acc: 0.5804\n"
     ]
    },
    {
     "name": "stderr",
     "output_type": "stream",
     "text": [
      "Train Epoch: 23: 100%|██████████| 36/36 [00:04<00:00,  7.32it/s, loss=0.611, acc=0.812]\n",
      "Val Epoch: 23: 100%|██████████| 20/20 [00:01<00:00, 13.79it/s, loss=1.61, acc=0.533] \n"
     ]
    },
    {
     "name": "stdout",
     "output_type": "stream",
     "text": [
      "LR: 0.18333333333333335, Train Loss: 0.5687, Train Acc: 0.8158, Val Loss: 1.2891, Val Acc: 0.6286\n"
     ]
    },
    {
     "name": "stderr",
     "output_type": "stream",
     "text": [
      "Train Epoch: 24: 100%|██████████| 36/36 [00:04<00:00,  7.31it/s, loss=0.469, acc=0.844]\n",
      "Val Epoch: 24: 100%|██████████| 20/20 [00:01<00:00, 13.81it/s, loss=1.82, acc=0.463] \n"
     ]
    },
    {
     "name": "stdout",
     "output_type": "stream",
     "text": [
      "LR: 0.16666666666666663, Train Loss: 0.5231, Train Acc: 0.8303, Val Loss: 1.3487, Val Acc: 0.6231\n"
     ]
    },
    {
     "name": "stderr",
     "output_type": "stream",
     "text": [
      "Train Epoch: 25: 100%|██████████| 36/36 [00:04<00:00,  7.31it/s, loss=0.439, acc=0.852]\n",
      "Val Epoch: 25: 100%|██████████| 20/20 [00:01<00:00, 13.77it/s, loss=1.18, acc=0.607] \n"
     ]
    },
    {
     "name": "stdout",
     "output_type": "stream",
     "text": [
      "LR: 0.14999999999999997, Train Loss: 0.4798, Train Acc: 0.8430, Val Loss: 1.2874, Val Acc: 0.6307\n"
     ]
    },
    {
     "name": "stderr",
     "output_type": "stream",
     "text": [
      "Train Epoch: 26: 100%|██████████| 36/36 [00:04<00:00,  7.34it/s, loss=0.409, acc=0.867]\n",
      "Val Epoch: 26: 100%|██████████| 20/20 [00:01<00:00, 13.80it/s, loss=1.73, acc=0.511] \n"
     ]
    },
    {
     "name": "stdout",
     "output_type": "stream",
     "text": [
      "LR: 0.1333333333333333, Train Loss: 0.4082, Train Acc: 0.8659, Val Loss: 1.3205, Val Acc: 0.6437\n"
     ]
    },
    {
     "name": "stderr",
     "output_type": "stream",
     "text": [
      "Train Epoch: 27: 100%|██████████| 36/36 [00:04<00:00,  7.32it/s, loss=0.422, acc=0.859]\n",
      "Val Epoch: 27: 100%|██████████| 20/20 [00:01<00:00, 13.77it/s, loss=0.951, acc=0.732]\n"
     ]
    },
    {
     "name": "stdout",
     "output_type": "stream",
     "text": [
      "LR: 0.11666666666666664, Train Loss: 0.3430, Train Acc: 0.8865, Val Loss: 1.4084, Val Acc: 0.6259\n"
     ]
    },
    {
     "name": "stderr",
     "output_type": "stream",
     "text": [
      "Train Epoch: 28: 100%|██████████| 36/36 [00:04<00:00,  7.32it/s, loss=0.344, acc=0.883]\n",
      "Val Epoch: 28: 100%|██████████| 20/20 [00:01<00:00, 13.81it/s, loss=1.06, acc=0.691]\n"
     ]
    },
    {
     "name": "stdout",
     "output_type": "stream",
     "text": [
      "LR: 0.09999999999999998, Train Loss: 0.2956, Train Acc: 0.9034, Val Loss: 1.3369, Val Acc: 0.6530\n"
     ]
    },
    {
     "name": "stderr",
     "output_type": "stream",
     "text": [
      "Train Epoch: 29: 100%|██████████| 36/36 [00:04<00:00,  7.31it/s, loss=0.224, acc=0.936]\n",
      "Val Epoch: 29: 100%|██████████| 20/20 [00:01<00:00, 13.79it/s, loss=1.38, acc=0.599] \n"
     ]
    },
    {
     "name": "stdout",
     "output_type": "stream",
     "text": [
      "LR: 0.08333333333333331, Train Loss: 0.2353, Train Acc: 0.9234, Val Loss: 1.2571, Val Acc: 0.6773\n"
     ]
    },
    {
     "name": "stderr",
     "output_type": "stream",
     "text": [
      "Train Epoch: 30: 100%|██████████| 36/36 [00:04<00:00,  7.33it/s, loss=0.201, acc=0.939]\n",
      "Val Epoch: 30: 100%|██████████| 20/20 [00:01<00:00, 13.76it/s, loss=1.03, acc=0.691] \n"
     ]
    },
    {
     "name": "stdout",
     "output_type": "stream",
     "text": [
      "LR: 0.06666666666666665, Train Loss: 0.1850, Train Acc: 0.9406, Val Loss: 1.2367, Val Acc: 0.6847\n"
     ]
    },
    {
     "name": "stderr",
     "output_type": "stream",
     "text": [
      "Train Epoch: 31: 100%|██████████| 36/36 [00:04<00:00,  7.32it/s, loss=0.106, acc=0.969] \n",
      "Val Epoch: 31: 100%|██████████| 20/20 [00:01<00:00, 13.79it/s, loss=0.88, acc=0.761] \n"
     ]
    },
    {
     "name": "stdout",
     "output_type": "stream",
     "text": [
      "LR: 0.04999999999999999, Train Loss: 0.1226, Train Acc: 0.9637, Val Loss: 1.1717, Val Acc: 0.7009\n"
     ]
    },
    {
     "name": "stderr",
     "output_type": "stream",
     "text": [
      "Train Epoch: 32: 100%|██████████| 36/36 [00:04<00:00,  7.32it/s, loss=0.0953, acc=0.969]\n",
      "Val Epoch: 32: 100%|██████████| 20/20 [00:01<00:00, 13.77it/s, loss=1.24, acc=0.64]  \n"
     ]
    },
    {
     "name": "stdout",
     "output_type": "stream",
     "text": [
      "LR: 0.033333333333333326, Train Loss: 0.0865, Train Acc: 0.9760, Val Loss: 1.2019, Val Acc: 0.6990\n"
     ]
    },
    {
     "name": "stderr",
     "output_type": "stream",
     "text": [
      "Train Epoch: 33: 100%|██████████| 36/36 [00:04<00:00,  7.31it/s, loss=0.0597, acc=0.984]\n",
      "Val Epoch: 33: 100%|██████████| 20/20 [00:01<00:00, 13.78it/s, loss=1.14, acc=0.68]  \n"
     ]
    },
    {
     "name": "stdout",
     "output_type": "stream",
     "text": [
      "LR: 0.016666666666666663, Train Loss: 0.0610, Train Acc: 0.9857, Val Loss: 1.1817, Val Acc: 0.7092\n"
     ]
    },
    {
     "name": "stderr",
     "output_type": "stream",
     "text": [
      "Train Epoch: 34: 100%|██████████| 36/36 [00:04<00:00,  7.32it/s, loss=0.0546, acc=0.984]\n",
      "Val Epoch: 34: 100%|██████████| 20/20 [00:01<00:00, 13.74it/s, loss=1.1, acc=0.706]  \n"
     ]
    },
    {
     "name": "stdout",
     "output_type": "stream",
     "text": [
      "LR: 0.0, Train Loss: 0.0497, Train Acc: 0.9901, Val Loss: 1.1560, Val Acc: 0.7160\n"
     ]
    },
    {
     "name": "stderr",
     "output_type": "stream",
     "text": [
      "100%|██████████| 20/20 [00:01<00:00, 14.39it/s]"
     ]
    },
    {
     "name": "stdout",
     "output_type": "stream",
     "text": [
      "random 0.4915\n"
     ]
    },
    {
     "name": "stderr",
     "output_type": "stream",
     "text": [
      "\n"
     ]
    }
   ],
   "source": [
    "intervention_results = {}\n",
    "for k, new_train_indices in extra_selected_indices.items():\n",
    "    subset_ds = torch.utils.data.Subset(cifar100_orig_train, new_train_indices)\n",
    "    new_loader = torch.utils.data.DataLoader(subset_ds, \n",
    "                                   batch_size=hparams['batch_size'], \n",
    "                                   shuffle=True, \n",
    "                                   drop_last=True)\n",
    "    intervention_model = train_model(new_loader, loaders['val'], exp_name=k)\n",
    "    result = evaluate_model(intervention_model, loaders['test'])\n",
    "    intervention_results[k] = result\n",
    "    is_correct = result['gt'] == result['preds']\n",
    "    minority_mask = dataset_splits['test']['is_minority']\n",
    "    print(k, is_correct[minority_mask].mean())"
   ]
  },
  {
   "cell_type": "markdown",
   "id": "23a2bc24",
   "metadata": {},
   "source": [
    "These are the subpopulation accuracies after the interventions"
   ]
  },
  {
   "cell_type": "code",
   "execution_count": 53,
   "id": "65bb85a2",
   "metadata": {},
   "outputs": [],
   "source": [
    "intervention_results['before_intervention'] = run_dict['test']"
   ]
  },
  {
   "cell_type": "code",
   "execution_count": 54,
   "id": "2cfd7421",
   "metadata": {},
   "outputs": [
    {
     "name": "stdout",
     "output_type": "stream",
     "text": [
      "confidence 0.4985\n",
      "SVM 0.519\n",
      "random 0.4915\n",
      "before_intervention 0.4345\n"
     ]
    }
   ],
   "source": [
    "for method, result in intervention_results.items():\n",
    "    is_correct = result['gt'] == result['preds']\n",
    "    minority_mask = dataset_splits['test']['is_minority']\n",
    "    print(method, is_correct[minority_mask].mean())\n"
   ]
  },
  {
   "cell_type": "code",
   "execution_count": null,
   "id": "efb8539c",
   "metadata": {},
   "outputs": [],
   "source": []
  }
 ],
 "metadata": {
  "kernelspec": {
   "display_name": "Python 3 (ipykernel)",
   "language": "python",
   "name": "python3"
  },
  "language_info": {
   "codemirror_mode": {
    "name": "ipython",
    "version": 3
   },
   "file_extension": ".py",
   "mimetype": "text/x-python",
   "name": "python",
   "nbconvert_exporter": "python",
   "pygments_lexer": "ipython3",
   "version": "3.9.12"
  }
 },
 "nbformat": 4,
 "nbformat_minor": 5
}
