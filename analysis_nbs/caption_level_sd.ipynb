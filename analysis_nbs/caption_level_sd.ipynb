{
 "cells": [
  {
   "cell_type": "code",
   "execution_count": 1,
   "id": "e1550954",
   "metadata": {},
   "outputs": [
    {
     "name": "stderr",
     "output_type": "stream",
     "text": [
      "/mnt/cfs/home/saachij/conda_envs/ffcv_cfs/lib/python3.9/site-packages/tqdm/auto.py:22: TqdmWarning: IProgress not found. Please update jupyter and ipywidgets. See https://ipywidgets.readthedocs.io/en/stable/user_install.html\n",
      "  from .autonotebook import tqdm as notebook_tqdm\n"
     ]
    },
    {
     "name": "stdout",
     "output_type": "stream",
     "text": [
      "['airplane' 'automobile' 'bird' 'cat' 'deer' 'dog' 'frog' 'horse' 'ship'\n",
      " 'truck']\n"
     ]
    }
   ],
   "source": [
    "import sys\n",
    "import os\n",
    "sys.path.append('..')\n",
    "sys.path.append('../failure_directions')\n",
    "import torch\n",
    "import torchvision\n",
    "import failure_directions\n",
    "import numpy as np\n",
    "import torchvision.transforms as transforms\n",
    "from torch.cuda.amp import autocast\n",
    "from tqdm import tqdm\n",
    "import torch.nn as nn\n",
    "import matplotlib.pyplot as plt\n",
    "\n",
    "\n",
    "import failure_directions.src.svm_utils as svm_utils\n",
    "import failure_directions.src.visualization_utils as viz_utils\n",
    "import failure_directions.src.ds_utils as ds_utils\n",
    "import numpy as np\n",
    "import pandas as pd \n",
    "import seaborn as sns\n",
    "import matplotlib.pyplot as plt\n",
    "from failure_directions.src.label_maps import CLASS_DICT\n",
    "import pickle as pkl\n",
    "from torchvision.datasets.folder import pil_loader\n",
    "\n",
    "cifar_label_list = np.array([CLASS_DICT['CIFAR'][u] for u in range(10)])\n",
    "print(cifar_label_list)"
   ]
  },
  {
   "cell_type": "code",
   "execution_count": 2,
   "id": "12da024b",
   "metadata": {},
   "outputs": [],
   "source": [
    "sns.set()\n",
    "BLUE = sns.color_palette(\"tab10\")[0]\n",
    "RED = sns.color_palette(\"tab10\")[3]\n",
    "ORANGE = sns.color_palette(\"tab10\")[1]\n",
    "BROWN = sns.color_palette(\"tab10\")[5]\n",
    "GRAY = sns.color_palette(\"tab10\")[7]\n",
    "GREEN = sns.color_palette(\"tab10\")[2]\n",
    "\n",
    "import matplotlib.pylab as pylab\n",
    "params = {'legend.fontsize': 12,\n",
    "          'figure.figsize': (5, 3),\n",
    "         'axes.labelsize': 14,\n",
    "         'axes.titlesize':16,\n",
    "         'xtick.labelsize':14,\n",
    "         'ytick.labelsize':14}\n",
    "pylab.rcParams.update(params)\n"
   ]
  },
  {
   "cell_type": "code",
   "execution_count": 3,
   "id": "894e1323",
   "metadata": {},
   "outputs": [
    {
     "name": "stdout",
     "output_type": "stream",
     "text": [
      "/mnt/cfs/home/saachij/src/failure-directions/failure_directions\n",
      "-----------train_metrics--------------\n",
      "{'Confusion Matrix': array([[ 439,  192],\n",
      "       [3195, 6174]]),\n",
      " 'Model Accuracy': 0.9369,\n",
      " 'SVM Accuracy': 0.661300003528595,\n",
      " 'SVM Balanced Accuracy': 0.6773514151573181}\n",
      "-----------val_metrics--------------\n",
      "{'Confusion Matrix': array([[1593,  415],\n",
      "       [1713, 6279]]),\n",
      " 'Model Accuracy': 0.7992,\n",
      " 'SVM Accuracy': 0.7871999740600586,\n",
      " 'SVM Balanced Accuracy': 0.7894936800003052}\n",
      "-----------test_metrics--------------\n",
      "{'Confusion Matrix': array([[1346,  749],\n",
      "       [2007, 5898]]),\n",
      " 'Model Accuracy': 0.7905,\n",
      " 'SVM Accuracy': 0.724399983882904,\n",
      " 'SVM Balanced Accuracy': 0.6942960917949677}\n",
      "-----------unlabeled_metrics--------------\n",
      "{'Confusion Matrix': array([[ 3972,  2185],\n",
      "       [ 5945, 17898]]),\n",
      " 'Model Accuracy': 0.7947666666666666,\n",
      " 'SVM Accuracy': 0.7289999723434448,\n",
      " 'SVM Balanced Accuracy': 0.6978899836540222}\n",
      "Using default os_cache: False\n",
      "Using default quasi_random: True\n",
      "Using default val_aug: None\n",
      "Using default loss_vec_file: None\n",
      "Using default indices_file: None\n",
      "Using default val_beton: None\n",
      "Using default unlabeled_beton: None\n",
      "Using default loss_upweight: 5\n",
      "Using default bce: False\n",
      "Using default cmnist: False\n",
      "\n",
      "-----------CONFIG--------------\n",
      "{   'arch': 'resnet18',\n",
      "    'arch_type': 'cifar_resnet',\n",
      "    'batch_size': 100,\n",
      "    'bce': False,\n",
      "    'cmnist': False,\n",
      "    'drop_last': False,\n",
      "    'imgsz': 32,\n",
      "    'indices_file': None,\n",
      "    'loss_upweight': 5,\n",
      "    'loss_vec_file': None,\n",
      "    'mean': [125.307, 122.961, 113.8575],\n",
      "    'num_classes': 10,\n",
      "    'num_workers': 1,\n",
      "    'os_cache': False,\n",
      "    'quasi_random': True,\n",
      "    'shuffle': False,\n",
      "    'std': [51.5865, 50.847, 51.255],\n",
      "    'test_beton': 'cifar/cifar_test.beton',\n",
      "    'train_aug': 'cifar_train_aug',\n",
      "    'train_beton': 'cifar/cifar_train.beton',\n",
      "    'train_img_decoder': 'simple',\n",
      "    'training': {   'epochs': 35,\n",
      "                    'lr': 0.5,\n",
      "                    'lr_scheduler': {'lr_peak_epoch': 5, 'type': 'cyclic'},\n",
      "                    'optimizer': {'momentum': 0.9, 'weight_decay': 0.0005}},\n",
      "    'unlabeled_beton': None,\n",
      "    'val_aug': None,\n",
      "    'val_beton': None,\n",
      "    'val_img_decoder': 'simple'}\n",
      "{'training_args': {'epochs': 35, 'lr': 0.5, 'optimizer': {'momentum': 0.9, 'weight_decay': 0.0005}, 'lr_scheduler': {'type': 'cyclic', 'lr_peak_epoch': 5}, 'iters_per_epoch': 19}, 'epoch': 34, 'training_metrics': {'loss': 0.17487808826722598, 'acc': 0.9425370065789473}, 'val_metrics': {'loss': 0.6609623561382294, 'acc': 0.7992000002861023}}\n",
      "Pulling val from train\n",
      "Pulling unlabeled from train\n",
      "getting train loader\n",
      "getting val loader\n",
      "getting unlabeled loader\n",
      "getting test loader\n"
     ]
    },
    {
     "name": "stderr",
     "output_type": "stream",
     "text": [
      "100%|███████████████████████████████████████████████████████████████████████████████████████████████████████████████████████████████████████████████████████████████| 100/100 [00:03<00:00, 28.60it/s]\n"
     ]
    },
    {
     "name": "stdout",
     "output_type": "stream",
     "text": [
      "Accuracy 0.953000009059906\n"
     ]
    },
    {
     "name": "stderr",
     "output_type": "stream",
     "text": [
      "100%|███████████████████████████████████████████████████████████████████████████████████████████████████████████████████████████████████████████████████████████████| 100/100 [00:01<00:00, 65.93it/s]\n"
     ]
    },
    {
     "name": "stdout",
     "output_type": "stream",
     "text": [
      "Accuracy 0.7991999983787537\n"
     ]
    },
    {
     "name": "stderr",
     "output_type": "stream",
     "text": [
      "100%|███████████████████████████████████████████████████████████████████████████████████████████████████████████████████████████████████████████████████████████████| 100/100 [00:01<00:00, 79.74it/s]\n"
     ]
    },
    {
     "name": "stdout",
     "output_type": "stream",
     "text": [
      "Accuracy 0.7904999852180481\n"
     ]
    },
    {
     "name": "stderr",
     "output_type": "stream",
     "text": [
      "100%|██████████████████████████████████████████████████████████████████████████████████████████████████████████████████████████████████████████████████████████████| 300/300 [00:01<00:00, 152.29it/s]\n"
     ]
    },
    {
     "name": "stdout",
     "output_type": "stream",
     "text": [
      "Accuracy 0.7947999835014343\n",
      "/mnt/cfs/home/saachij/src/failure-directions/analysis_nbs\n",
      "{'training_args': {'epochs': 35, 'lr': 0.5, 'optimizer': {'momentum': 0.9, 'weight_decay': 0.0005}, 'lr_scheduler': {'type': 'cyclic', 'lr_peak_epoch': 5}, 'iters_per_epoch': 19}, 'epoch': 34, 'training_metrics': {'loss': 0.17487808826722598, 'acc': 0.9425370065789473}, 'val_metrics': {'loss': 0.6609623561382294, 'acc': 0.7992000002861023}}\n"
     ]
    }
   ],
   "source": [
    "#Load SVM Model\n",
    "beton_root = \"/mnt/cfs/projects/correlated_errors/betons\"\n",
    "experiment_root = \"/mnt/cfs/projects/correlated_errors/experiments/cifar/cifar_0.25\"\n",
    "\n",
    "svm_name = \"svm_cifar_0.25_unlabeled_normalized\"\n",
    "name = os.path.join(experiment_root, f\"svm_checkpoints/{svm_name}.pt\") # SVM output file\n",
    "svm_model_name = os.path.join(experiment_root, f\"svm_checkpoints/{svm_name}_model.pkl\") # SVM output file\n",
    "model_root = os.path.join(experiment_root, \"models\")\n",
    "model_ckpt = os.path.join(model_root, \"cifar10_0.25_unlabeled/version_0/checkpoints/checkpoint_last.pt\")\n",
    "loss_upweight_root = os.path.join(experiment_root, \"loss_vec_files\")\n",
    "subset_root = os.path.join(experiment_root, \"subset_index_files\")\n",
    "\n",
    "%cd ../failure_directions\n",
    "processor = viz_utils.SVMProcessor(name, root=beton_root, checkpoint_path=model_ckpt, get_unlabeled=True)\n",
    "%cd ../analysis_nbs\n",
    "svm_model = processor._build_model(model_ckpt)\n"
   ]
  },
  {
   "cell_type": "code",
   "execution_count": 4,
   "id": "4f868820",
   "metadata": {},
   "outputs": [
    {
     "data": {
      "text/plain": [
       "[0.6642218046323067,\n",
       " 0.7010094305812045,\n",
       " 0.6696851119624674,\n",
       " 0.6415698284604889,\n",
       " 0.6484821828610479,\n",
       " 0.6876278118609407,\n",
       " 0.6769806482669898,\n",
       " 0.6935678717699402,\n",
       " 0.6241176656968883,\n",
       " 0.6601421725872243]"
      ]
     },
     "execution_count": 4,
     "metadata": {},
     "output_type": "execute_result"
    }
   ],
   "source": [
    "processor.metrics['cv_scores']"
   ]
  },
  {
   "cell_type": "code",
   "execution_count": 5,
   "id": "ea5bc340",
   "metadata": {},
   "outputs": [],
   "source": [
    "split = 'test'\n",
    "test_dv = processor.metrics[f'{split}_metrics']['decision_values']\n",
    "test_confs = processor.run_dict[split]['confs']\n",
    "test_class = processor.metrics[f'{split}_metrics']['classes'] # 0 if female, 1 if male\n",
    "test_pred_correct = processor.metrics[f'{split}_metrics']['ypred']\n",
    "test_correct = processor.metrics[f'{split}_metrics']['ytrue']"
   ]
  },
  {
   "cell_type": "code",
   "execution_count": 6,
   "id": "64ecf250",
   "metadata": {},
   "outputs": [
    {
     "name": "stdout",
     "output_type": "stream",
     "text": [
      "/mnt/cfs/home/saachij/src/failure-directions/failure_directions\n",
      "Using default os_cache: False\n",
      "Using default quasi_random: True\n",
      "Using default val_aug: None\n",
      "Using default loss_vec_file: None\n",
      "Using default indices_file: None\n",
      "Using default val_beton: None\n",
      "Using default unlabeled_beton: None\n",
      "Using default loss_upweight: 5\n",
      "Using default bce: False\n",
      "Using default cmnist: False\n",
      "/mnt/cfs/home/saachij/src/failure-directions/analysis_nbs\n"
     ]
    }
   ],
   "source": [
    "from failure_directions.src.config_parsing import ffcv_read_check_override_config\n",
    "import yaml\n",
    "%cd ../failure_directions\n",
    "with open(processor.metrics['args']['config'], 'r') as file:\n",
    "    fresh_hparams = yaml.safe_load(file)\n",
    "fresh_hparams = ffcv_read_check_override_config(fresh_hparams)\n",
    "%cd ../analysis_nbs\n"
   ]
  },
  {
   "cell_type": "markdown",
   "id": "a0780f44",
   "metadata": {},
   "source": [
    "## Get SVM Directions"
   ]
  },
  {
   "cell_type": "code",
   "execution_count": 7,
   "id": "c27e0e00",
   "metadata": {},
   "outputs": [
    {
     "name": "stderr",
     "output_type": "stream",
     "text": [
      " 29%|███████████▏                           | 255M/890M [00:05<00:13, 50.5MiB/s]\n"
     ]
    },
    {
     "ename": "KeyboardInterrupt",
     "evalue": "",
     "output_type": "error",
     "traceback": [
      "\u001b[0;31m---------------------------------------------------------------------------\u001b[0m",
      "\u001b[0;31mKeyboardInterrupt\u001b[0m                         Traceback (most recent call last)",
      "Input \u001b[0;32mIn [7]\u001b[0m, in \u001b[0;36m<cell line: 3>\u001b[0;34m()\u001b[0m\n\u001b[1;32m      1\u001b[0m \u001b[38;5;66;03m# Get big CLIP features\u001b[39;00m\n\u001b[1;32m      2\u001b[0m hparams \u001b[38;5;241m=\u001b[39m processor\u001b[38;5;241m.\u001b[39mhparams\n\u001b[0;32m----> 3\u001b[0m clip_processor \u001b[38;5;241m=\u001b[39m \u001b[43mfailure_directions\u001b[49m\u001b[38;5;241;43m.\u001b[39;49m\u001b[43mCLIPProcessor\u001b[49m\u001b[43m(\u001b[49m\u001b[43mds_mean\u001b[49m\u001b[38;5;241;43m=\u001b[39;49m\u001b[43mhparams\u001b[49m\u001b[43m[\u001b[49m\u001b[38;5;124;43m'\u001b[39;49m\u001b[38;5;124;43mmean\u001b[39;49m\u001b[38;5;124;43m'\u001b[39;49m\u001b[43m]\u001b[49m\u001b[43m,\u001b[49m\u001b[43m \u001b[49m\u001b[43mds_std\u001b[49m\u001b[38;5;241;43m=\u001b[39;49m\u001b[43mhparams\u001b[49m\u001b[43m[\u001b[49m\u001b[38;5;124;43m'\u001b[39;49m\u001b[38;5;124;43mstd\u001b[39;49m\u001b[38;5;124;43m'\u001b[39;49m\u001b[43m]\u001b[49m\u001b[43m,\u001b[49m\u001b[43m \u001b[49m\u001b[43march\u001b[49m\u001b[38;5;241;43m=\u001b[39;49m\u001b[38;5;124;43m'\u001b[39;49m\u001b[38;5;124;43mViT-L/14\u001b[39;49m\u001b[38;5;124;43m'\u001b[39;49m\u001b[43m)\u001b[49m\n\u001b[1;32m      4\u001b[0m clip_features \u001b[38;5;241m=\u001b[39m {}\n\u001b[1;32m      5\u001b[0m \u001b[38;5;28;01mfor\u001b[39;00m split, loader \u001b[38;5;129;01min\u001b[39;00m processor\u001b[38;5;241m.\u001b[39mloaders\u001b[38;5;241m.\u001b[39mitems():\n",
      "File \u001b[0;32m~/src/failure-directions/analysis_nbs/../failure_directions/src/wrappers.py:98\u001b[0m, in \u001b[0;36mCLIPProcessor.__init__\u001b[0;34m(self, ds_mean, ds_std, arch, device)\u001b[0m\n\u001b[1;32m     96\u001b[0m \u001b[38;5;28;01mdef\u001b[39;00m \u001b[38;5;21m__init__\u001b[39m(\u001b[38;5;28mself\u001b[39m, ds_mean\u001b[38;5;241m=\u001b[39m\u001b[38;5;241m0\u001b[39m, ds_std\u001b[38;5;241m=\u001b[39m\u001b[38;5;241m1\u001b[39m, \n\u001b[1;32m     97\u001b[0m              arch\u001b[38;5;241m=\u001b[39m\u001b[38;5;124m'\u001b[39m\u001b[38;5;124mViT-B/32\u001b[39m\u001b[38;5;124m'\u001b[39m, device\u001b[38;5;241m=\u001b[39m\u001b[38;5;124m'\u001b[39m\u001b[38;5;124mcuda\u001b[39m\u001b[38;5;124m'\u001b[39m):\n\u001b[0;32m---> 98\u001b[0m     \u001b[38;5;28mself\u001b[39m\u001b[38;5;241m.\u001b[39mclip_model, preprocess \u001b[38;5;241m=\u001b[39m \u001b[43mclip\u001b[49m\u001b[38;5;241;43m.\u001b[39;49m\u001b[43mload\u001b[49m\u001b[43m(\u001b[49m\u001b[43march\u001b[49m\u001b[43m,\u001b[49m\u001b[43m \u001b[49m\u001b[43mdevice\u001b[49m\u001b[38;5;241;43m=\u001b[39;49m\u001b[43mdevice\u001b[49m\u001b[43m)\u001b[49m\n\u001b[1;32m     99\u001b[0m     \u001b[38;5;28mself\u001b[39m\u001b[38;5;241m.\u001b[39mclip_model \u001b[38;5;241m=\u001b[39m \u001b[38;5;28mself\u001b[39m\u001b[38;5;241m.\u001b[39mclip_model\u001b[38;5;241m.\u001b[39meval()\n\u001b[1;32m    100\u001b[0m     clip_normalize \u001b[38;5;241m=\u001b[39m preprocess\u001b[38;5;241m.\u001b[39mtransforms[\u001b[38;5;241m-\u001b[39m\u001b[38;5;241m1\u001b[39m]\n",
      "File \u001b[0;32m~/conda_envs/ffcv_cfs/lib/python3.9/site-packages/clip/clip.py:120\u001b[0m, in \u001b[0;36mload\u001b[0;34m(name, device, jit, download_root)\u001b[0m\n\u001b[1;32m     95\u001b[0m \u001b[38;5;124;03m\"\"\"Load a CLIP model\u001b[39;00m\n\u001b[1;32m     96\u001b[0m \n\u001b[1;32m     97\u001b[0m \u001b[38;5;124;03mParameters\u001b[39;00m\n\u001b[0;32m   (...)\u001b[0m\n\u001b[1;32m    117\u001b[0m \u001b[38;5;124;03m    A torchvision transform that converts a PIL image into a tensor that the returned model can take as its input\u001b[39;00m\n\u001b[1;32m    118\u001b[0m \u001b[38;5;124;03m\"\"\"\u001b[39;00m\n\u001b[1;32m    119\u001b[0m \u001b[38;5;28;01mif\u001b[39;00m name \u001b[38;5;129;01min\u001b[39;00m _MODELS:\n\u001b[0;32m--> 120\u001b[0m     model_path \u001b[38;5;241m=\u001b[39m \u001b[43m_download\u001b[49m\u001b[43m(\u001b[49m\u001b[43m_MODELS\u001b[49m\u001b[43m[\u001b[49m\u001b[43mname\u001b[49m\u001b[43m]\u001b[49m\u001b[43m,\u001b[49m\u001b[43m \u001b[49m\u001b[43mdownload_root\u001b[49m\u001b[43m \u001b[49m\u001b[38;5;129;43;01mor\u001b[39;49;00m\u001b[43m \u001b[49m\u001b[43mos\u001b[49m\u001b[38;5;241;43m.\u001b[39;49m\u001b[43mpath\u001b[49m\u001b[38;5;241;43m.\u001b[39;49m\u001b[43mexpanduser\u001b[49m\u001b[43m(\u001b[49m\u001b[38;5;124;43m\"\u001b[39;49m\u001b[38;5;124;43m~/.cache/clip\u001b[39;49m\u001b[38;5;124;43m\"\u001b[39;49m\u001b[43m)\u001b[49m\u001b[43m)\u001b[49m\n\u001b[1;32m    121\u001b[0m \u001b[38;5;28;01melif\u001b[39;00m os\u001b[38;5;241m.\u001b[39mpath\u001b[38;5;241m.\u001b[39misfile(name):\n\u001b[1;32m    122\u001b[0m     model_path \u001b[38;5;241m=\u001b[39m name\n",
      "File \u001b[0;32m~/conda_envs/ffcv_cfs/lib/python3.9/site-packages/clip/clip.py:62\u001b[0m, in \u001b[0;36m_download\u001b[0;34m(url, root)\u001b[0m\n\u001b[1;32m     60\u001b[0m \u001b[38;5;28;01mwith\u001b[39;00m tqdm(total\u001b[38;5;241m=\u001b[39m\u001b[38;5;28mint\u001b[39m(source\u001b[38;5;241m.\u001b[39minfo()\u001b[38;5;241m.\u001b[39mget(\u001b[38;5;124m\"\u001b[39m\u001b[38;5;124mContent-Length\u001b[39m\u001b[38;5;124m\"\u001b[39m)), ncols\u001b[38;5;241m=\u001b[39m\u001b[38;5;241m80\u001b[39m, unit\u001b[38;5;241m=\u001b[39m\u001b[38;5;124m'\u001b[39m\u001b[38;5;124miB\u001b[39m\u001b[38;5;124m'\u001b[39m, unit_scale\u001b[38;5;241m=\u001b[39m\u001b[38;5;28;01mTrue\u001b[39;00m, unit_divisor\u001b[38;5;241m=\u001b[39m\u001b[38;5;241m1024\u001b[39m) \u001b[38;5;28;01mas\u001b[39;00m loop:\n\u001b[1;32m     61\u001b[0m     \u001b[38;5;28;01mwhile\u001b[39;00m \u001b[38;5;28;01mTrue\u001b[39;00m:\n\u001b[0;32m---> 62\u001b[0m         buffer \u001b[38;5;241m=\u001b[39m \u001b[43msource\u001b[49m\u001b[38;5;241;43m.\u001b[39;49m\u001b[43mread\u001b[49m\u001b[43m(\u001b[49m\u001b[38;5;241;43m8192\u001b[39;49m\u001b[43m)\u001b[49m\n\u001b[1;32m     63\u001b[0m         \u001b[38;5;28;01mif\u001b[39;00m \u001b[38;5;129;01mnot\u001b[39;00m buffer:\n\u001b[1;32m     64\u001b[0m             \u001b[38;5;28;01mbreak\u001b[39;00m\n",
      "File \u001b[0;32m~/conda_envs/ffcv_cfs/lib/python3.9/http/client.py:463\u001b[0m, in \u001b[0;36mHTTPResponse.read\u001b[0;34m(self, amt)\u001b[0m\n\u001b[1;32m    460\u001b[0m \u001b[38;5;28;01mif\u001b[39;00m amt \u001b[38;5;129;01mis\u001b[39;00m \u001b[38;5;129;01mnot\u001b[39;00m \u001b[38;5;28;01mNone\u001b[39;00m:\n\u001b[1;32m    461\u001b[0m     \u001b[38;5;66;03m# Amount is given, implement using readinto\u001b[39;00m\n\u001b[1;32m    462\u001b[0m     b \u001b[38;5;241m=\u001b[39m \u001b[38;5;28mbytearray\u001b[39m(amt)\n\u001b[0;32m--> 463\u001b[0m     n \u001b[38;5;241m=\u001b[39m \u001b[38;5;28;43mself\u001b[39;49m\u001b[38;5;241;43m.\u001b[39;49m\u001b[43mreadinto\u001b[49m\u001b[43m(\u001b[49m\u001b[43mb\u001b[49m\u001b[43m)\u001b[49m\n\u001b[1;32m    464\u001b[0m     \u001b[38;5;28;01mreturn\u001b[39;00m \u001b[38;5;28mmemoryview\u001b[39m(b)[:n]\u001b[38;5;241m.\u001b[39mtobytes()\n\u001b[1;32m    465\u001b[0m \u001b[38;5;28;01melse\u001b[39;00m:\n\u001b[1;32m    466\u001b[0m     \u001b[38;5;66;03m# Amount is not given (unbounded read) so we must check self.length\u001b[39;00m\n\u001b[1;32m    467\u001b[0m     \u001b[38;5;66;03m# and self.chunked\u001b[39;00m\n",
      "File \u001b[0;32m~/conda_envs/ffcv_cfs/lib/python3.9/http/client.py:507\u001b[0m, in \u001b[0;36mHTTPResponse.readinto\u001b[0;34m(self, b)\u001b[0m\n\u001b[1;32m    502\u001b[0m         b \u001b[38;5;241m=\u001b[39m \u001b[38;5;28mmemoryview\u001b[39m(b)[\u001b[38;5;241m0\u001b[39m:\u001b[38;5;28mself\u001b[39m\u001b[38;5;241m.\u001b[39mlength]\n\u001b[1;32m    504\u001b[0m \u001b[38;5;66;03m# we do not use _safe_read() here because this may be a .will_close\u001b[39;00m\n\u001b[1;32m    505\u001b[0m \u001b[38;5;66;03m# connection, and the user is reading more bytes than will be provided\u001b[39;00m\n\u001b[1;32m    506\u001b[0m \u001b[38;5;66;03m# (for example, reading in 1k chunks)\u001b[39;00m\n\u001b[0;32m--> 507\u001b[0m n \u001b[38;5;241m=\u001b[39m \u001b[38;5;28;43mself\u001b[39;49m\u001b[38;5;241;43m.\u001b[39;49m\u001b[43mfp\u001b[49m\u001b[38;5;241;43m.\u001b[39;49m\u001b[43mreadinto\u001b[49m\u001b[43m(\u001b[49m\u001b[43mb\u001b[49m\u001b[43m)\u001b[49m\n\u001b[1;32m    508\u001b[0m \u001b[38;5;28;01mif\u001b[39;00m \u001b[38;5;129;01mnot\u001b[39;00m n \u001b[38;5;129;01mand\u001b[39;00m b:\n\u001b[1;32m    509\u001b[0m     \u001b[38;5;66;03m# Ideally, we would raise IncompleteRead if the content-length\u001b[39;00m\n\u001b[1;32m    510\u001b[0m     \u001b[38;5;66;03m# wasn't satisfied, but it might break compatibility.\u001b[39;00m\n\u001b[1;32m    511\u001b[0m     \u001b[38;5;28mself\u001b[39m\u001b[38;5;241m.\u001b[39m_close_conn()\n",
      "File \u001b[0;32m~/conda_envs/ffcv_cfs/lib/python3.9/socket.py:704\u001b[0m, in \u001b[0;36mSocketIO.readinto\u001b[0;34m(self, b)\u001b[0m\n\u001b[1;32m    702\u001b[0m \u001b[38;5;28;01mwhile\u001b[39;00m \u001b[38;5;28;01mTrue\u001b[39;00m:\n\u001b[1;32m    703\u001b[0m     \u001b[38;5;28;01mtry\u001b[39;00m:\n\u001b[0;32m--> 704\u001b[0m         \u001b[38;5;28;01mreturn\u001b[39;00m \u001b[38;5;28;43mself\u001b[39;49m\u001b[38;5;241;43m.\u001b[39;49m\u001b[43m_sock\u001b[49m\u001b[38;5;241;43m.\u001b[39;49m\u001b[43mrecv_into\u001b[49m\u001b[43m(\u001b[49m\u001b[43mb\u001b[49m\u001b[43m)\u001b[49m\n\u001b[1;32m    705\u001b[0m     \u001b[38;5;28;01mexcept\u001b[39;00m timeout:\n\u001b[1;32m    706\u001b[0m         \u001b[38;5;28mself\u001b[39m\u001b[38;5;241m.\u001b[39m_timeout_occurred \u001b[38;5;241m=\u001b[39m \u001b[38;5;28;01mTrue\u001b[39;00m\n",
      "File \u001b[0;32m~/conda_envs/ffcv_cfs/lib/python3.9/ssl.py:1241\u001b[0m, in \u001b[0;36mSSLSocket.recv_into\u001b[0;34m(self, buffer, nbytes, flags)\u001b[0m\n\u001b[1;32m   1237\u001b[0m     \u001b[38;5;28;01mif\u001b[39;00m flags \u001b[38;5;241m!=\u001b[39m \u001b[38;5;241m0\u001b[39m:\n\u001b[1;32m   1238\u001b[0m         \u001b[38;5;28;01mraise\u001b[39;00m \u001b[38;5;167;01mValueError\u001b[39;00m(\n\u001b[1;32m   1239\u001b[0m           \u001b[38;5;124m\"\u001b[39m\u001b[38;5;124mnon-zero flags not allowed in calls to recv_into() on \u001b[39m\u001b[38;5;132;01m%s\u001b[39;00m\u001b[38;5;124m\"\u001b[39m \u001b[38;5;241m%\u001b[39m\n\u001b[1;32m   1240\u001b[0m           \u001b[38;5;28mself\u001b[39m\u001b[38;5;241m.\u001b[39m\u001b[38;5;18m__class__\u001b[39m)\n\u001b[0;32m-> 1241\u001b[0m     \u001b[38;5;28;01mreturn\u001b[39;00m \u001b[38;5;28;43mself\u001b[39;49m\u001b[38;5;241;43m.\u001b[39;49m\u001b[43mread\u001b[49m\u001b[43m(\u001b[49m\u001b[43mnbytes\u001b[49m\u001b[43m,\u001b[49m\u001b[43m \u001b[49m\u001b[43mbuffer\u001b[49m\u001b[43m)\u001b[49m\n\u001b[1;32m   1242\u001b[0m \u001b[38;5;28;01melse\u001b[39;00m:\n\u001b[1;32m   1243\u001b[0m     \u001b[38;5;28;01mreturn\u001b[39;00m \u001b[38;5;28msuper\u001b[39m()\u001b[38;5;241m.\u001b[39mrecv_into(buffer, nbytes, flags)\n",
      "File \u001b[0;32m~/conda_envs/ffcv_cfs/lib/python3.9/ssl.py:1099\u001b[0m, in \u001b[0;36mSSLSocket.read\u001b[0;34m(self, len, buffer)\u001b[0m\n\u001b[1;32m   1097\u001b[0m \u001b[38;5;28;01mtry\u001b[39;00m:\n\u001b[1;32m   1098\u001b[0m     \u001b[38;5;28;01mif\u001b[39;00m buffer \u001b[38;5;129;01mis\u001b[39;00m \u001b[38;5;129;01mnot\u001b[39;00m \u001b[38;5;28;01mNone\u001b[39;00m:\n\u001b[0;32m-> 1099\u001b[0m         \u001b[38;5;28;01mreturn\u001b[39;00m \u001b[38;5;28;43mself\u001b[39;49m\u001b[38;5;241;43m.\u001b[39;49m\u001b[43m_sslobj\u001b[49m\u001b[38;5;241;43m.\u001b[39;49m\u001b[43mread\u001b[49m\u001b[43m(\u001b[49m\u001b[38;5;28;43mlen\u001b[39;49m\u001b[43m,\u001b[49m\u001b[43m \u001b[49m\u001b[43mbuffer\u001b[49m\u001b[43m)\u001b[49m\n\u001b[1;32m   1100\u001b[0m     \u001b[38;5;28;01melse\u001b[39;00m:\n\u001b[1;32m   1101\u001b[0m         \u001b[38;5;28;01mreturn\u001b[39;00m \u001b[38;5;28mself\u001b[39m\u001b[38;5;241m.\u001b[39m_sslobj\u001b[38;5;241m.\u001b[39mread(\u001b[38;5;28mlen\u001b[39m)\n",
      "\u001b[0;31mKeyboardInterrupt\u001b[0m: "
     ]
    }
   ],
   "source": [
    "# Get big CLIP features\n",
    "hparams = processor.hparams\n",
    "clip_processor = failure_directions.CLIPProcessor(ds_mean=hparams['mean'], ds_std=hparams['std'], arch='ViT-L/14')\n",
    "clip_features = {}\n",
    "for split, loader in processor.loaders.items():\n",
    "    clip_features[split] = clip_processor.evaluate_clip_images(loader)"
   ]
  },
  {
   "cell_type": "code",
   "execution_count": null,
   "id": "15b9e97b",
   "metadata": {
    "scrolled": true
   },
   "outputs": [],
   "source": [
    "# svm_fitter = failure_directions.SVMFitter()\n",
    "# svm_fitter.set_preprocess()\n",
    "# val_gts, val_preds = processor.run_dict['val']['ys'], processor.run_dict['val']['preds']\n",
    "# cv_scores = svm_fitter.fit(preds=val_preds, ys=val_gts, latents=clip_features['val'])\n",
    "\n",
    "svm_fitter = failure_directions.SVMFitter()\n",
    "svm_fitter.import_model(\"cifar_vit_L_svm.pt\")\n",
    "\n",
    "test_ys = processor.run_dict['test']['ys']\n",
    "test_latents = clip_features['test']\n",
    "big_clip_dv = svm_fitter.predict(ys=test_ys, latents=test_latents, compute_metrics=False)[1]"
   ]
  },
  {
   "cell_type": "code",
   "execution_count": 13,
   "id": "1818a662",
   "metadata": {},
   "outputs": [],
   "source": []
  },
  {
   "cell_type": "code",
   "execution_count": null,
   "id": "0295b9a6",
   "metadata": {},
   "outputs": [],
   "source": [
    "import os\n",
    "os.makedirs(\"cifar_large_directions\")\n",
    "for i in range(10):\n",
    "    d = svm_fitter.clfs[i].coef_.squeeze(0)\n",
    "    np.save(f\"cifar_large_directions/dir{i}.npy\", d/np.linalg.norm(d))"
   ]
  },
  {
   "cell_type": "code",
   "execution_count": null,
   "id": "34ab92f5",
   "metadata": {},
   "outputs": [],
   "source": [
    "from failure_directions.src.clip_utils import get_caption_set\n",
    "captions = failure_directions.get_caption_set('CIFAR')\n",
    "ref_captions = clip_processor.evaluate_clip_captions(captions['reference'])\n",
    "np.save(\"cifar_large_directions/ref_captions.npy\", ref_captions.numpy())"
   ]
  },
  {
   "cell_type": "markdown",
   "id": "af206505",
   "metadata": {},
   "source": [
    "## Read the generated images"
   ]
  },
  {
   "cell_type": "code",
   "execution_count": 8,
   "id": "86aaf41a",
   "metadata": {},
   "outputs": [],
   "source": [
    "import src.stable_diffusion_utils as sd_utils\n",
    "from src.stable_diffusion_utils import DiffDataset"
   ]
  },
  {
   "cell_type": "code",
   "execution_count": 9,
   "id": "3cc4fae7",
   "metadata": {},
   "outputs": [],
   "source": [
    "\n",
    "path_dict = {\n",
    "    'pos': sd_utils.get_sd_dict(\"/mnt/cfs/home/saachij/src/stable-diffusion/pos_sd\", 10),\n",
    "    'neg': sd_utils.get_sd_dict(\"/mnt/cfs/home/saachij/src/stable-diffusion/neg_sd\", 10),\n",
    "    'neutral': sd_utils.get_sd_dict(\"/mnt/cfs/home/saachij/src/stable-diffusion/neutral_sd\", 10),\n",
    "}"
   ]
  },
  {
   "cell_type": "code",
   "execution_count": 10,
   "id": "a9b13ae0",
   "metadata": {},
   "outputs": [
    {
     "name": "stderr",
     "output_type": "stream",
     "text": [
      "100%|█████████████████████████████████████████████████████████████████████████████████████████████████████████████████████████████████████████████████████████████| 1000/1000 [00:40<00:00, 24.87it/s]\n",
      "100%|█████████████████████████████████████████████████████████████████████████████████████████████████████████████████████████████████████████████████████████████| 1000/1000 [00:41<00:00, 24.32it/s]\n",
      "100%|█████████████████████████████████████████████████████████████████████████████████████████████████████████████████████████████████████████████████████████████| 1000/1000 [00:40<00:00, 24.83it/s]\n"
     ]
    }
   ],
   "source": [
    "import torchvision.transforms as transforms\n",
    "import torchvision\n",
    "from failure_directions.src.decoders_and_transforms import PyTranslate, PyCutOut\n",
    "hparams = processor.hparams\n",
    "\n",
    "fill_color = tuple(map(int, hparams['mean']))\n",
    "\n",
    "base_transform = transforms.Compose([\n",
    "    transforms.ToTensor(),\n",
    "    transforms.Normalize(mean=np.array(hparams['mean'])/255, std=np.array(hparams['std'])/255)])\n",
    "\n",
    "train_transform = transforms.Compose([\n",
    "    transforms.RandomHorizontalFlip(),\n",
    "    PyTranslate(2),\n",
    "    PyCutOut(4, fill_color),\n",
    "    base_transform\n",
    "])\n",
    "\n",
    "# For visualization\n",
    "INV_NORM = transforms.Compose([ transforms.Normalize(mean = [ 0., 0., 0. ],\n",
    "                                                     std = [255/x for x in hparams['std']]),\n",
    "                                transforms.Normalize(mean = [-x /255 for x in hparams['mean']],\n",
    "                                                     std = [ 1., 1., 1. ])])\n",
    "TOIMAGE = transforms.Compose([INV_NORM, transforms.ToPILImage()])\n",
    "resize_base_transform = transforms.Compose([base_transform, transforms.Resize((32, 32))])\n",
    "resize_train_transform = transforms.Compose([train_transform, transforms.Resize((32, 32))])\n",
    "sd_ds = {\n",
    "    k:  sd_utils.SDDataset(path_dict, name=k, num_imgs_per_class=100, transform=resize_base_transform)\n",
    "    for k in ['pos', 'neg', 'neutral']\n",
    "}"
   ]
  },
  {
   "cell_type": "code",
   "execution_count": 10,
   "id": "e9ce0d2a",
   "metadata": {},
   "outputs": [],
   "source": [
    "def evaluate_model(model, loader):\n",
    "    with torch.no_grad():\n",
    "        with autocast():\n",
    "            gts, preds, confs = [], [], []\n",
    "            for x, y in tqdm(loader):\n",
    "                x = x.cuda()\n",
    "                logits = model(x)\n",
    "                gts.append(y.cpu())\n",
    "                preds.append(logits.argmax(-1).cpu())\n",
    "                softmax_logits = nn.Softmax(dim=-1)(logits)\n",
    "                confs.append(softmax_logits[torch.arange(logits.shape[0]), y].cpu())\n",
    "    gts = torch.cat(gts)\n",
    "    preds = torch.cat(preds)\n",
    "    confs = torch.cat(confs)\n",
    "    return gts, preds, confs"
   ]
  },
  {
   "cell_type": "code",
   "execution_count": 11,
   "id": "5aad667f",
   "metadata": {},
   "outputs": [
    {
     "name": "stderr",
     "output_type": "stream",
     "text": [
      "100%|██████████| 10/10 [00:01<00:00,  5.32it/s]\n",
      "100%|██████████| 10/10 [00:01<00:00,  5.64it/s]\n",
      "100%|██████████| 10/10 [00:01<00:00,  5.45it/s]\n"
     ]
    }
   ],
   "source": [
    "# See relative accuracies\n",
    "def get_diff_predictions(name,target_class=None):\n",
    "    base_ds = sd_ds[name]\n",
    "    base_loader = torch.utils.data.DataLoader(base_ds, batch_size=100, shuffle=False, drop_last=False)\n",
    "    gts, preds, confs = evaluate_model(svm_model, base_loader)\n",
    "    if target_class is not None:\n",
    "        mask = gts == target_class\n",
    "        gts, preds, confs = gts[mask], preds[mask], confs[mask]\n",
    "    return gts, preds, confs, (gts==preds).float().mean().item()\n",
    "\n",
    "accs = {\n",
    "    k: get_diff_predictions(name=k)[3]\n",
    "    for k in  ['pos', 'neg', 'neutral']\n",
    "}\n",
    "print(accs)"
   ]
  },
  {
   "cell_type": "code",
   "execution_count": 16,
   "id": "a41e7124",
   "metadata": {},
   "outputs": [
    {
     "ename": "AttributeError",
     "evalue": "module 'torchvision' has no attribute 'ToPILImage'",
     "output_type": "error",
     "traceback": [
      "\u001b[0;31m---------------------------------------------------------------------------\u001b[0m",
      "\u001b[0;31mAttributeError\u001b[0m                            Traceback (most recent call last)",
      "Input \u001b[0;32mIn [16]\u001b[0m, in \u001b[0;36m<cell line: 1>\u001b[0;34m()\u001b[0m\n\u001b[0;32m----> 1\u001b[0m \u001b[43mtorchvision\u001b[49m\u001b[38;5;241;43m.\u001b[39;49m\u001b[43mToPILImage\u001b[49m()(INV_NORM(sd_ds[\u001b[38;5;124m'\u001b[39m\u001b[38;5;124mpos\u001b[39m\u001b[38;5;124m'\u001b[39m][\u001b[38;5;241m0\u001b[39m][\u001b[38;5;241m0\u001b[39m]))\n",
      "\u001b[0;31mAttributeError\u001b[0m: module 'torchvision' has no attribute 'ToPILImage'"
     ]
    }
   ],
   "source": [
    "torchvision.ToPILImage()(INV_NORM(sd_ds['pos'][0][0]))"
   ]
  },
  {
   "cell_type": "code",
   "execution_count": 12,
   "id": "508979e3",
   "metadata": {},
   "outputs": [
    {
     "name": "stdout",
     "output_type": "stream",
     "text": [
      "{'pos': 0.6759999990463257, 'neg': 0.36899998784065247, 'neutral': 0.6850000023841858}\n"
     ]
    }
   ],
   "source": [
    "print(accs)"
   ]
  },
  {
   "cell_type": "markdown",
   "id": "37a324ac",
   "metadata": {},
   "source": [
    "# Train models"
   ]
  },
  {
   "cell_type": "code",
   "execution_count": 33,
   "id": "3bc68f9f",
   "metadata": {},
   "outputs": [],
   "source": [
    "bsz = fresh_hparams['batch_size']\n",
    "ds_root = \"/mnt/cfs/datasets/cifar\"\n",
    "orig_train_ds = torchvision.datasets.CIFAR10(ds_root, train=True, transform=base_transform)\n",
    "aug_train_ds = torchvision.datasets.CIFAR10(ds_root, train=True, transform=train_transform)\n",
    "test_ds = torchvision.datasets.CIFAR10(ds_root, train=False, transform=base_transform)\n",
    "\n",
    "val_indices = processor.indices_dict['val_indices']\n",
    "train_indices = processor.indices_dict['train_indices']\n",
    "unlabeled_indices = processor.indices_dict['unlabeled_indices']\n",
    "\n",
    "\n",
    "train_ds = torch.utils.data.Subset(aug_train_ds, train_indices)\n",
    "val_ds = torch.utils.data.Subset(orig_train_ds, val_indices)\n",
    "unlabeled_ds = torch.utils.data.Subset(aug_train_ds, unlabeled_indices)\n",
    "\n",
    "no_aug_train_ds = torch.utils.data.Subset(orig_train_ds, train_indices)\n",
    "\n",
    "# for unlabeled\n",
    "# unlabeled_dv = processor.metrics[f'unlabeled_metrics']['decision_values']\n",
    "# unlabeled_class = processor.metrics[f'unlabeled_metrics']['classes'] # 0 if female, 1 if male\n",
    "# unlabeled_aug_inds = []\n",
    "# unlabeled_K = 100\n",
    "# for c in range(10):\n",
    "#     mask = unlabeled_class == c\n",
    "#     masked_indices = np.arange(len(unlabeled_class))[mask]\n",
    "#     unlabeled_aug_inds.append(masked_indices[np.argsort(unlabeled_dv[mask])[:unlabeled_K]])\n",
    "# unlabeled_aug_inds = np.concatenate(unlabeled_aug_inds)\n",
    "# unlabeled_ds_for_aug = torch.utils.data.Subset(unlabeled_ds, unlabeled_aug_inds)\n",
    "# sd_ds['unlabeled'] = unlabeled_ds_for_aug\n",
    "\n",
    "train_loader = torch.utils.data.DataLoader(train_ds, batch_size=bsz, shuffle=True, drop_last=True)\n",
    "no_shuffle_train_loader = torch.utils.data.DataLoader(train_ds, batch_size=bsz, shuffle=False, drop_last=False)\n",
    "test_loader = torch.utils.data.DataLoader(test_ds, batch_size=bsz, shuffle=False, drop_last=False)\n",
    "val_loader = torch.utils.data.DataLoader(val_ds, batch_size=bsz, shuffle=False, drop_last=False)\n",
    "no_aug_train_loader = torch.utils.data.DataLoader(no_aug_train_ds, batch_size=bsz, shuffle=False, drop_last=False)\n",
    "\n"
   ]
  },
  {
   "cell_type": "code",
   "execution_count": 32,
   "id": "017426b7",
   "metadata": {},
   "outputs": [],
   "source": [
    "import copy\n",
    "\n",
    "def run_model(train_loader_, val_loader_, test_loader_, set_device=False):\n",
    "    build_fn = failure_directions.model_utils.BUILD_FUNCTIONS[hparams['arch_type']]\n",
    "    model = build_fn(hparams['arch'], hparams['num_classes'])\n",
    "    model = model.cuda()\n",
    "\n",
    "    training_args=hparams['training']\n",
    "    training_args['iters_per_epoch'] = len(train_loader_)\n",
    "    trainer = failure_directions.LightWeightTrainer(training_args=training_args,\n",
    "                                                    exp_name='temp', enable_logging=False,\n",
    "                                                    bce=False, set_device=set_device)\n",
    "    trainer.fit(model, train_loader_, val_loader_)\n",
    "    return evaluate_model(model, test_loader_)\n",
    "\n",
    "def run_finetune_model(train_loader_, val_loader_, test_loader_, set_device=False, freeze=True):\n",
    "    \n",
    "    finetune_training = {\n",
    "     'epochs': 15,\n",
    "     'lr': 0.1,\n",
    "     'optimizer': {'momentum': 0.9, 'weight_decay': 0.0005},\n",
    "     'lr_scheduler': {'type': 'cyclic', 'lr_peak_epoch': 5}\n",
    "    }\n",
    "    build_fn = failure_directions.model_utils.BUILD_FUNCTIONS[hparams['arch_type']]\n",
    "    model = copy.deepcopy(svm_model).train()\n",
    "    \n",
    "    if freeze:\n",
    "        for name, p in model.named_parameters():\n",
    "            if name.split('.')[0] != 'linear':\n",
    "                print(\"freezing\", name)\n",
    "                p.requires_grad = False\n",
    "\n",
    "\n",
    "    training_args=finetune_training\n",
    "    training_args['iters_per_epoch'] = len(train_loader_)\n",
    "    trainer = failure_directions.LightWeightTrainer(training_args=training_args,\n",
    "                                                    exp_name='temp', enable_logging=False,\n",
    "                                                    bce=False, set_device=set_device)\n",
    "    trainer.fit(model, train_loader_, val_loader_)\n",
    "    return evaluate_model(model, test_loader_)"
   ]
  },
  {
   "cell_type": "code",
   "execution_count": 73,
   "id": "59e3f058",
   "metadata": {},
   "outputs": [
    {
     "name": "stdout",
     "output_type": "stream",
     "text": [
      "freezing conv1.weight\n",
      "freezing bn1.weight\n",
      "freezing bn1.bias\n",
      "freezing layer1.0.conv1.weight\n",
      "freezing layer1.0.bn1.weight\n",
      "freezing layer1.0.bn1.bias\n",
      "freezing layer1.0.conv2.weight\n",
      "freezing layer1.0.bn2.weight\n",
      "freezing layer1.0.bn2.bias\n",
      "freezing layer1.1.conv1.weight\n",
      "freezing layer1.1.bn1.weight\n",
      "freezing layer1.1.bn1.bias\n",
      "freezing layer1.1.conv2.weight\n",
      "freezing layer1.1.bn2.weight\n",
      "freezing layer1.1.bn2.bias\n",
      "freezing layer2.0.conv1.weight\n",
      "freezing layer2.0.bn1.weight\n",
      "freezing layer2.0.bn1.bias\n",
      "freezing layer2.0.conv2.weight\n",
      "freezing layer2.0.bn2.weight\n",
      "freezing layer2.0.bn2.bias\n",
      "freezing layer2.0.shortcut.0.weight\n",
      "freezing layer2.0.shortcut.1.weight\n",
      "freezing layer2.0.shortcut.1.bias\n",
      "freezing layer2.1.conv1.weight\n",
      "freezing layer2.1.bn1.weight\n",
      "freezing layer2.1.bn1.bias\n",
      "freezing layer2.1.conv2.weight\n",
      "freezing layer2.1.bn2.weight\n",
      "freezing layer2.1.bn2.bias\n",
      "freezing layer3.0.conv1.weight\n",
      "freezing layer3.0.bn1.weight\n",
      "freezing layer3.0.bn1.bias\n",
      "freezing layer3.0.conv2.weight\n",
      "freezing layer3.0.bn2.weight\n",
      "freezing layer3.0.bn2.bias\n",
      "freezing layer3.0.shortcut.0.weight\n",
      "freezing layer3.0.shortcut.1.weight\n",
      "freezing layer3.0.shortcut.1.bias\n",
      "freezing layer3.1.conv1.weight\n",
      "freezing layer3.1.bn1.weight\n",
      "freezing layer3.1.bn1.bias\n",
      "freezing layer3.1.conv2.weight\n",
      "freezing layer3.1.bn2.weight\n",
      "freezing layer3.1.bn2.bias\n",
      "freezing layer4.0.conv1.weight\n",
      "freezing layer4.0.bn1.weight\n",
      "freezing layer4.0.bn1.bias\n",
      "freezing layer4.0.conv2.weight\n",
      "freezing layer4.0.bn2.weight\n",
      "freezing layer4.0.bn2.bias\n",
      "freezing layer4.0.shortcut.0.weight\n",
      "freezing layer4.0.shortcut.1.weight\n",
      "freezing layer4.0.shortcut.1.bias\n",
      "freezing layer4.1.conv1.weight\n",
      "freezing layer4.1.bn1.weight\n",
      "freezing layer4.1.bn1.bias\n",
      "freezing layer4.1.conv2.weight\n",
      "freezing layer4.1.bn2.weight\n",
      "freezing layer4.1.bn2.bias\n"
     ]
    },
    {
     "name": "stderr",
     "output_type": "stream",
     "text": [
      "Train Epoch: 0: 100%|██████████| 21/21 [00:03<00:00,  6.57it/s, loss=0.426, acc=0.855]\n",
      "Val Epoch: 0: 100%|██████████| 20/20 [00:01<00:00, 10.31it/s, loss=0.43, acc=0.871] \n"
     ]
    },
    {
     "name": "stdout",
     "output_type": "stream",
     "text": [
      "LR: 0.020000000000000004, Train Loss: 0.4191, Train Acc: 0.8808, Val Loss: 0.6863, Val Acc: 0.7984\n"
     ]
    },
    {
     "name": "stderr",
     "output_type": "stream",
     "text": [
      "Train Epoch: 1: 100%|██████████| 21/21 [00:03<00:00,  6.43it/s, loss=0.395, acc=0.889]\n",
      "Val Epoch: 1: 100%|██████████| 20/20 [00:01<00:00, 10.31it/s, loss=0.433, acc=0.868]\n"
     ]
    },
    {
     "name": "stdout",
     "output_type": "stream",
     "text": [
      "LR: 0.04000000000000001, Train Loss: 0.4271, Train Acc: 0.8789, Val Loss: 0.6839, Val Acc: 0.7963\n"
     ]
    },
    {
     "name": "stderr",
     "output_type": "stream",
     "text": [
      "Train Epoch: 2: 100%|██████████| 21/21 [00:03<00:00,  6.47it/s, loss=0.358, acc=0.889]\n",
      "Val Epoch: 2: 100%|██████████| 20/20 [00:01<00:00, 10.28it/s, loss=0.435, acc=0.864]\n"
     ]
    },
    {
     "name": "stdout",
     "output_type": "stream",
     "text": [
      "LR: 0.06000000000000001, Train Loss: 0.4153, Train Acc: 0.8783, Val Loss: 0.6776, Val Acc: 0.7954\n"
     ]
    },
    {
     "name": "stderr",
     "output_type": "stream",
     "text": [
      "Train Epoch: 3: 100%|██████████| 21/21 [00:03<00:00,  6.57it/s, loss=0.439, acc=0.883]\n",
      "Val Epoch: 3: 100%|██████████| 20/20 [00:01<00:00, 10.40it/s, loss=0.416, acc=0.86] \n"
     ]
    },
    {
     "name": "stdout",
     "output_type": "stream",
     "text": [
      "LR: 0.08000000000000002, Train Loss: 0.4113, Train Acc: 0.8800, Val Loss: 0.6718, Val Acc: 0.7938\n"
     ]
    },
    {
     "name": "stderr",
     "output_type": "stream",
     "text": [
      "Train Epoch: 4: 100%|██████████| 21/21 [00:03<00:00,  6.56it/s, loss=0.407, acc=0.904]\n",
      "Val Epoch: 4: 100%|██████████| 20/20 [00:01<00:00, 10.45it/s, loss=0.395, acc=0.868]\n"
     ]
    },
    {
     "name": "stdout",
     "output_type": "stream",
     "text": [
      "LR: 0.1, Train Loss: 0.4146, Train Acc: 0.8761, Val Loss: 0.6591, Val Acc: 0.7951\n"
     ]
    },
    {
     "name": "stderr",
     "output_type": "stream",
     "text": [
      "Train Epoch: 5: 100%|██████████| 21/21 [00:03<00:00,  6.67it/s, loss=0.391, acc=0.879]\n",
      "Val Epoch: 5: 100%|██████████| 20/20 [00:01<00:00, 10.58it/s, loss=0.387, acc=0.871]\n"
     ]
    },
    {
     "name": "stdout",
     "output_type": "stream",
     "text": [
      "LR: 0.09000000000000001, Train Loss: 0.4095, Train Acc: 0.8767, Val Loss: 0.6563, Val Acc: 0.7938\n"
     ]
    },
    {
     "name": "stderr",
     "output_type": "stream",
     "text": [
      "Train Epoch: 6: 100%|██████████| 21/21 [00:03<00:00,  6.68it/s, loss=0.31, acc=0.916] \n",
      "Val Epoch: 6: 100%|██████████| 20/20 [00:01<00:00, 10.70it/s, loss=0.378, acc=0.871]\n"
     ]
    },
    {
     "name": "stdout",
     "output_type": "stream",
     "text": [
      "LR: 0.08000000000000002, Train Loss: 0.4045, Train Acc: 0.8795, Val Loss: 0.6563, Val Acc: 0.7938\n"
     ]
    },
    {
     "name": "stderr",
     "output_type": "stream",
     "text": [
      "Train Epoch: 7: 100%|██████████| 21/21 [00:03<00:00,  6.64it/s, loss=0.372, acc=0.885]\n",
      "Val Epoch: 7: 100%|██████████| 20/20 [00:01<00:00, 10.48it/s, loss=0.345, acc=0.886]\n"
     ]
    },
    {
     "name": "stdout",
     "output_type": "stream",
     "text": [
      "LR: 0.06999999999999999, Train Loss: 0.4031, Train Acc: 0.8764, Val Loss: 0.6469, Val Acc: 0.7974\n"
     ]
    },
    {
     "name": "stderr",
     "output_type": "stream",
     "text": [
      "Train Epoch: 8: 100%|██████████| 21/21 [00:03<00:00,  6.73it/s, loss=0.347, acc=0.898]\n",
      "Val Epoch: 8: 100%|██████████| 20/20 [00:01<00:00, 10.64it/s, loss=0.387, acc=0.871]\n"
     ]
    },
    {
     "name": "stdout",
     "output_type": "stream",
     "text": [
      "LR: 0.06, Train Loss: 0.3987, Train Acc: 0.8819, Val Loss: 0.6496, Val Acc: 0.7950\n"
     ]
    },
    {
     "name": "stderr",
     "output_type": "stream",
     "text": [
      "Train Epoch: 9: 100%|██████████| 21/21 [00:03<00:00,  6.68it/s, loss=0.385, acc=0.859]\n",
      "Val Epoch: 9: 100%|██████████| 20/20 [00:01<00:00, 10.87it/s, loss=0.397, acc=0.871]\n"
     ]
    },
    {
     "name": "stdout",
     "output_type": "stream",
     "text": [
      "LR: 0.05, Train Loss: 0.3980, Train Acc: 0.8796, Val Loss: 0.6497, Val Acc: 0.7957\n"
     ]
    },
    {
     "name": "stderr",
     "output_type": "stream",
     "text": [
      "Train Epoch: 10: 100%|██████████| 21/21 [00:03<00:00,  6.66it/s, loss=0.471, acc=0.85] \n",
      "Val Epoch: 10: 100%|██████████| 20/20 [00:01<00:00, 10.52it/s, loss=0.38, acc=0.875] \n"
     ]
    },
    {
     "name": "stdout",
     "output_type": "stream",
     "text": [
      "LR: 0.039999999999999994, Train Loss: 0.3904, Train Acc: 0.8824, Val Loss: 0.6477, Val Acc: 0.7969\n"
     ]
    },
    {
     "name": "stderr",
     "output_type": "stream",
     "text": [
      "Train Epoch: 11: 100%|██████████| 21/21 [00:03<00:00,  6.68it/s, loss=0.415, acc=0.865]\n",
      "Val Epoch: 11: 100%|██████████| 20/20 [00:01<00:00, 10.74it/s, loss=0.361, acc=0.882]\n"
     ]
    },
    {
     "name": "stdout",
     "output_type": "stream",
     "text": [
      "LR: 0.029999999999999995, Train Loss: 0.3954, Train Acc: 0.8836, Val Loss: 0.6473, Val Acc: 0.7981\n"
     ]
    },
    {
     "name": "stderr",
     "output_type": "stream",
     "text": [
      "Train Epoch: 12: 100%|██████████| 21/21 [00:03<00:00,  6.60it/s, loss=0.453, acc=0.875]\n",
      "Val Epoch: 12: 100%|██████████| 20/20 [00:01<00:00, 10.46it/s, loss=0.395, acc=0.875]\n"
     ]
    },
    {
     "name": "stdout",
     "output_type": "stream",
     "text": [
      "LR: 0.019999999999999997, Train Loss: 0.3936, Train Acc: 0.8815, Val Loss: 0.6476, Val Acc: 0.7968\n"
     ]
    },
    {
     "name": "stderr",
     "output_type": "stream",
     "text": [
      "Train Epoch: 13: 100%|██████████| 21/21 [00:03<00:00,  6.65it/s, loss=0.434, acc=0.869]\n",
      "Val Epoch: 13: 100%|██████████| 20/20 [00:01<00:00, 10.46it/s, loss=0.368, acc=0.879]\n"
     ]
    },
    {
     "name": "stdout",
     "output_type": "stream",
     "text": [
      "LR: 0.009999999999999988, Train Loss: 0.3943, Train Acc: 0.8815, Val Loss: 0.6482, Val Acc: 0.7983\n"
     ]
    },
    {
     "name": "stderr",
     "output_type": "stream",
     "text": [
      "Train Epoch: 14: 100%|██████████| 21/21 [00:03<00:00,  6.66it/s, loss=0.354, acc=0.879]\n",
      "Val Epoch: 14: 100%|██████████| 20/20 [00:01<00:00, 10.34it/s, loss=0.372, acc=0.882]\n"
     ]
    },
    {
     "name": "stdout",
     "output_type": "stream",
     "text": [
      "LR: 0.0, Train Loss: 0.3896, Train Acc: 0.8807, Val Loss: 0.6457, Val Acc: 0.7978\n"
     ]
    },
    {
     "name": "stderr",
     "output_type": "stream",
     "text": [
      "100%|██████████| 20/20 [00:01<00:00, 10.82it/s]\n"
     ]
    }
   ],
   "source": [
    "# See relative accuracies\n",
    "#4\n",
    "flip_interventions = {}\n",
    "for k in ['pos', 'neg', 'neutral']:\n",
    "# for k in ['unlabeled']:\n",
    "    flip_interventions[k] = []\n",
    "    for v in range(1):\n",
    "        base_synth_dataset = sd_ds[k]\n",
    "        synth_train_set = torch.utils.data.ConcatDataset([train_ds, base_synth_dataset])\n",
    "        synth_train_loader = torch.utils.data.DataLoader(synth_train_set, batch_size=bsz, shuffle=True, drop_last=True)\n",
    "        flip_interventions[k].append(run_finetune_model(synth_train_loader, val_loader, test_loader, set_device=True, freeze=True))\n"
   ]
  },
  {
   "cell_type": "code",
   "execution_count": 18,
   "id": "39ea4d15",
   "metadata": {},
   "outputs": [
    {
     "name": "stderr",
     "output_type": "stream",
     "text": [
      "100%|███████████████████████████████████████████████████████████████████████████████████████████████████████████████████████████████████████████████████████████████| 100/100 [00:01<00:00, 53.50it/s]\n",
      "100%|███████████████████████████████████████████████████████████████████████████████████████████████████████████████████████████████████████████████████████████████| 100/100 [00:01<00:00, 55.11it/s]\n",
      "100%|███████████████████████████████████████████████████████████████████████████████████████████████████████████████████████████████████████████████████████████████| 100/100 [00:01<00:00, 56.08it/s]\n",
      "100%|███████████████████████████████████████████████████████████████████████████████████████████████████████████████████████████████████████████████████████████████| 300/300 [00:05<00:00, 57.06it/s]\n",
      "/mnt/cfs/home/saachij/src/failure-directions/analysis_nbs/../failure_directions/src/svm_utils.py:51: UserWarning: To copy construct from a tensor, it is recommended to use sourceTensor.clone().detach() or sourceTensor.clone().detach().requires_grad_(True), rather than torch.tensor(sourceTensor).\n",
      "  latents = torch.tensor(latents)\n",
      "/mnt/cfs/home/saachij/src/failure-directions/analysis_nbs/../failure_directions/src/svm_utils.py:47: UserWarning: To copy construct from a tensor, it is recommended to use sourceTensor.clone().detach() or sourceTensor.clone().detach().requires_grad_(True), rather than torch.tensor(sourceTensor).\n",
      "  latents = torch.tensor(latents)\n",
      "/mnt/cfs/home/saachij/src/failure-directions/analysis_nbs/../failure_directions/src/svm_utils.py:43: UserWarning: To copy construct from a tensor, it is recommended to use sourceTensor.clone().detach() or sourceTensor.clone().detach().requires_grad_(True), rather than torch.tensor(sourceTensor).\n",
      "  latents = torch.tensor(latents)\n",
      "100%|█████████████████████████████████████████████████████████████████████████████████████████████████████████████████████████████████████████████████████████████████| 10/10 [00:00<00:00, 67.03it/s]\n"
     ]
    },
    {
     "name": "stdout",
     "output_type": "stream",
     "text": [
      "consistent with old results 1.0\n"
     ]
    },
    {
     "name": "stderr",
     "output_type": "stream",
     "text": [
      "100%|██████████████████████████████████████████████████████████████████████████████████████████████████████████████████████████████████████████████████████████████| 11/11 [00:00<00:00, 11961.98it/s]\n"
     ]
    },
    {
     "name": "stdout",
     "output_type": "stream",
     "text": [
      "dog\n",
      "bird\n",
      "automobile\n",
      "airplane\n",
      "truck\n",
      "ship\n",
      "frog\n",
      "cat\n",
      "horse\n",
      "deer\n",
      "reference\n",
      "0.6642218046323067\n",
      "performing classify captions on svm\n"
     ]
    },
    {
     "name": "stderr",
     "output_type": "stream",
     "text": [
      "100%|███████████████████████████████████████████████████████████████████████████████████████████████████████████████████████████████████████████████████████████████████| 1/1 [00:00<00:00, 58.75it/s]\n",
      "100%|██████████████████████████████████████████████████████████████████████████████████████████████████████████████████████████████████████████████████████████████████| 1/1 [00:00<00:00, 143.68it/s]\n",
      "/mnt/cfs/home/saachij/src/failure-directions/analysis_nbs/../failure_directions/src/svm_utils.py:51: UserWarning: To copy construct from a tensor, it is recommended to use sourceTensor.clone().detach() or sourceTensor.clone().detach().requires_grad_(True), rather than torch.tensor(sourceTensor).\n",
      "  latents = torch.tensor(latents)\n",
      "/mnt/cfs/home/saachij/src/failure-directions/analysis_nbs/../failure_directions/src/svm_utils.py:47: UserWarning: To copy construct from a tensor, it is recommended to use sourceTensor.clone().detach() or sourceTensor.clone().detach().requires_grad_(True), rather than torch.tensor(sourceTensor).\n",
      "  latents = torch.tensor(latents)\n",
      "/mnt/cfs/home/saachij/src/failure-directions/analysis_nbs/../failure_directions/src/svm_utils.py:43: UserWarning: To copy construct from a tensor, it is recommended to use sourceTensor.clone().detach() or sourceTensor.clone().detach().requires_grad_(True), rather than torch.tensor(sourceTensor).\n",
      "  latents = torch.tensor(latents)\n",
      "100%|████████████████████████████████████████████████████████████████████████████████████████████████████████████████████████████████████████████████████████████████| 10/10 [00:00<00:00, 501.33it/s]\n"
     ]
    },
    {
     "name": "stdout",
     "output_type": "stream",
     "text": [
      "{'neg_captions': array(['a photo of a red airplane inside', 'a photo of a red airplane',\n",
      "       'a photo of a red airplane in the air',\n",
      "       'a photo of a red airplane outside',\n",
      "       'a photo of a red airplane flying',\n",
      "       'a photo of a red airplane on a road',\n",
      "       'a photo of a red airplane on the tarmac',\n",
      "       'a photo of a airplane inside',\n",
      "       'a photo of a orange airplane inside',\n",
      "       'a photo of a orange airplane on a road'], dtype='<U50'),\n",
      " 'neg_latents': array([[ 8.91113281e-02,  1.78710938e-01,  1.47705078e-01, ...,\n",
      "        -2.55126953e-01,  2.15576172e-01,  1.80358887e-02],\n",
      "       [ 1.57714844e-01,  1.50268555e-01,  2.18383789e-01, ...,\n",
      "        -2.76367188e-01,  1.00769043e-01,  3.25202942e-04],\n",
      "       [ 2.38525391e-01,  1.01623535e-01,  1.07360840e-01, ...,\n",
      "        -2.62695312e-01,  2.40600586e-01, -1.24145508e-01],\n",
      "       ...,\n",
      "       [ 1.56005859e-01,  2.57080078e-01, -3.31115723e-03, ...,\n",
      "        -2.81250000e-01,  2.72216797e-01, -2.03369141e-01],\n",
      "       [ 2.97546387e-03,  3.32519531e-01,  2.75878906e-01, ...,\n",
      "        -9.67407227e-02,  2.08374023e-01, -3.13476562e-01],\n",
      "       [-4.37622070e-02,  2.88574219e-01,  3.07373047e-01, ...,\n",
      "         2.38647461e-02,  2.21679688e-01, -3.50341797e-01]], dtype=float32),\n",
      " 'neg_vals': array([-0.15917154, -0.02664285,  0.00135294,  0.00227117,  0.03064588,\n",
      "        0.03946316,  0.14948916,  0.16178262,  0.16574067,  0.23356129]),\n",
      " 'pos_captions': array(['a photo of a black airplane',\n",
      "       'a photo of a black airplane on a white background',\n",
      "       'a photo of a black airplane flying',\n",
      "       'a photo of a black airplane on a blue background',\n",
      "       'a photo of a black airplane on the tarmac',\n",
      "       'a photo of a black airplane outside',\n",
      "       'a photo of a black airplane in the air',\n",
      "       'a photo of a blue airplane on a black background',\n",
      "       'a photo of a black airplane on a black background',\n",
      "       'a photo of a airplane on a black background'], dtype='<U50'),\n",
      " 'pos_latents': array([[ 0.39233398,  0.11175537,  0.02081299, ..., -0.09649658,\n",
      "         0.29785156, -0.171875  ],\n",
      "       [ 0.25170898, -0.02941895, -0.15466309, ...,  0.06726074,\n",
      "         0.21826172, -0.61376953],\n",
      "       [ 0.4255371 ,  0.15893555, -0.0637207 , ..., -0.08886719,\n",
      "         0.38110352, -0.3046875 ],\n",
      "       ...,\n",
      "       [ 0.20349121,  0.00614548, -0.15942383, ...,  0.23266602,\n",
      "         0.00428772, -0.02505493],\n",
      "       [ 0.21801758,  0.07427979, -0.1895752 , ...,  0.11755371,\n",
      "         0.20996094, -0.296875  ],\n",
      "       [ 0.10906982,  0.14428711, -0.14611816, ...,  0.0904541 ,\n",
      "         0.19970703, -0.23400879]], dtype=float32),\n",
      " 'pos_vals': array([1.17510227, 1.13754   , 1.0898554 , 1.06156651, 1.05663583,\n",
      "       1.0469013 , 1.02648378, 0.98986139, 0.98695551, 0.97105544])}\n",
      "--------\n",
      "pos: a photo of a black airplane\n",
      "neg: a photo of a red airplane inside\n",
      "0.7010094305812045\n",
      "performing classify captions on svm\n"
     ]
    },
    {
     "name": "stderr",
     "output_type": "stream",
     "text": [
      "100%|███████████████████████████████████████████████████████████████████████████████████████████████████████████████████████████████████████████████████████████████████| 1/1 [00:00<00:00, 75.58it/s]\n",
      "100%|██████████████████████████████████████████████████████████████████████████████████████████████████████████████████████████████████████████████████████████████████| 1/1 [00:00<00:00, 145.52it/s]\n",
      "/mnt/cfs/home/saachij/src/failure-directions/analysis_nbs/../failure_directions/src/svm_utils.py:51: UserWarning: To copy construct from a tensor, it is recommended to use sourceTensor.clone().detach() or sourceTensor.clone().detach().requires_grad_(True), rather than torch.tensor(sourceTensor).\n",
      "  latents = torch.tensor(latents)\n",
      "/mnt/cfs/home/saachij/src/failure-directions/analysis_nbs/../failure_directions/src/svm_utils.py:47: UserWarning: To copy construct from a tensor, it is recommended to use sourceTensor.clone().detach() or sourceTensor.clone().detach().requires_grad_(True), rather than torch.tensor(sourceTensor).\n",
      "  latents = torch.tensor(latents)\n",
      "/mnt/cfs/home/saachij/src/failure-directions/analysis_nbs/../failure_directions/src/svm_utils.py:43: UserWarning: To copy construct from a tensor, it is recommended to use sourceTensor.clone().detach() or sourceTensor.clone().detach().requires_grad_(True), rather than torch.tensor(sourceTensor).\n",
      "  latents = torch.tensor(latents)\n",
      "100%|████████████████████████████████████████████████████████████████████████████████████████████████████████████████████████████████████████████████████████████████| 10/10 [00:00<00:00, 643.26it/s]\n"
     ]
    },
    {
     "name": "stdout",
     "output_type": "stream",
     "text": [
      "{'neg_captions': array(['a photo of a automobile outside',\n",
      "       'a photo of a automobile parked', 'a photo of a automobile inside',\n",
      "       'a photo of a automobile', 'a photo of a brown automobile inside',\n",
      "       'a photo of a brown automobile parked',\n",
      "       'a photo of a brown automobile',\n",
      "       'a photo of a brown automobile outside',\n",
      "       'a photo of a green automobile inside',\n",
      "       'a photo of a green automobile outside'], dtype='<U52'),\n",
      " 'neg_latents': array([[ 0.07891846,  0.36645508, -0.05593872, ..., -0.22521973,\n",
      "        -0.37817383, -0.14660645],\n",
      "       [ 0.17382812,  0.2088623 ,  0.02426147, ..., -0.19006348,\n",
      "        -0.52734375, -0.1538086 ],\n",
      "       [ 0.02319336,  0.22021484, -0.2529297 , ..., -0.16711426,\n",
      "        -0.32104492, -0.12371826],\n",
      "       ...,\n",
      "       [ 0.06677246,  0.3996582 ,  0.03091431, ..., -0.04257202,\n",
      "        -0.41625977, -0.23498535],\n",
      "       [-0.04025269,  0.19604492, -0.22167969, ...,  0.13232422,\n",
      "        -0.25390625,  0.22509766],\n",
      "       [ 0.0335083 ,  0.2890625 , -0.07110596, ...,  0.02987671,\n",
      "        -0.2890625 ,  0.19555664]], dtype=float32),\n",
      " 'neg_vals': array([-0.81953757, -0.81345878, -0.78341022, -0.78061503, -0.77158767,\n",
      "       -0.76534663, -0.75658354, -0.75592091, -0.74868413, -0.72578886]),\n",
      " 'pos_captions': array(['a photo of a blue automobile on a black background',\n",
      "       'a photo of a black automobile on a blue background',\n",
      "       'a photo of a red automobile on a blue background',\n",
      "       'a photo of a blue automobile',\n",
      "       'a photo of a blue automobile on a blue background',\n",
      "       'a photo of a red automobile on a black background',\n",
      "       'a photo of a blue automobile on a white background',\n",
      "       'a photo of a black automobile on a black background',\n",
      "       'a photo of a orange automobile on a blue background',\n",
      "       'a photo of a black automobile on a white background'],\n",
      "      dtype='<U52'),\n",
      " 'pos_latents': array([[ 0.23059082, -0.05981445, -0.21972656, ...,  0.14550781,\n",
      "        -0.34692383,  0.05645752],\n",
      "       [ 0.40698242, -0.18579102, -0.4543457 , ...,  0.24157715,\n",
      "        -0.20300293,  0.14538574],\n",
      "       [ 0.27319336, -0.01998901, -0.31958008, ...,  0.00421524,\n",
      "        -0.23413086,  0.05557251],\n",
      "       ...,\n",
      "       [ 0.22253418,  0.02716064, -0.27001953, ...,  0.17614746,\n",
      "        -0.10076904, -0.06079102],\n",
      "       [ 0.18151855,  0.02755737, -0.23742676, ...,  0.15063477,\n",
      "        -0.21801758, -0.16186523],\n",
      "       [ 0.31884766,  0.02026367, -0.30810547, ...,  0.08630371,\n",
      "        -0.10662842, -0.5019531 ]], dtype=float32),\n",
      " 'pos_vals': array([-0.47685903, -0.48431727, -0.49489795, -0.49515236, -0.49654048,\n",
      "       -0.50471847, -0.50563251, -0.50763192, -0.51040542, -0.51892366])}\n",
      "--------\n",
      "pos: a photo of a blue automobile on a black background\n",
      "neg: a photo of a automobile outside\n",
      "0.6696851119624674\n",
      "performing classify captions on svm\n"
     ]
    },
    {
     "name": "stderr",
     "output_type": "stream",
     "text": [
      "100%|███████████████████████████████████████████████████████████████████████████████████████████████████████████████████████████████████████████████████████████████████| 1/1 [00:00<00:00, 64.75it/s]\n",
      "100%|██████████████████████████████████████████████████████████████████████████████████████████████████████████████████████████████████████████████████████████████████| 1/1 [00:00<00:00, 148.26it/s]\n",
      "/mnt/cfs/home/saachij/src/failure-directions/analysis_nbs/../failure_directions/src/svm_utils.py:51: UserWarning: To copy construct from a tensor, it is recommended to use sourceTensor.clone().detach() or sourceTensor.clone().detach().requires_grad_(True), rather than torch.tensor(sourceTensor).\n",
      "  latents = torch.tensor(latents)\n",
      "/mnt/cfs/home/saachij/src/failure-directions/analysis_nbs/../failure_directions/src/svm_utils.py:47: UserWarning: To copy construct from a tensor, it is recommended to use sourceTensor.clone().detach() or sourceTensor.clone().detach().requires_grad_(True), rather than torch.tensor(sourceTensor).\n",
      "  latents = torch.tensor(latents)\n",
      "/mnt/cfs/home/saachij/src/failure-directions/analysis_nbs/../failure_directions/src/svm_utils.py:43: UserWarning: To copy construct from a tensor, it is recommended to use sourceTensor.clone().detach() or sourceTensor.clone().detach().requires_grad_(True), rather than torch.tensor(sourceTensor).\n",
      "  latents = torch.tensor(latents)\n",
      "100%|████████████████████████████████████████████████████████████████████████████████████████████████████████████████████████████████████████████████████████████████| 10/10 [00:00<00:00, 492.58it/s]\n"
     ]
    },
    {
     "name": "stdout",
     "output_type": "stream",
     "text": [
      "{'neg_captions': array(['a photo of a bird flying', 'a photo of a white bird inside',\n",
      "       'a photo of a white bird flying', 'a photo of a bird inside',\n",
      "       'a photo of a white bird in the air',\n",
      "       'a photo of a red bird flying', 'a photo of a orange bird flying',\n",
      "       'a photo of a white bird', 'a photo of a bird in the air',\n",
      "       'a photo of a yellow bird flying'], dtype='<U46'),\n",
      " 'neg_latents': array([[ 0.35961914,  0.4831543 , -0.09765625, ..., -0.8256836 ,\n",
      "         0.3635254 , -0.5957031 ],\n",
      "       [ 0.04241943,  0.07232666,  0.07086182, ..., -0.31079102,\n",
      "        -0.10949707, -0.39086914],\n",
      "       [ 0.27734375,  0.32910156,  0.07312012, ..., -0.36816406,\n",
      "         0.08679199, -0.8432617 ],\n",
      "       ...,\n",
      "       [ 0.07434082,  0.17321777,  0.1340332 , ..., -0.22253418,\n",
      "        -0.1895752 , -0.5644531 ],\n",
      "       [ 0.3659668 ,  0.41625977, -0.17248535, ..., -0.6928711 ,\n",
      "         0.21972656, -0.5546875 ],\n",
      "       [ 0.40795898,  0.37548828, -0.27441406, ..., -0.24475098,\n",
      "         0.33666992, -0.46875   ]], dtype=float32),\n",
      " 'neg_vals': array([-2.09956567, -2.04174276, -1.98088549, -1.95281205, -1.94703932,\n",
      "       -1.88919223, -1.86347555, -1.84810902, -1.82926703, -1.80711264]),\n",
      " 'pos_captions': array(['a photo of a black bird on the ground',\n",
      "       'a photo of a black bird outside',\n",
      "       'a photo of a black bird perched',\n",
      "       'a photo of a black bird on a green background',\n",
      "       'a photo of a black bird', 'a photo of a brown bird perched',\n",
      "       'a photo of a brown bird on a green background',\n",
      "       'a photo of a black bird on a brown background',\n",
      "       'a photo of a blue bird on a green background',\n",
      "       'a photo of a brown bird on the ground'], dtype='<U46'),\n",
      " 'pos_latents': array([[ 0.27685547,  0.04418945, -0.24511719, ..., -0.23291016,\n",
      "         0.07281494, -0.19055176],\n",
      "       [ 0.46948242,  0.26049805, -0.07672119, ..., -0.14685059,\n",
      "         0.16552734, -0.2578125 ],\n",
      "       [ 0.3256836 ,  0.24230957, -0.05789185, ..., -0.24951172,\n",
      "         0.10931396, -0.45654297],\n",
      "       ...,\n",
      "       [ 0.33032227,  0.10327148, -0.18395996, ...,  0.05041504,\n",
      "        -0.0486145 , -0.49414062],\n",
      "       [ 0.07531738,  0.04446411, -0.23657227, ...,  0.1295166 ,\n",
      "        -0.06439209,  0.04107666],\n",
      "       [ 0.07983398,  0.28930664, -0.10101318, ..., -0.40307617,\n",
      "        -0.10699463, -0.25610352]], dtype=float32),\n",
      " 'pos_vals': array([-0.82230993, -0.82546655, -0.85516142, -0.85780376, -0.86945657,\n",
      "       -0.91591156, -0.92802278, -0.94519974, -0.95698669, -0.95951572])}\n",
      "--------\n",
      "pos: a photo of a black bird on the ground\n",
      "neg: a photo of a bird flying\n",
      "0.6415698284604889\n",
      "performing classify captions on svm\n"
     ]
    },
    {
     "name": "stderr",
     "output_type": "stream",
     "text": [
      "100%|███████████████████████████████████████████████████████████████████████████████████████████████████████████████████████████████████████████████████████████████████| 1/1 [00:00<00:00, 64.84it/s]\n",
      "100%|██████████████████████████████████████████████████████████████████████████████████████████████████████████████████████████████████████████████████████████████████| 1/1 [00:00<00:00, 142.69it/s]\n",
      "/mnt/cfs/home/saachij/src/failure-directions/analysis_nbs/../failure_directions/src/svm_utils.py:51: UserWarning: To copy construct from a tensor, it is recommended to use sourceTensor.clone().detach() or sourceTensor.clone().detach().requires_grad_(True), rather than torch.tensor(sourceTensor).\n",
      "  latents = torch.tensor(latents)\n",
      "/mnt/cfs/home/saachij/src/failure-directions/analysis_nbs/../failure_directions/src/svm_utils.py:47: UserWarning: To copy construct from a tensor, it is recommended to use sourceTensor.clone().detach() or sourceTensor.clone().detach().requires_grad_(True), rather than torch.tensor(sourceTensor).\n",
      "  latents = torch.tensor(latents)\n",
      "/mnt/cfs/home/saachij/src/failure-directions/analysis_nbs/../failure_directions/src/svm_utils.py:43: UserWarning: To copy construct from a tensor, it is recommended to use sourceTensor.clone().detach() or sourceTensor.clone().detach().requires_grad_(True), rather than torch.tensor(sourceTensor).\n",
      "  latents = torch.tensor(latents)\n",
      "100%|████████████████████████████████████████████████████████████████████████████████████████████████████████████████████████████████████████████████████████████████| 10/10 [00:00<00:00, 522.10it/s]\n"
     ]
    },
    {
     "name": "stdout",
     "output_type": "stream",
     "text": [
      "{'neg_captions': array(['a photo of a white cat on the grass',\n",
      "       'a photo of a red cat on the grass',\n",
      "       'a photo of a blue cat on the grass',\n",
      "       'a photo of a green cat on the grass',\n",
      "       'a photo of a white cat on a green background',\n",
      "       'a photo of a cat on the grass',\n",
      "       'a photo of a red cat on a green background',\n",
      "       'a photo of a blue cat on a green background',\n",
      "       'a photo of a green cat in the forest',\n",
      "       'a photo of a white cat in the forest'], dtype='<U45'),\n",
      " 'neg_latents': array([[ 0.01927185, -0.28222656,  0.04138184, ..., -0.02952576,\n",
      "        -0.32666016, -0.23205566],\n",
      "       [ 0.01486206, -0.10961914,  0.03948975, ..., -0.27978516,\n",
      "        -0.28125   ,  0.02877808],\n",
      "       [ 0.05148315, -0.44970703, -0.14794922, ..., -0.08685303,\n",
      "        -0.4477539 ,  0.3918457 ],\n",
      "       ...,\n",
      "       [ 0.04934692, -0.4873047 , -0.35888672, ...,  0.16381836,\n",
      "        -0.36450195,  0.37768555],\n",
      "       [ 0.04257202,  0.01248169, -0.28466797, ...,  0.0007782 ,\n",
      "        -0.29638672,  0.47021484],\n",
      "       [-0.08056641, -0.09204102,  0.00584412, ...,  0.02436829,\n",
      "        -0.3869629 , -0.07128906]], dtype=float32),\n",
      " 'neg_vals': array([-1.15681212, -1.15193401, -1.14220744, -1.12888053, -1.05543256,\n",
      "       -1.02214923, -1.00815625, -0.97526706, -0.9662348 , -0.95697195]),\n",
      " 'pos_captions': array(['a photo of a cat inside', 'a photo of a cat',\n",
      "       'a photo of a brown cat inside',\n",
      "       'a photo of a cat on a black background', 'a photo of a brown cat',\n",
      "       'a photo of a black cat inside',\n",
      "       'a photo of a brown cat in a house', 'a photo of a cat in a house',\n",
      "       'a photo of a black cat',\n",
      "       'a photo of a brown cat on a black background'], dtype='<U45'),\n",
      " 'pos_latents': array([[ 0.15136719, -0.0793457 , -0.20349121, ..., -0.6303711 ,\n",
      "        -0.28564453,  0.07757568],\n",
      "       [ 0.15551758,  0.07324219, -0.24475098, ..., -0.53222656,\n",
      "        -0.45874023,  0.03488159],\n",
      "       [ 0.23339844, -0.01379395, -0.08178711, ..., -0.27734375,\n",
      "        -0.45458984, -0.11627197],\n",
      "       ...,\n",
      "       [ 0.265625  ,  0.01281738, -0.45092773, ..., -0.2446289 ,\n",
      "        -0.2052002 , -0.02937317],\n",
      "       [ 0.4050293 , -0.09796143, -0.14196777, ..., -0.17919922,\n",
      "        -0.16467285,  0.07470703],\n",
      "       [ 0.1274414 ,  0.02365112, -0.2524414 , ...,  0.10028076,\n",
      "        -0.30566406, -0.25732422]], dtype=float32),\n",
      " 'pos_vals': array([ 0.01877987,  0.01032288, -0.0233854 , -0.05228281, -0.05669296,\n",
      "       -0.06890441, -0.07551422, -0.09534925, -0.10847827, -0.13830322])}\n",
      "--------\n",
      "pos: a photo of a cat inside\n",
      "neg: a photo of a white cat on the grass\n",
      "0.6484821828610479\n",
      "performing classify captions on svm\n"
     ]
    },
    {
     "name": "stderr",
     "output_type": "stream",
     "text": [
      "100%|███████████████████████████████████████████████████████████████████████████████████████████████████████████████████████████████████████████████████████████████████| 1/1 [00:00<00:00, 64.79it/s]\n",
      "100%|██████████████████████████████████████████████████████████████████████████████████████████████████████████████████████████████████████████████████████████████████| 1/1 [00:00<00:00, 123.86it/s]\n",
      "/mnt/cfs/home/saachij/src/failure-directions/analysis_nbs/../failure_directions/src/svm_utils.py:51: UserWarning: To copy construct from a tensor, it is recommended to use sourceTensor.clone().detach() or sourceTensor.clone().detach().requires_grad_(True), rather than torch.tensor(sourceTensor).\n",
      "  latents = torch.tensor(latents)\n",
      "/mnt/cfs/home/saachij/src/failure-directions/analysis_nbs/../failure_directions/src/svm_utils.py:47: UserWarning: To copy construct from a tensor, it is recommended to use sourceTensor.clone().detach() or sourceTensor.clone().detach().requires_grad_(True), rather than torch.tensor(sourceTensor).\n",
      "  latents = torch.tensor(latents)\n",
      "/mnt/cfs/home/saachij/src/failure-directions/analysis_nbs/../failure_directions/src/svm_utils.py:43: UserWarning: To copy construct from a tensor, it is recommended to use sourceTensor.clone().detach() or sourceTensor.clone().detach().requires_grad_(True), rather than torch.tensor(sourceTensor).\n",
      "  latents = torch.tensor(latents)\n",
      "100%|████████████████████████████████████████████████████████████████████████████████████████████████████████████████████████████████████████████████████████████████| 10/10 [00:00<00:00, 538.45it/s]"
     ]
    },
    {
     "name": "stdout",
     "output_type": "stream",
     "text": [
      "{'neg_captions': array(['a photo of a blue deer in the snow',\n",
      "       'a photo of a deer in the snow',\n",
      "       'a photo of a brown deer in the snow',\n",
      "       'a photo of a black deer in the snow',\n",
      "       'a photo of a white deer in the snow',\n",
      "       'a photo of a blue deer on a white background',\n",
      "       'a photo of a brown deer on a white background',\n",
      "       'a photo of a deer on a white background',\n",
      "       'a photo of a black deer on a white background',\n",
      "       'a photo of a red deer on a white background'], dtype='<U46'),\n",
      " 'neg_latents': array([[ 0.08953857, -0.18151855, -0.06878662, ..., -0.0581665 ,\n",
      "        -0.16723633, -0.29882812],\n",
      "       [ 0.03320312, -0.05493164,  0.03387451, ..., -0.26904297,\n",
      "        -0.02545166, -0.42138672],\n",
      "       [ 0.1381836 , -0.03289795,  0.0859375 , ..., -0.10308838,\n",
      "        -0.11895752, -0.5839844 ],\n",
      "       ...,\n",
      "       [-0.02026367, -0.06738281, -0.08660889, ..., -0.16442871,\n",
      "        -0.03527832, -0.53271484],\n",
      "       [ 0.21936035, -0.10229492, -0.24145508, ..., -0.05358887,\n",
      "        -0.08007812, -0.4873047 ],\n",
      "       [ 0.05154419,  0.12231445,  0.04632568, ..., -0.08258057,\n",
      "        -0.02227783, -0.57958984]], dtype=float32),\n",
      " 'neg_vals': array([-0.59321287, -0.5471147 , -0.5408489 , -0.5393402 , -0.53547849,\n",
      "       -0.48309601, -0.4573999 , -0.43268637, -0.42822985, -0.39355034]),\n",
      " 'pos_captions': array(['a photo of a green deer in a forest',\n",
      "       'a photo of a deer in a forest',\n",
      "       'a photo of a red deer in a forest',\n",
      "       'a photo of a yellow deer in a forest',\n",
      "       'a photo of a orange deer in a forest',\n",
      "       'a photo of a green deer outside',\n",
      "       'a photo of a yellow deer on a green background',\n",
      "       'a photo of a red deer on a green background',\n",
      "       'a photo of a deer in a field', 'a photo of a green deer inside'],\n",
      "      dtype='<U46'),\n",
      " 'pos_latents': array([[ 0.06890869,  0.17480469, -0.08349609, ...,  0.13793945,\n",
      "        -0.1673584 ,  0.4777832 ],\n",
      "       [ 0.02496338,  0.03305054,  0.04598999, ..., -0.14794922,\n",
      "        -0.2220459 ,  0.4946289 ],\n",
      "       [ 0.00254822,  0.3359375 ,  0.17150879, ...,  0.05383301,\n",
      "        -0.16186523,  0.19958496],\n",
      "       ...,\n",
      "       [ 0.04296875,  0.08966064,  0.00102997, ...,  0.09228516,\n",
      "        -0.00744247, -0.00124931],\n",
      "       [ 0.04745483, -0.0350647 ,  0.14733887, ..., -0.3317871 ,\n",
      "        -0.1459961 , -0.01382446],\n",
      "       [ 0.14624023,  0.00526047, -0.18347168, ..., -0.21228027,\n",
      "        -0.11883545,  0.40405273]], dtype=float32),\n",
      " 'pos_vals': array([0.25171122, 0.24314913, 0.22795382, 0.21159209, 0.20943752,\n",
      "       0.18443004, 0.1694181 , 0.16192307, 0.15213178, 0.14237747])}\n",
      "--------\n"
     ]
    },
    {
     "name": "stderr",
     "output_type": "stream",
     "text": [
      "\n"
     ]
    },
    {
     "name": "stdout",
     "output_type": "stream",
     "text": [
      "pos: a photo of a green deer in a forest\n",
      "neg: a photo of a blue deer in the snow\n",
      "0.6876278118609407\n",
      "performing classify captions on svm\n"
     ]
    },
    {
     "name": "stderr",
     "output_type": "stream",
     "text": [
      "100%|███████████████████████████████████████████████████████████████████████████████████████████████████████████████████████████████████████████████████████████████████| 1/1 [00:00<00:00, 64.15it/s]\n",
      "100%|██████████████████████████████████████████████████████████████████████████████████████████████████████████████████████████████████████████████████████████████████| 1/1 [00:00<00:00, 144.47it/s]\n",
      "/mnt/cfs/home/saachij/src/failure-directions/analysis_nbs/../failure_directions/src/svm_utils.py:51: UserWarning: To copy construct from a tensor, it is recommended to use sourceTensor.clone().detach() or sourceTensor.clone().detach().requires_grad_(True), rather than torch.tensor(sourceTensor).\n",
      "  latents = torch.tensor(latents)\n",
      "/mnt/cfs/home/saachij/src/failure-directions/analysis_nbs/../failure_directions/src/svm_utils.py:47: UserWarning: To copy construct from a tensor, it is recommended to use sourceTensor.clone().detach() or sourceTensor.clone().detach().requires_grad_(True), rather than torch.tensor(sourceTensor).\n",
      "  latents = torch.tensor(latents)\n",
      "/mnt/cfs/home/saachij/src/failure-directions/analysis_nbs/../failure_directions/src/svm_utils.py:43: UserWarning: To copy construct from a tensor, it is recommended to use sourceTensor.clone().detach() or sourceTensor.clone().detach().requires_grad_(True), rather than torch.tensor(sourceTensor).\n",
      "  latents = torch.tensor(latents)\n",
      "100%|████████████████████████████████████████████████████████████████████████████████████████████████████████████████████████████████████████████████████████████████| 10/10 [00:00<00:00, 464.14it/s]\n"
     ]
    },
    {
     "name": "stdout",
     "output_type": "stream",
     "text": [
      "{'neg_captions': array(['a photo of a black dog', 'a photo of a black dog outside',\n",
      "       'a photo of a black dog inside',\n",
      "       'a photo of a black dog in the forest',\n",
      "       'a photo of a brown dog outside', 'a photo of a brown dog',\n",
      "       'a photo of a black dog on a brown background',\n",
      "       'a photo of a dog outside', 'a photo of a black dog in a house',\n",
      "       'a photo of a black dog on a black background'], dtype='<U45'),\n",
      " 'neg_latents': array([[ 0.30322266,  0.1282959 , -0.3786621 , ..., -0.22485352,\n",
      "        -0.097229  ,  0.12890625],\n",
      "       [ 0.2232666 ,  0.23742676, -0.38671875, ..., -0.21643066,\n",
      "        -0.01754761,  0.19824219],\n",
      "       [ 0.23474121,  0.01675415, -0.42138672, ..., -0.28881836,\n",
      "        -0.00364685,  0.18493652],\n",
      "       ...,\n",
      "       [ 0.00201416,  0.33740234, -0.2927246 , ..., -0.5834961 ,\n",
      "        -0.14245605,  0.13000488],\n",
      "       [ 0.4663086 ,  0.01980591, -0.5395508 , ...,  0.05932617,\n",
      "         0.09954834,  0.13293457],\n",
      "       [ 0.11517334, -0.00881195, -0.5073242 , ...,  0.02584839,\n",
      "         0.00492859,  0.02453613]], dtype=float32),\n",
      " 'neg_vals': array([-2.35317139, -2.31565277, -2.24662487, -2.2279138 , -2.14226705,\n",
      "       -2.13338304, -2.10391914, -2.1036463 , -2.1032018 , -2.10179987]),\n",
      " 'pos_captions': array(['a photo of a white dog on the grass',\n",
      "       'a photo of a white dog in a house',\n",
      "       'a photo of a white dog inside',\n",
      "       'a photo of a white dog in the snow',\n",
      "       'a photo of a red dog on the grass',\n",
      "       'a photo of a white dog on a green background',\n",
      "       'a photo of a white dog', 'a photo of a white dog outside',\n",
      "       'a photo of a dog on the grass',\n",
      "       'a photo of a white dog on a brown background'], dtype='<U45'),\n",
      " 'pos_latents': array([[ 0.01850891, -0.11309814, -0.07208252, ..., -0.09484863,\n",
      "        -0.23693848, -0.21386719],\n",
      "       [ 0.26904297,  0.05981445, -0.26831055, ...,  0.04354858,\n",
      "        -0.1751709 , -0.29858398],\n",
      "       [ 0.0430603 , -0.04086304, -0.16442871, ..., -0.23632812,\n",
      "        -0.2956543 , -0.296875  ],\n",
      "       ...,\n",
      "       [ 0.04125977,  0.15197754, -0.14550781, ..., -0.19384766,\n",
      "        -0.2590332 , -0.3173828 ],\n",
      "       [-0.03323364,  0.02336121, -0.2524414 , ..., -0.39501953,\n",
      "        -0.0791626 ,  0.11816406],\n",
      "       [ 0.09960938,  0.01895142, -0.35791016, ..., -0.04940796,\n",
      "        -0.3071289 , -0.59765625]], dtype=float32),\n",
      " 'pos_vals': array([-1.47007862, -1.54722479, -1.57252143, -1.59360749, -1.59737599,\n",
      "       -1.62548716, -1.62993655, -1.64073861, -1.65393724, -1.67912325])}\n",
      "--------\n",
      "pos: a photo of a white dog on the grass\n",
      "neg: a photo of a black dog\n",
      "0.6769806482669898\n",
      "performing classify captions on svm\n"
     ]
    },
    {
     "name": "stderr",
     "output_type": "stream",
     "text": [
      "100%|███████████████████████████████████████████████████████████████████████████████████████████████████████████████████████████████████████████████████████████████████| 1/1 [00:00<00:00, 75.79it/s]\n",
      "100%|██████████████████████████████████████████████████████████████████████████████████████████████████████████████████████████████████████████████████████████████████| 1/1 [00:00<00:00, 121.41it/s]\n",
      "/mnt/cfs/home/saachij/src/failure-directions/analysis_nbs/../failure_directions/src/svm_utils.py:51: UserWarning: To copy construct from a tensor, it is recommended to use sourceTensor.clone().detach() or sourceTensor.clone().detach().requires_grad_(True), rather than torch.tensor(sourceTensor).\n",
      "  latents = torch.tensor(latents)\n",
      "/mnt/cfs/home/saachij/src/failure-directions/analysis_nbs/../failure_directions/src/svm_utils.py:47: UserWarning: To copy construct from a tensor, it is recommended to use sourceTensor.clone().detach() or sourceTensor.clone().detach().requires_grad_(True), rather than torch.tensor(sourceTensor).\n",
      "  latents = torch.tensor(latents)\n",
      "/mnt/cfs/home/saachij/src/failure-directions/analysis_nbs/../failure_directions/src/svm_utils.py:43: UserWarning: To copy construct from a tensor, it is recommended to use sourceTensor.clone().detach() or sourceTensor.clone().detach().requires_grad_(True), rather than torch.tensor(sourceTensor).\n",
      "  latents = torch.tensor(latents)\n",
      "100%|████████████████████████████████████████████████████████████████████████████████████████████████████████████████████████████████████████████████████████████████| 10/10 [00:00<00:00, 549.40it/s]\n"
     ]
    },
    {
     "name": "stdout",
     "output_type": "stream",
     "text": [
      "{'neg_captions': array(['a photo of a red frog outside', 'a photo of a red frog',\n",
      "       'a photo of a red frog in a pond', 'a photo of a red frog inside',\n",
      "       'a photo of a blue frog outside',\n",
      "       'a photo of a brown frog outside',\n",
      "       'a photo of a blue frog in a pond', 'a photo of a brown frog',\n",
      "       'a photo of a blue frog inside',\n",
      "       'a photo of a brown frog in a pond'], dtype='<U46'),\n",
      " 'neg_latents': array([[-0.01174927,  0.07214355,  0.14648438, ...,  0.01852417,\n",
      "         0.11486816, -0.25585938],\n",
      "       [ 0.00996399,  0.06134033,  0.12054443, ...,  0.07067871,\n",
      "        -0.03588867, -0.41259766],\n",
      "       [-0.06054688,  0.2565918 ,  0.21923828, ...,  0.1772461 ,\n",
      "         0.13122559, -0.34375   ],\n",
      "       ...,\n",
      "       [ 0.01928711,  0.22155762,  0.05871582, ...,  0.01478577,\n",
      "        -0.11694336, -0.32861328],\n",
      "       [-0.10137939, -0.17272949, -0.18273926, ...,  0.17272949,\n",
      "        -0.10186768,  0.07080078],\n",
      "       [-0.05615234,  0.38964844,  0.13806152, ...,  0.19482422,\n",
      "         0.06817627, -0.29760742]], dtype=float32),\n",
      " 'neg_vals': array([-0.62235366, -0.62007826, -0.61480892, -0.60660804, -0.60397101,\n",
      "       -0.60231745, -0.59742051, -0.58983568, -0.5810828 , -0.57377255]),\n",
      " 'pos_captions': array(['a photo of a yellow frog', 'a photo of a yellow frog outside',\n",
      "       'a photo of a yellow frog inside',\n",
      "       'a photo of a yellow frog on a black background',\n",
      "       'a photo of a yellow frog in the grass', 'a photo of a green frog',\n",
      "       'a photo of a green frog inside',\n",
      "       'a photo of a green frog outside',\n",
      "       'a photo of a yellow frog on a white background',\n",
      "       'a photo of a yellow frog on a brown background'], dtype='<U46'),\n",
      " 'pos_latents': array([[ 0.2524414 , -0.04458618, -0.16235352, ...,  0.46606445,\n",
      "         0.19995117, -0.07092285],\n",
      "       [ 0.23486328, -0.00453186, -0.15527344, ...,  0.4946289 ,\n",
      "         0.31274414,  0.0194397 ],\n",
      "       [ 0.15490723, -0.07891846, -0.2980957 , ...,  0.36743164,\n",
      "         0.29077148,  0.01269531],\n",
      "       ...,\n",
      "       [-0.01332855,  0.1763916 , -0.02444458, ...,  0.27734375,\n",
      "         0.13452148,  0.00271988],\n",
      "       [ 0.17663574, -0.09088135, -0.22998047, ...,  0.4008789 ,\n",
      "         0.3605957 , -0.51904297],\n",
      "       [ 0.18481445, -0.06079102, -0.3088379 , ...,  0.5292969 ,\n",
      "         0.18066406, -0.19311523]], dtype=float32),\n",
      " 'pos_vals': array([-0.22427281, -0.23286706, -0.23386766, -0.28195912, -0.28505676,\n",
      "       -0.30474226, -0.31641325, -0.31721561, -0.31832836, -0.32565433])}\n",
      "--------\n",
      "pos: a photo of a yellow frog\n",
      "neg: a photo of a red frog outside\n",
      "0.6935678717699402\n",
      "performing classify captions on svm\n"
     ]
    },
    {
     "name": "stderr",
     "output_type": "stream",
     "text": [
      "100%|███████████████████████████████████████████████████████████████████████████████████████████████████████████████████████████████████████████████████████████████████| 1/1 [00:00<00:00, 76.12it/s]\n",
      "100%|██████████████████████████████████████████████████████████████████████████████████████████████████████████████████████████████████████████████████████████████████| 1/1 [00:00<00:00, 119.81it/s]\n",
      "/mnt/cfs/home/saachij/src/failure-directions/analysis_nbs/../failure_directions/src/svm_utils.py:51: UserWarning: To copy construct from a tensor, it is recommended to use sourceTensor.clone().detach() or sourceTensor.clone().detach().requires_grad_(True), rather than torch.tensor(sourceTensor).\n",
      "  latents = torch.tensor(latents)\n",
      "/mnt/cfs/home/saachij/src/failure-directions/analysis_nbs/../failure_directions/src/svm_utils.py:47: UserWarning: To copy construct from a tensor, it is recommended to use sourceTensor.clone().detach() or sourceTensor.clone().detach().requires_grad_(True), rather than torch.tensor(sourceTensor).\n",
      "  latents = torch.tensor(latents)\n",
      "/mnt/cfs/home/saachij/src/failure-directions/analysis_nbs/../failure_directions/src/svm_utils.py:43: UserWarning: To copy construct from a tensor, it is recommended to use sourceTensor.clone().detach() or sourceTensor.clone().detach().requires_grad_(True), rather than torch.tensor(sourceTensor).\n",
      "  latents = torch.tensor(latents)\n",
      "100%|████████████████████████████████████████████████████████████████████████████████████████████████████████████████████████████████████████████████████████████████| 10/10 [00:00<00:00, 686.51it/s]\n"
     ]
    },
    {
     "name": "stdout",
     "output_type": "stream",
     "text": [
      "{'neg_captions': array(['a photo of a blue horse inside', 'a photo of a blue horse',\n",
      "       'a photo of a blue horse on a green background',\n",
      "       'a photo of a green horse inside',\n",
      "       'a photo of a blue horse outside',\n",
      "       'a photo of a blue horse on a blue background',\n",
      "       'a photo of a green horse', 'a photo of a horse inside',\n",
      "       'a photo of a blue horse on a white background',\n",
      "       'a photo of a horse'], dtype='<U47'),\n",
      " 'neg_latents': array([[ 0.05838013, -0.07336426, -0.25073242, ..., -0.24121094,\n",
      "        -0.33935547,  0.23474121],\n",
      "       [ 0.19396973, -0.09875488, -0.16015625, ..., -0.24633789,\n",
      "        -0.42919922,  0.22167969],\n",
      "       [ 0.14501953, -0.18103027, -0.2861328 , ...,  0.06152344,\n",
      "        -0.16271973,  0.28857422],\n",
      "       ...,\n",
      "       [ 0.03053284, -0.03704834, -0.14343262, ..., -0.55859375,\n",
      "        -0.0602417 ,  0.04876709],\n",
      "       [ 0.11047363, -0.16320801, -0.31835938, ..., -0.17675781,\n",
      "        -0.24975586, -0.34155273],\n",
      "       [ 0.13708496,  0.10180664, -0.2130127 , ..., -0.5229492 ,\n",
      "        -0.16418457, -0.02511597]], dtype=float32),\n",
      " 'neg_vals': array([0.47309566, 0.53532799, 0.61558331, 0.61854416, 0.63429098,\n",
      "       0.64629396, 0.65364916, 0.66383512, 0.67566693, 0.68210796]),\n",
      " 'pos_captions': array(['a photo of a brown horse outside',\n",
      "       'a photo of a black horse outside',\n",
      "       'a photo of a black horse in a field',\n",
      "       'a photo of a black horse in the grass',\n",
      "       'a photo of a brown horse', 'a photo of a black horse',\n",
      "       'a photo of a brown horse in a field',\n",
      "       'a photo of a black horse inside',\n",
      "       'a photo of a orange horse on a black background',\n",
      "       'a photo of a brown horse in the grass'], dtype='<U47'),\n",
      " 'pos_latents': array([[ 0.09490967,  0.23962402, -0.08764648, ..., -0.3059082 ,\n",
      "        -0.30981445, -0.11724854],\n",
      "       [ 0.22509766,  0.081604  , -0.31958008, ..., -0.09063721,\n",
      "        -0.04656982,  0.21240234],\n",
      "       [ 0.22961426, -0.00144958, -0.15515137, ...,  0.06280518,\n",
      "        -0.05206299,  0.08166504],\n",
      "       ...,\n",
      "       [ 0.19799805, -0.07946777, -0.40576172, ..., -0.12023926,\n",
      "        -0.02481079,  0.24609375],\n",
      "       [-0.03201294,  0.2578125 , -0.04986572, ...,  0.20935059,\n",
      "        -0.10534668, -0.29638672],\n",
      "       [ 0.06018066,  0.0619812 ,  0.02955627, ..., -0.15209961,\n",
      "        -0.3395996 ,  0.02470398]], dtype=float32),\n",
      " 'pos_vals': array([1.14431618, 1.13037282, 1.09258556, 1.08560448, 1.06479993,\n",
      "       1.06158148, 1.04883766, 1.02194996, 1.02128237, 1.02009656])}\n",
      "--------\n",
      "pos: a photo of a brown horse outside\n",
      "neg: a photo of a blue horse inside\n",
      "0.6241176656968883\n",
      "performing classify captions on svm\n"
     ]
    },
    {
     "name": "stderr",
     "output_type": "stream",
     "text": [
      "100%|███████████████████████████████████████████████████████████████████████████████████████████████████████████████████████████████████████████████████████████████████| 1/1 [00:00<00:00, 64.72it/s]\n",
      "100%|██████████████████████████████████████████████████████████████████████████████████████████████████████████████████████████████████████████████████████████████████| 1/1 [00:00<00:00, 146.15it/s]\n",
      "/mnt/cfs/home/saachij/src/failure-directions/analysis_nbs/../failure_directions/src/svm_utils.py:51: UserWarning: To copy construct from a tensor, it is recommended to use sourceTensor.clone().detach() or sourceTensor.clone().detach().requires_grad_(True), rather than torch.tensor(sourceTensor).\n",
      "  latents = torch.tensor(latents)\n",
      "/mnt/cfs/home/saachij/src/failure-directions/analysis_nbs/../failure_directions/src/svm_utils.py:47: UserWarning: To copy construct from a tensor, it is recommended to use sourceTensor.clone().detach() or sourceTensor.clone().detach().requires_grad_(True), rather than torch.tensor(sourceTensor).\n",
      "  latents = torch.tensor(latents)\n",
      "/mnt/cfs/home/saachij/src/failure-directions/analysis_nbs/../failure_directions/src/svm_utils.py:43: UserWarning: To copy construct from a tensor, it is recommended to use sourceTensor.clone().detach() or sourceTensor.clone().detach().requires_grad_(True), rather than torch.tensor(sourceTensor).\n",
      "  latents = torch.tensor(latents)\n",
      "100%|████████████████████████████████████████████████████████████████████████████████████████████████████████████████████████████████████████████████████████████████| 10/10 [00:00<00:00, 485.17it/s]\n"
     ]
    },
    {
     "name": "stdout",
     "output_type": "stream",
     "text": [
      "{'neg_captions': array(['a photo of a blue ship inside',\n",
      "       'a photo of a blue ship on the horizon', 'a photo of a blue ship',\n",
      "       'a photo of a blue ship outside',\n",
      "       'a photo of a blue ship in the ocean',\n",
      "       'a photo of a blue ship on a blue background',\n",
      "       'a photo of a blue ship on a green background',\n",
      "       'a photo of a green ship on a blue background',\n",
      "       'a photo of a green ship inside',\n",
      "       'a photo of a blue ship on a black background'], dtype='<U46'),\n",
      " 'neg_latents': array([[ 0.12225342, -0.11669922, -0.18005371, ..., -0.24304199,\n",
      "        -0.05349731,  0.0692749 ],\n",
      "       [ 0.18237305, -0.13537598, -0.03305054, ..., -0.31884766,\n",
      "         0.02104187,  0.14428711],\n",
      "       [ 0.22497559, -0.09136963, -0.08880615, ..., -0.27172852,\n",
      "        -0.16027832,  0.05621338],\n",
      "       ...,\n",
      "       [ 0.30932617, -0.20458984, -0.28930664, ..., -0.0368042 ,\n",
      "         0.06469727,  0.14355469],\n",
      "       [ 0.06713867,  0.05282593, -0.27392578, ..., -0.13098145,\n",
      "         0.18225098,  0.0949707 ],\n",
      "       [ 0.2454834 , -0.14807129, -0.26904297, ...,  0.02957153,\n",
      "        -0.06817627, -0.05175781]], dtype=float32),\n",
      " 'neg_vals': array([-0.65631046, -0.63514278, -0.63321604, -0.62531355, -0.60550118,\n",
      "       -0.59331676, -0.58055876, -0.57795328, -0.57103949, -0.56691413]),\n",
      " 'pos_captions': array(['a photo of a brown ship docked', 'a photo of a ship docked',\n",
      "       'a photo of a brown ship in the water', 'a photo of a brown ship',\n",
      "       'a photo of a ship in the water', 'a photo of a white ship docked',\n",
      "       'a photo of a brown ship outside',\n",
      "       'a photo of a brown ship on a white background',\n",
      "       'a photo of a black ship docked',\n",
      "       'a photo of a ship on a brown background'], dtype='<U46'),\n",
      " 'pos_latents': array([[ 0.17370605,  0.02168274,  0.21325684, ..., -0.05444336,\n",
      "        -0.15783691, -0.36669922],\n",
      "       [ 0.27514648, -0.04852295,  0.0480957 , ..., -0.2619629 ,\n",
      "        -0.08782959, -0.28881836],\n",
      "       [ 0.24291992,  0.18969727,  0.14807129, ..., -0.14904785,\n",
      "         0.16748047, -0.26513672],\n",
      "       ...,\n",
      "       [ 0.1809082 , -0.06176758, -0.04104614, ..., -0.19018555,\n",
      "        -0.00537109, -0.83251953],\n",
      "       [ 0.2902832 , -0.04779053,  0.02766418, ..., -0.0357666 ,\n",
      "         0.0369873 , -0.26171875],\n",
      "       [ 0.18847656, -0.07891846, -0.15856934, ..., -0.13305664,\n",
      "        -0.06027222, -0.38232422]], dtype=float32),\n",
      " 'pos_vals': array([-0.29001853, -0.34294047, -0.35141298, -0.36200379, -0.36580534,\n",
      "       -0.36928348, -0.37066338, -0.37262747, -0.37307571, -0.38358512])}\n",
      "--------\n",
      "pos: a photo of a brown ship docked\n",
      "neg: a photo of a blue ship inside\n",
      "0.6601421725872243\n",
      "performing classify captions on svm\n"
     ]
    },
    {
     "name": "stderr",
     "output_type": "stream",
     "text": [
      "100%|███████████████████████████████████████████████████████████████████████████████████████████████████████████████████████████████████████████████████████████████████| 1/1 [00:00<00:00, 76.33it/s]\n",
      "100%|██████████████████████████████████████████████████████████████████████████████████████████████████████████████████████████████████████████████████████████████████| 1/1 [00:00<00:00, 144.91it/s]\n",
      "/mnt/cfs/home/saachij/src/failure-directions/analysis_nbs/../failure_directions/src/svm_utils.py:51: UserWarning: To copy construct from a tensor, it is recommended to use sourceTensor.clone().detach() or sourceTensor.clone().detach().requires_grad_(True), rather than torch.tensor(sourceTensor).\n",
      "  latents = torch.tensor(latents)\n",
      "/mnt/cfs/home/saachij/src/failure-directions/analysis_nbs/../failure_directions/src/svm_utils.py:47: UserWarning: To copy construct from a tensor, it is recommended to use sourceTensor.clone().detach() or sourceTensor.clone().detach().requires_grad_(True), rather than torch.tensor(sourceTensor).\n",
      "  latents = torch.tensor(latents)\n",
      "/mnt/cfs/home/saachij/src/failure-directions/analysis_nbs/../failure_directions/src/svm_utils.py:43: UserWarning: To copy construct from a tensor, it is recommended to use sourceTensor.clone().detach() or sourceTensor.clone().detach().requires_grad_(True), rather than torch.tensor(sourceTensor).\n",
      "  latents = torch.tensor(latents)\n",
      "100%|████████████████████████████████████████████████████████████████████████████████████████████████████████████████████████████████████████████████████████████████| 10/10 [00:00<00:00, 706.99it/s]\n"
     ]
    },
    {
     "name": "stdout",
     "output_type": "stream",
     "text": [
      "{'neg_captions': array(['a photo of a blue truck on the road',\n",
      "       'a photo of a orange truck on the road',\n",
      "       'a photo of a blue truck inside',\n",
      "       'a photo of a brown truck on the road',\n",
      "       'a photo of a blue truck parked', 'a photo of a blue truck',\n",
      "       'a photo of a brown truck on a blue background',\n",
      "       'a photo of a orange truck on a blue background',\n",
      "       'a photo of a orange truck inside',\n",
      "       'a photo of a blue truck outside'], dtype='<U47'),\n",
      " 'neg_latents': array([[ 0.15515137,  0.07885742,  0.08605957, ..., -0.0006237 ,\n",
      "        -0.22790527,  0.21801758],\n",
      "       [-0.07580566,  0.3564453 ,  0.20471191, ...,  0.03356934,\n",
      "        -0.00040913, -0.24902344],\n",
      "       [ 0.12353516,  0.0307312 , -0.04034424, ..., -0.17626953,\n",
      "        -0.24194336,  0.16552734],\n",
      "       ...,\n",
      "       [ 0.1998291 ,  0.10614014, -0.07000732, ..., -0.00610352,\n",
      "        -0.05584717, -0.11279297],\n",
      "       [-0.09344482,  0.32958984,  0.14758301, ..., -0.1274414 ,\n",
      "        -0.00969696, -0.31176758],\n",
      "       [ 0.20507812,  0.1184082 ,  0.06433105, ..., -0.14123535,\n",
      "        -0.27929688,  0.15844727]], dtype=float32),\n",
      " 'neg_vals': array([-1.34176915, -1.30393687, -1.298846  , -1.2801954 , -1.27409222,\n",
      "       -1.24972771, -1.24519167, -1.22973117, -1.21378502, -1.21303811]),\n",
      " 'pos_captions': array(['a photo of a truck', 'a photo of a black truck',\n",
      "       'a photo of a truck outside', 'a photo of a black truck outside',\n",
      "       'a photo of a black truck parked', 'a photo of a truck parked',\n",
      "       'a photo of a black truck on a white background',\n",
      "       'a photo of a black truck inside',\n",
      "       'a photo of a black truck on the road',\n",
      "       'a photo of a red truck outside'], dtype='<U47'),\n",
      " 'pos_latents': array([[ 0.12347412,  0.3408203 , -0.01837158, ..., -0.50878906,\n",
      "        -0.19555664, -0.00684357],\n",
      "       [ 0.3864746 ,  0.27856445,  0.00289917, ..., -0.14282227,\n",
      "        -0.09240723, -0.01678467],\n",
      "       [ 0.12469482,  0.46484375,  0.06060791, ..., -0.53271484,\n",
      "        -0.09918213, -0.05770874],\n",
      "       ...,\n",
      "       [ 0.2927246 ,  0.24511719, -0.07641602, ..., -0.17248535,\n",
      "         0.01049805, -0.00671768],\n",
      "       [ 0.32788086,  0.2265625 , -0.02233887, ...,  0.12646484,\n",
      "         0.05505371,  0.00395203],\n",
      "       [ 0.14367676,  0.27368164,  0.20043945, ..., -0.27319336,\n",
      "        -0.16479492,  0.07116699]], dtype=float32),\n",
      " 'pos_vals': array([-0.43666435, -0.4428488 , -0.5108713 , -0.55758597, -0.66567561,\n",
      "       -0.71664997, -0.7469981 , -0.74804253, -0.78035114, -0.81823053])}\n",
      "--------\n",
      "pos: a photo of a truck\n",
      "neg: a photo of a blue truck on the road\n"
     ]
    },
    {
     "data": {
      "image/png": "[encoded data removed]",
      "text/plain": [
       "<Figure size 360x288 with 1 Axes>"
      ]
     },
     "metadata": {},
     "output_type": "display_data"
    }
   ],
   "source": [
    "import src.clip_utils as clip_utils\n",
    "cifar_label_list = np.array([CLASS_DICT['CIFAR'][u] for u in range(10)])\n",
    "\n",
    "clip_analyzer = viz_utils.ClipAnalyzer(\n",
    "    processor=processor, svm_model_name=svm_model_name, caption_set_name=\"CIFARSIMPLE\", class_names=cifar_label_list)\n",
    "\n",
    "def get_cdf(arr, K_range=None):\n",
    "    out = []\n",
    "    if K_range is None:\n",
    "        K_range = np.arange(10, len(arr), 10)\n",
    "    for K in K_range:\n",
    "        out.append(arr[:K].mean())\n",
    "    out = np.array(out)\n",
    "    return out, K_range\n",
    "\n",
    "saved_caption_and_most_relevant_imgs = {}\n",
    "all_dfs = []\n",
    "for target_class in range(10):\n",
    "    print(processor.metrics['cv_scores'][target_class])\n",
    "    print(\"performing classify captions on svm\")\n",
    "    result = clip_analyzer.get_svm_style_top_K(target_class, 'all')\n",
    "    print(\"--------\")\n",
    "\n",
    "    cdfs = {}\n",
    "    class_mask = test_class==target_class\n",
    "    masked_indices = np.arange(len(test_class))[class_mask]\n",
    "    # K_range = np.arange(10, len(masked_indices), 10)\n",
    "    K_range=np.arange(20, 200, 5)\n",
    "    for caption_index in range(1):\n",
    "        for direction in ['pos', 'neg']:\n",
    "            caption_text = result[f'{direction}_captions'][caption_index]\n",
    "            print(f\"{direction}: {caption_text}\")\n",
    "            top_caption_latent = torch.tensor(result[f'{direction}_latents'][caption_index]).cuda()\n",
    "\n",
    "            image_latents = clip_analyzer.clip_features['test'][class_mask].cuda()\n",
    "            image_angles = clip_utils.order_descriptions_angle(mean_point=top_caption_latent.unsqueeze(0), query_points=image_latents)\n",
    "            image_order = np.argsort(image_angles)[::-1]\n",
    "            saved_caption_and_most_relevant_imgs[(target_class, caption_index, direction)] = (masked_indices[image_order], caption_text)\n",
    "            dir_name = 'Positive' if direction == 'pos' else 'Negative' \n",
    "            cdfs[dir_name], _ = get_cdf(test_correct[masked_indices[image_order]], K_range)\n",
    "            # uncomment this to display the images\n",
    "\n",
    "        df = pd.DataFrame()\n",
    "        df['Top K'] = K_range\n",
    "        for d, v in cdfs.items():\n",
    "            df[d] = v\n",
    "        df['Overall Class'] = test_correct[masked_indices].mean()\n",
    "        df = df.melt('Top K', var_name='Order', value_name='Accuracy')\n",
    "        all_dfs.append(df)\n",
    "    \n",
    "combined_df = pd.concat(all_dfs).reset_index()\n",
    "fig, ax = plt.subplots(1, 1, figsize=(5,4))\n",
    "sns.lineplot(data=combined_df, x='Top K', y='Accuracy', hue='Order', ax=ax, \n",
    "             hue_order=['Positive', 'Negative', 'Overall Class'], \n",
    "            palette=[BLUE, RED, GRAY], ci=False)\n",
    "handles, labels = ax.get_legend_handles_labels()\n",
    "ax.legend(handles=handles, labels=labels)\n",
    "ax.set_xlabel(\"Top K Test Images by Caption\")\n",
    "plt.savefig(\"figures/cifarsimple.pdf\", bbox_inches='tight')\n",
    "plt.show()\n",
    "    "
   ]
  },
  {
   "cell_type": "code",
   "execution_count": 36,
   "id": "ea98545b",
   "metadata": {},
   "outputs": [],
   "source": [
    "# flip_interventions = torch.load(\"/mnt/cfs/home/saachij/src/failure-directions/failure_directions/cifar_caption_level_imgs_2.pt\")\n",
    "# rdir = \"/mnt/cfs/home/saachij/src/failure-directions/failure_directions/sd_files/cifar10/caption_level_no_freeze\"\n",
    "# base_name = 'cifar_caption_level_imgs_no_freeze'\n",
    "# flip_interventions_ = [\n",
    "#     torch.load(os.path.join(rdir, f\"{base_name}_A.pt\")),\n",
    "#     torch.load(os.path.join(rdir, f\"{base_name}_B.pt\")),\n",
    "#     torch.load(os.path.join(rdir, f\"{base_name}_C.pt\")),\n",
    "#     torch.load(os.path.join(rdir, f\"{base_name}_D.pt\")),\n",
    "#     torch.load(os.path.join(rdir, f\"{base_name}_E.pt\")),\n",
    "# ]"
   ]
  },
  {
   "cell_type": "code",
   "execution_count": 43,
   "id": "bc2df4f9",
   "metadata": {},
   "outputs": [],
   "source": [
    "# flip_interventions = torch.load(\"/mnt/cfs/home/saachij/src/failure-directions/failure_directions/cifar_caption_level_imgs_2.pt\")\n",
    "rdir = \"/mnt/cfs/home/saachij/src/failure-directions/failure_directions/sd_files/cifar10/caption_level_freeze\"\n",
    "base_name = 'cifar_caption_level_imgs_freeze'\n",
    "flip_interventions_ = [\n",
    "    torch.load(os.path.join(rdir, f\"{base_name}_A.pt\")),\n",
    "    torch.load(os.path.join(rdir, f\"{base_name}_B.pt\")),\n",
    "    torch.load(os.path.join(rdir, f\"{base_name}_C.pt\")),\n",
    "    torch.load(os.path.join(rdir, f\"{base_name}_D.pt\")),\n",
    "    torch.load(os.path.join(rdir, f\"{base_name}_E.pt\")),\n",
    "    torch.load(os.path.join(rdir, f\"{base_name}_G.pt\")),\n",
    "    torch.load(os.path.join(rdir, f\"{base_name}_H.pt\")),\n",
    "]"
   ]
  },
  {
   "cell_type": "code",
   "execution_count": 44,
   "id": "329e698d",
   "metadata": {},
   "outputs": [],
   "source": [
    "# mapping = {\n",
    "#     'pos': 0,\n",
    "#     'neg': 0.1,\n",
    "#     'neutral': 0,\n",
    "# }\n",
    "mapping = {\n",
    "    'pos': 'pos',\n",
    "    'neg': 'neg',\n",
    "    'neutral': 'neutral',\n",
    "}\n",
    "flip_interventions = {'pos': [], 'neg': [], 'neutral': []}\n",
    "for f in flip_interventions_:\n",
    "    for g in ['pos', 'neg', 'neutral']:\n",
    "        for u in f[mapping[g]]:\n",
    "            flip_interventions[g].append(u)"
   ]
  },
  {
   "cell_type": "code",
   "execution_count": 45,
   "id": "c1b33d45",
   "metadata": {},
   "outputs": [],
   "source": [
    "\n",
    "flip_int_corrects = {}\n",
    "for k in flip_interventions:\n",
    "    arr = flip_interventions[k]\n",
    "    flip_int_corrects[k] = [arr[v][0] ==  arr[v][1] for v in range(len(arr))]"
   ]
  },
  {
   "cell_type": "code",
   "execution_count": 46,
   "id": "ff8abb7e",
   "metadata": {},
   "outputs": [
    {
     "name": "stdout",
     "output_type": "stream",
     "text": [
      "15\n"
     ]
    },
    {
     "data": {
      "image/png": "[encoded data removed]",
      "text/plain": [
       "<Figure size 504x216 with 1 Axes>"
      ]
     },
     "metadata": {},
     "output_type": "display_data"
    },
    {
     "name": "stdout",
     "output_type": "stream",
     "text": [
      "15\n"
     ]
    },
    {
     "data": {
      "image/png": "[encoded data removed]",
      "text/plain": [
       "<Figure size 504x216 with 1 Axes>"
      ]
     },
     "metadata": {},
     "output_type": "display_data"
    }
   ],
   "source": [
    "for POS_MODE in [True, False]:\n",
    "    if POS_MODE:\n",
    "        q_tag = 'pos'\n",
    "    else:\n",
    "        q_tag = 'neg'\n",
    "    def get_dv_indices(target_c):\n",
    "        dv = test_dv\n",
    "        mask = test_class == target_c\n",
    "        inds = np.arange(len(dv))[mask]\n",
    "        return inds[np.argsort(dv[mask])]\n",
    "\n",
    "    fig, ax_ = plt.subplots(1, 1, figsize=(7, 3))\n",
    "    cls = -1\n",
    "    trials = len(flip_int_corrects['pos'])\n",
    "    print(trials)\n",
    "    ax = ax_\n",
    "    load_corrects = {\n",
    "        'pos': flip_int_corrects['pos'],\n",
    "        'neg': flip_int_corrects['neg'],\n",
    "        'neutral': flip_int_corrects['neutral'],\n",
    "        'baseline': [torch.tensor(test_correct == 1) for _ in range(trials)],\n",
    "\n",
    "    }\n",
    "\n",
    "    K = 100\n",
    "    all_dfs = []\n",
    "    if cls == -1:\n",
    "        valid_classes = np.arange(10)\n",
    "    else:\n",
    "        valid_classes = [cls]\n",
    "    for v in range(trials):\n",
    "        xaxis = np.arange(20, 200, 5)\n",
    "        accs = {k:[] for k in load_corrects.keys()}\n",
    "        for K in xaxis:\n",
    "    #         minority_indices = np.concatenate([get_dv_indices(target_c)[:K] for target_c in valid_classes])\n",
    "            minority_indices = np.concatenate([saved_caption_and_most_relevant_imgs[(target_c, 0, q_tag)][0][:K] for target_c in valid_classes])\n",
    "            for k in load_corrects.keys():\n",
    "                accs[k].append(load_corrects[k][v][minority_indices].float().mean().item())\n",
    "        df = pd.DataFrame()\n",
    "        df['Top K'] = xaxis\n",
    "        df['Adding generic synthetic images'] = accs['neutral']\n",
    "        df['Adding hard synthetic images'] = accs['neg']\n",
    "        df['Adding easy synthetic images'] = accs['pos']\n",
    "\n",
    "        df['Original Accuracy'] = accs['baseline']\n",
    "        df = df.melt('Top K', var_name='Order', value_name='Subpopulation Accuracy')\n",
    "        all_dfs.append(df)\n",
    "\n",
    "\n",
    "    all_df = pd.concat(all_dfs).reset_index()\n",
    "\n",
    "    sns.lineplot(data=all_df, x='Top K', y='Subpopulation Accuracy', hue='Order', ax=ax)\n",
    "    ax.set_xlabel(\"Top K Test Images by Caption\")\n",
    "    t = 'All' if cls == -1 else cifar_label_list[cls]  \n",
    "    # ax.set_title(f'{t}')\n",
    "    if POS_MODE:\n",
    "        ax.set_ylim(0.75, 0.9)\n",
    "    else:\n",
    "        ax.set_ylim(0.65, 0.8)\n",
    "    handles, labels = ax.get_legend_handles_labels()\n",
    "    ax.legend(handles=handles, labels=labels, loc='lower right')\n",
    "#     if POS_MODE:\n",
    "#         plt.savefig('easy_finetune.pdf', bbox_inches='tight')\n",
    "#     else:\n",
    "#         plt.savefig('hard_finetune.pdf', bbox_inches='tight')\n",
    "    plt.show()\n"
   ]
  },
  {
   "cell_type": "code",
   "execution_count": 40,
   "id": "c2f5e4f5",
   "metadata": {},
   "outputs": [
    {
     "name": "stdout",
     "output_type": "stream",
     "text": [
      "pos 0.80056\n",
      "neg 0.79992\n",
      "neutral 0.80142003\n",
      "original 0.7905\n"
     ]
    }
   ],
   "source": [
    "for k in flip_interventions.keys():\n",
    "    avg_accs = []\n",
    "    for u in flip_interventions[k]:\n",
    "        avg_accs.append((u[0] == u[1]).float().mean())\n",
    "    print(k, np.mean(avg_accs))\n",
    "print(\"original\", (test_correct).mean())"
   ]
  },
  {
   "cell_type": "code",
   "execution_count": 33,
   "id": "3594e165",
   "metadata": {},
   "outputs": [
    {
     "data": {
      "text/plain": [
       "0.7905"
      ]
     },
     "execution_count": 33,
     "metadata": {},
     "output_type": "execute_result"
    }
   ],
   "source": []
  },
  {
   "cell_type": "code",
   "execution_count": 19,
   "id": "e4ea0d96",
   "metadata": {},
   "outputs": [
    {
     "name": "stdout",
     "output_type": "stream",
     "text": [
      "a photo of a airplane\n",
      "a photo of a automobile\n",
      "a photo of a bird\n",
      "a photo of a cat\n",
      "a photo of a deer\n",
      "a photo of a dog\n",
      "a photo of a frog\n",
      "a photo of a horse\n",
      "a photo of a ship\n",
      "a photo of a truck\n"
     ]
    }
   ],
   "source": [
    "for r in clip_analyzer.captions['reference']:\n",
    "    print(r)\n",
    "for c in range(10):\n",
    "    print(saved_caption_and_most_relevant_imgs[(c, 0, 'neg')][1])"
   ]
  }
 ],
 "metadata": {
  "kernelspec": {
   "display_name": "Python 3 (ipykernel)",
   "language": "python",
   "name": "python3"
  },
  "language_info": {
   "codemirror_mode": {
    "name": "ipython",
    "version": 3
   },
   "file_extension": ".py",
   "mimetype": "text/x-python",
   "name": "python",
   "nbconvert_exporter": "python",
   "pygments_lexer": "ipython3",
   "version": "3.9.12"
  }
 },
 "nbformat": 4,
 "nbformat_minor": 5
}
