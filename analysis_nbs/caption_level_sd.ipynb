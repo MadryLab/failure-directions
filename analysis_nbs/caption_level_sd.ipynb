{
 "cells": [
  {
   "cell_type": "code",
   "execution_count": 3,
   "id": "e1550954",
   "metadata": {},
   "outputs": [
    {
     "name": "stdout",
     "output_type": "stream",
     "text": [
      "['airplane' 'automobile' 'bird' 'cat' 'deer' 'dog' 'frog' 'horse' 'ship'\n",
      " 'truck']\n"
     ]
    }
   ],
   "source": [
    "import sys\n",
    "import os\n",
    "sys.path.append('..')\n",
    "sys.path.append('../failure_directions')\n",
    "import torch\n",
    "import torchvision\n",
    "import failure_directions\n",
    "import numpy as np\n",
    "import torchvision.transforms as transforms\n",
    "from torch.cuda.amp import autocast\n",
    "from tqdm import tqdm\n",
    "import torch.nn as nn\n",
    "import matplotlib.pyplot as plt\n",
    "\n",
    "\n",
    "import failure_directions.src.svm_utils as svm_utils\n",
    "import failure_directions.src.visualization_utils as viz_utils\n",
    "import failure_directions.src.ds_utils as ds_utils\n",
    "import numpy as np\n",
    "import pandas as pd \n",
    "import seaborn as sns\n",
    "import matplotlib.pyplot as plt\n",
    "from failure_directions.src.label_maps import CLASS_DICT\n",
    "import pickle as pkl\n",
    "from torchvision.datasets.folder import pil_loader\n",
    "\n",
    "cifar_label_list = np.array([CLASS_DICT['CIFAR'][u] for u in range(10)])\n",
    "print(cifar_label_list)"
   ]
  },
  {
   "cell_type": "code",
   "execution_count": 4,
   "id": "12da024b",
   "metadata": {},
   "outputs": [],
   "source": [
    "sns.set()\n",
    "BLUE = sns.color_palette(\"tab10\")[0]\n",
    "RED = sns.color_palette(\"tab10\")[3]\n",
    "ORANGE = sns.color_palette(\"tab10\")[1]\n",
    "BROWN = sns.color_palette(\"tab10\")[5]\n",
    "GRAY = sns.color_palette(\"tab10\")[7]\n",
    "GREEN = sns.color_palette(\"tab10\")[2]\n",
    "\n",
    "import matplotlib.pylab as pylab\n",
    "params = {'legend.fontsize': 12,\n",
    "          'figure.figsize': (5, 3),\n",
    "         'axes.labelsize': 14,\n",
    "         'axes.titlesize':16,\n",
    "         'xtick.labelsize':14,\n",
    "         'ytick.labelsize':14}\n",
    "pylab.rcParams.update(params)\n"
   ]
  },
  {
   "cell_type": "code",
   "execution_count": 5,
   "id": "894e1323",
   "metadata": {},
   "outputs": [
    {
     "name": "stdout",
     "output_type": "stream",
     "text": [
      "/mnt/cfs/home/saachij/src/failure-directions/failure_directions\n",
      "-----------train_metrics--------------\n",
      "{'Confusion Matrix': array([[ 439,  192],\n",
      "       [3195, 6174]]),\n",
      " 'Model Accuracy': 0.9369,\n",
      " 'SVM Accuracy': 0.661300003528595,\n",
      " 'SVM Balanced Accuracy': 0.6773514151573181}\n",
      "-----------val_metrics--------------\n",
      "{'Confusion Matrix': array([[1593,  415],\n",
      "       [1713, 6279]]),\n",
      " 'Model Accuracy': 0.7992,\n",
      " 'SVM Accuracy': 0.7871999740600586,\n",
      " 'SVM Balanced Accuracy': 0.7894936800003052}\n",
      "-----------test_metrics--------------\n",
      "{'Confusion Matrix': array([[1346,  749],\n",
      "       [2007, 5898]]),\n",
      " 'Model Accuracy': 0.7905,\n",
      " 'SVM Accuracy': 0.724399983882904,\n",
      " 'SVM Balanced Accuracy': 0.6942960917949677}\n",
      "-----------unlabeled_metrics--------------\n",
      "{'Confusion Matrix': array([[ 3972,  2185],\n",
      "       [ 5945, 17898]]),\n",
      " 'Model Accuracy': 0.7947666666666666,\n",
      " 'SVM Accuracy': 0.7289999723434448,\n",
      " 'SVM Balanced Accuracy': 0.6978899836540222}\n",
      "Using default os_cache: False\n",
      "Using default quasi_random: True\n",
      "Using default val_aug: None\n",
      "Using default loss_vec_file: None\n",
      "Using default indices_file: None\n",
      "Using default val_beton: None\n",
      "Using default unlabeled_beton: None\n",
      "Using default loss_upweight: 5\n",
      "Using default bce: False\n",
      "Using default cmnist: False\n",
      "\n",
      "-----------CONFIG--------------\n",
      "{   'arch': 'resnet18',\n",
      "    'arch_type': 'cifar_resnet',\n",
      "    'batch_size': 100,\n",
      "    'bce': False,\n",
      "    'cmnist': False,\n",
      "    'drop_last': False,\n",
      "    'imgsz': 32,\n",
      "    'indices_file': None,\n",
      "    'loss_upweight': 5,\n",
      "    'loss_vec_file': None,\n",
      "    'mean': [125.307, 122.961, 113.8575],\n",
      "    'num_classes': 10,\n",
      "    'num_workers': 1,\n",
      "    'os_cache': False,\n",
      "    'quasi_random': True,\n",
      "    'shuffle': False,\n",
      "    'std': [51.5865, 50.847, 51.255],\n",
      "    'test_beton': 'cifar/cifar_test.beton',\n",
      "    'train_aug': 'cifar_train_aug',\n",
      "    'train_beton': 'cifar/cifar_train.beton',\n",
      "    'train_img_decoder': 'simple',\n",
      "    'training': {   'epochs': 35,\n",
      "                    'lr': 0.5,\n",
      "                    'lr_scheduler': {'lr_peak_epoch': 5, 'type': 'cyclic'},\n",
      "                    'optimizer': {'momentum': 0.9, 'weight_decay': 0.0005}},\n",
      "    'unlabeled_beton': None,\n",
      "    'val_aug': None,\n",
      "    'val_beton': None,\n",
      "    'val_img_decoder': 'simple'}\n",
      "{'training_args': {'epochs': 35, 'lr': 0.5, 'optimizer': {'momentum': 0.9, 'weight_decay': 0.0005}, 'lr_scheduler': {'type': 'cyclic', 'lr_peak_epoch': 5}, 'iters_per_epoch': 19}, 'epoch': 34, 'training_metrics': {'loss': 0.17487808826722598, 'acc': 0.9425370065789473}, 'val_metrics': {'loss': 0.6609623561382294, 'acc': 0.7992000002861023}}\n",
      "Pulling val from train\n",
      "Pulling unlabeled from train\n",
      "getting train loader\n",
      "getting val loader\n",
      "getting unlabeled loader\n",
      "getting test loader\n"
     ]
    },
    {
     "name": "stderr",
     "output_type": "stream",
     "text": [
      "100%|██████████| 100/100 [00:03<00:00, 32.28it/s]\n"
     ]
    },
    {
     "name": "stdout",
     "output_type": "stream",
     "text": [
      "Accuracy 0.9467999935150146\n"
     ]
    },
    {
     "name": "stderr",
     "output_type": "stream",
     "text": [
      "100%|██████████| 100/100 [00:01<00:00, 83.82it/s]\n"
     ]
    },
    {
     "name": "stdout",
     "output_type": "stream",
     "text": [
      "Accuracy 0.7991999983787537\n"
     ]
    },
    {
     "name": "stderr",
     "output_type": "stream",
     "text": [
      "100%|██████████| 100/100 [00:01<00:00, 69.57it/s]\n"
     ]
    },
    {
     "name": "stdout",
     "output_type": "stream",
     "text": [
      "Accuracy 0.7904999852180481\n"
     ]
    },
    {
     "name": "stderr",
     "output_type": "stream",
     "text": [
      "100%|██████████| 300/300 [00:01<00:00, 157.06it/s]\n"
     ]
    },
    {
     "name": "stdout",
     "output_type": "stream",
     "text": [
      "Accuracy 0.7947999835014343\n",
      "/mnt/cfs/home/saachij/src/failure-directions/analysis_nbs\n",
      "{'training_args': {'epochs': 35, 'lr': 0.5, 'optimizer': {'momentum': 0.9, 'weight_decay': 0.0005}, 'lr_scheduler': {'type': 'cyclic', 'lr_peak_epoch': 5}, 'iters_per_epoch': 19}, 'epoch': 34, 'training_metrics': {'loss': 0.17487808826722598, 'acc': 0.9425370065789473}, 'val_metrics': {'loss': 0.6609623561382294, 'acc': 0.7992000002861023}}\n"
     ]
    }
   ],
   "source": [
    "#Load SVM Model\n",
    "beton_root = \"/mnt/cfs/projects/correlated_errors/betons\"\n",
    "experiment_root = \"/mnt/cfs/projects/correlated_errors/experiments/cifar/cifar_0.25\"\n",
    "\n",
    "svm_name = \"svm_cifar_0.25_unlabeled_normalized\"\n",
    "name = os.path.join(experiment_root, f\"svm_checkpoints/{svm_name}.pt\") # SVM output file\n",
    "svm_model_name = os.path.join(experiment_root, f\"svm_checkpoints/{svm_name}_model.pkl\") # SVM output file\n",
    "model_root = os.path.join(experiment_root, \"models\")\n",
    "model_ckpt = os.path.join(model_root, \"cifar10_0.25_unlabeled/version_0/checkpoints/checkpoint_last.pt\")\n",
    "loss_upweight_root = os.path.join(experiment_root, \"loss_vec_files\")\n",
    "subset_root = os.path.join(experiment_root, \"subset_index_files\")\n",
    "\n",
    "%cd ../failure_directions\n",
    "processor = viz_utils.SVMProcessor(name, root=beton_root, checkpoint_path=model_ckpt, get_unlabeled=True)\n",
    "%cd ../analysis_nbs\n",
    "svm_model = processor._build_model(model_ckpt)\n"
   ]
  },
  {
   "cell_type": "code",
   "execution_count": 6,
   "id": "4f868820",
   "metadata": {},
   "outputs": [
    {
     "data": {
      "text/plain": [
       "[0.6642218046323067,\n",
       " 0.7010094305812045,\n",
       " 0.6696851119624674,\n",
       " 0.6415698284604889,\n",
       " 0.6484821828610479,\n",
       " 0.6876278118609407,\n",
       " 0.6769806482669898,\n",
       " 0.6935678717699402,\n",
       " 0.6241176656968883,\n",
       " 0.6601421725872243]"
      ]
     },
     "execution_count": 6,
     "metadata": {},
     "output_type": "execute_result"
    }
   ],
   "source": [
    "processor.metrics['cv_scores']"
   ]
  },
  {
   "cell_type": "code",
   "execution_count": 7,
   "id": "ea5bc340",
   "metadata": {},
   "outputs": [],
   "source": [
    "split = 'test'\n",
    "test_dv = processor.metrics[f'{split}_metrics']['decision_values']\n",
    "test_confs = processor.run_dict[split]['confs']\n",
    "test_class = processor.metrics[f'{split}_metrics']['classes'] # 0 if female, 1 if male\n",
    "test_pred_correct = processor.metrics[f'{split}_metrics']['ypred']\n",
    "test_correct = processor.metrics[f'{split}_metrics']['ytrue']"
   ]
  },
  {
   "cell_type": "code",
   "execution_count": 8,
   "id": "64ecf250",
   "metadata": {},
   "outputs": [
    {
     "name": "stdout",
     "output_type": "stream",
     "text": [
      "/mnt/cfs/home/saachij/src/failure-directions/failure_directions\n",
      "Using default os_cache: False\n",
      "Using default quasi_random: True\n",
      "Using default val_aug: None\n",
      "Using default loss_vec_file: None\n",
      "Using default indices_file: None\n",
      "Using default val_beton: None\n",
      "Using default unlabeled_beton: None\n",
      "Using default loss_upweight: 5\n",
      "Using default bce: False\n",
      "Using default cmnist: False\n",
      "/mnt/cfs/home/saachij/src/failure-directions/analysis_nbs\n"
     ]
    }
   ],
   "source": [
    "from failure_directions.src.config_parsing import ffcv_read_check_override_config\n",
    "import yaml\n",
    "%cd ../failure_directions\n",
    "with open(processor.metrics['args']['config'], 'r') as file:\n",
    "    fresh_hparams = yaml.safe_load(file)\n",
    "fresh_hparams = ffcv_read_check_override_config(fresh_hparams)\n",
    "%cd ../analysis_nbs\n"
   ]
  },
  {
   "cell_type": "markdown",
   "id": "a0780f44",
   "metadata": {},
   "source": [
    "## Get SVM Directions"
   ]
  },
  {
   "cell_type": "code",
   "execution_count": null,
   "id": "c27e0e00",
   "metadata": {},
   "outputs": [],
   "source": [
    "# Get big CLIP features\n",
    "hparams = processor.hparams\n",
    "clip_processor = failure_directions.CLIPProcessor(ds_mean=hparams['mean'], ds_std=hparams['std'], arch='ViT-L/14')\n",
    "clip_features = {}\n",
    "for split, loader in processor.loaders.items():\n",
    "    clip_features[split] = clip_processor.evaluate_clip_images(loader)"
   ]
  },
  {
   "cell_type": "code",
   "execution_count": 8,
   "id": "15b9e97b",
   "metadata": {
    "scrolled": true
   },
   "outputs": [
    {
     "name": "stderr",
     "output_type": "stream",
     "text": [
      "/mnt/cfs/home/saachij/src/failure-directions/analysis_nbs/../failure_directions/src/svm_utils.py:51: UserWarning: To copy construct from a tensor, it is recommended to use sourceTensor.clone().detach() or sourceTensor.clone().detach().requires_grad_(True), rather than torch.tensor(sourceTensor).\n",
      "  latents = torch.tensor(latents)\n",
      "/mnt/cfs/home/saachij/src/failure-directions/analysis_nbs/../failure_directions/src/svm_utils.py:43: UserWarning: To copy construct from a tensor, it is recommended to use sourceTensor.clone().detach() or sourceTensor.clone().detach().requires_grad_(True), rather than torch.tensor(sourceTensor).\n",
      "  latents = torch.tensor(latents)\n",
      "100%|██████████| 10/10 [00:02<00:00,  4.15it/s]\n"
     ]
    }
   ],
   "source": [
    "# svm_fitter = failure_directions.SVMFitter()\n",
    "# svm_fitter.set_preprocess()\n",
    "# val_gts, val_preds = processor.run_dict['val']['ys'], processor.run_dict['val']['preds']\n",
    "# cv_scores = svm_fitter.fit(preds=val_preds, ys=val_gts, latents=clip_features['val'])\n",
    "\n",
    "svm_fitter = failure_directions.SVMFitter()\n",
    "svm_fitter.import_model(\"cifar_vit_L_svm.pt\")\n",
    "\n",
    "test_ys = processor.run_dict['test']['ys']\n",
    "test_latents = clip_features['test']\n",
    "big_clip_dv = svm_fitter.predict(ys=test_ys, latents=test_latents, compute_metrics=False)[1]"
   ]
  },
  {
   "cell_type": "code",
   "execution_count": 13,
   "id": "1818a662",
   "metadata": {},
   "outputs": [],
   "source": []
  },
  {
   "cell_type": "code",
   "execution_count": null,
   "id": "0295b9a6",
   "metadata": {},
   "outputs": [],
   "source": [
    "import os\n",
    "os.makedirs(\"cifar_large_directions\")\n",
    "for i in range(10):\n",
    "    d = svm_fitter.clfs[i].coef_.squeeze(0)\n",
    "    np.save(f\"cifar_large_directions/dir{i}.npy\", d/np.linalg.norm(d))"
   ]
  },
  {
   "cell_type": "code",
   "execution_count": null,
   "id": "34ab92f5",
   "metadata": {},
   "outputs": [],
   "source": [
    "from failure_directions.src.clip_utils import get_caption_set\n",
    "captions = failure_directions.get_caption_set('CIFAR')\n",
    "ref_captions = clip_processor.evaluate_clip_captions(captions['reference'])\n",
    "np.save(\"cifar_large_directions/ref_captions.npy\", ref_captions.numpy())"
   ]
  },
  {
   "cell_type": "markdown",
   "id": "af206505",
   "metadata": {},
   "source": [
    "## Read the generated images"
   ]
  },
  {
   "cell_type": "code",
   "execution_count": 4,
   "id": "86aaf41a",
   "metadata": {},
   "outputs": [],
   "source": [
    "import src.stable_diffusion_utils as sd_utils\n",
    "from src.stable_diffusion_utils import DiffDataset"
   ]
  },
  {
   "cell_type": "code",
   "execution_count": 5,
   "id": "3cc4fae7",
   "metadata": {},
   "outputs": [],
   "source": [
    "\n",
    "path_dict = {\n",
    "    'pos': sd_utils.get_sd_dict(\"/mnt/cfs/home/saachij/src/stable-diffusion/pos_sd\", 10),\n",
    "    'neg': sd_utils.get_sd_dict(\"/mnt/cfs/home/saachij/src/stable-diffusion/neg_sd\", 10),\n",
    "    'neutral': sd_utils.get_sd_dict(\"/mnt/cfs/home/saachij/src/stable-diffusion/neutral_sd\", 10),\n",
    "}"
   ]
  },
  {
   "cell_type": "code",
   "execution_count": 6,
   "id": "a9b13ae0",
   "metadata": {},
   "outputs": [
    {
     "name": "stderr",
     "output_type": "stream",
     "text": [
      "100%|██████████| 1000/1000 [00:09<00:00, 104.97it/s]\n",
      "100%|██████████| 1000/1000 [00:09<00:00, 103.16it/s]\n",
      "100%|██████████| 1000/1000 [00:09<00:00, 103.50it/s]\n"
     ]
    }
   ],
   "source": [
    "import torchvision.transforms as transforms\n",
    "import torchvision\n",
    "from failure_directions.src.decoders_and_transforms import PyTranslate, PyCutOut\n",
    "hparams = processor.hparams\n",
    "\n",
    "fill_color = tuple(map(int, hparams['mean']))\n",
    "\n",
    "base_transform = transforms.Compose([\n",
    "    transforms.ToTensor(),\n",
    "    transforms.Normalize(mean=np.array(hparams['mean'])/255, std=np.array(hparams['std'])/255)])\n",
    "\n",
    "train_transform = transforms.Compose([\n",
    "    transforms.RandomHorizontalFlip(),\n",
    "    PyTranslate(2),\n",
    "    PyCutOut(4, fill_color),\n",
    "    base_transform\n",
    "])\n",
    "\n",
    "# For visualization\n",
    "INV_NORM = transforms.Compose([ transforms.Normalize(mean = [ 0., 0., 0. ],\n",
    "                                                     std = [255/x for x in hparams['std']]),\n",
    "                                transforms.Normalize(mean = [-x /255 for x in hparams['mean']],\n",
    "                                                     std = [ 1., 1., 1. ])])\n",
    "TOIMAGE = transforms.Compose([INV_NORM, transforms.ToPILImage()])\n",
    "resize_base_transform = transforms.Compose([base_transform, transforms.Resize((32, 32))])\n",
    "resize_train_transform = transforms.Compose([train_transform, transforms.Resize((32, 32))])\n",
    "sd_ds = {\n",
    "    k:  sd_utils.SDDataset(path_dict, name=k, num_imgs_per_class=100, transform=resize_base_transform)\n",
    "    for k in ['pos', 'neg', 'neutral']\n",
    "}"
   ]
  },
  {
   "cell_type": "code",
   "execution_count": 7,
   "id": "e9ce0d2a",
   "metadata": {},
   "outputs": [],
   "source": [
    "def evaluate_model(model, loader):\n",
    "    with torch.no_grad():\n",
    "        with autocast():\n",
    "            gts, preds, confs = [], [], []\n",
    "            for x, y in tqdm(loader):\n",
    "                x = x.cuda()\n",
    "                logits = model(x)\n",
    "                gts.append(y.cpu())\n",
    "                preds.append(logits.argmax(-1).cpu())\n",
    "                softmax_logits = nn.Softmax(dim=-1)(logits)\n",
    "                confs.append(softmax_logits[torch.arange(logits.shape[0]), y].cpu())\n",
    "    gts = torch.cat(gts)\n",
    "    preds = torch.cat(preds)\n",
    "    confs = torch.cat(confs)\n",
    "    return gts, preds, confs"
   ]
  },
  {
   "cell_type": "code",
   "execution_count": 14,
   "id": "5aad667f",
   "metadata": {},
   "outputs": [
    {
     "name": "stderr",
     "output_type": "stream",
     "text": [
      "100%|██████████| 10/10 [00:01<00:00,  5.02it/s]\n",
      "100%|██████████| 10/10 [00:01<00:00,  5.34it/s]\n",
      "100%|██████████| 10/10 [00:01<00:00,  5.35it/s]\n"
     ]
    }
   ],
   "source": [
    "# See relative accuracies\n",
    "def get_diff_predictions(name,target_class=None):\n",
    "    base_ds = sd_ds[name]\n",
    "    base_loader = torch.utils.data.DataLoader(base_ds, batch_size=100, shuffle=False, drop_last=False)\n",
    "    gts, preds, confs = evaluate_model(svm_model, base_loader)\n",
    "    if target_class is not None:\n",
    "        mask = gts == target_class\n",
    "        gts, preds, confs = gts[mask], preds[mask], confs[mask]\n",
    "    return gts, preds, confs, (gts==preds).float().mean().item()\n",
    "\n",
    "accs = {\n",
    "    k: get_diff_predictions(name=k)[3]\n",
    "    for k in  ['pos', 'neg', 'neutral']\n",
    "}"
   ]
  },
  {
   "cell_type": "markdown",
   "id": "37a324ac",
   "metadata": {},
   "source": [
    "# Train models"
   ]
  },
  {
   "cell_type": "code",
   "execution_count": 33,
   "id": "3bc68f9f",
   "metadata": {},
   "outputs": [],
   "source": [
    "bsz = fresh_hparams['batch_size']\n",
    "ds_root = \"/mnt/cfs/datasets/cifar\"\n",
    "orig_train_ds = torchvision.datasets.CIFAR10(ds_root, train=True, transform=base_transform)\n",
    "aug_train_ds = torchvision.datasets.CIFAR10(ds_root, train=True, transform=train_transform)\n",
    "test_ds = torchvision.datasets.CIFAR10(ds_root, train=False, transform=base_transform)\n",
    "\n",
    "val_indices = processor.indices_dict['val_indices']\n",
    "train_indices = processor.indices_dict['train_indices']\n",
    "unlabeled_indices = processor.indices_dict['unlabeled_indices']\n",
    "\n",
    "\n",
    "train_ds = torch.utils.data.Subset(aug_train_ds, train_indices)\n",
    "val_ds = torch.utils.data.Subset(orig_train_ds, val_indices)\n",
    "unlabeled_ds = torch.utils.data.Subset(aug_train_ds, unlabeled_indices)\n",
    "\n",
    "no_aug_train_ds = torch.utils.data.Subset(orig_train_ds, train_indices)\n",
    "\n",
    "# for unlabeled\n",
    "# unlabeled_dv = processor.metrics[f'unlabeled_metrics']['decision_values']\n",
    "# unlabeled_class = processor.metrics[f'unlabeled_metrics']['classes'] # 0 if female, 1 if male\n",
    "# unlabeled_aug_inds = []\n",
    "# unlabeled_K = 100\n",
    "# for c in range(10):\n",
    "#     mask = unlabeled_class == c\n",
    "#     masked_indices = np.arange(len(unlabeled_class))[mask]\n",
    "#     unlabeled_aug_inds.append(masked_indices[np.argsort(unlabeled_dv[mask])[:unlabeled_K]])\n",
    "# unlabeled_aug_inds = np.concatenate(unlabeled_aug_inds)\n",
    "# unlabeled_ds_for_aug = torch.utils.data.Subset(unlabeled_ds, unlabeled_aug_inds)\n",
    "# sd_ds['unlabeled'] = unlabeled_ds_for_aug\n",
    "\n",
    "train_loader = torch.utils.data.DataLoader(train_ds, batch_size=bsz, shuffle=True, drop_last=True)\n",
    "no_shuffle_train_loader = torch.utils.data.DataLoader(train_ds, batch_size=bsz, shuffle=False, drop_last=False)\n",
    "test_loader = torch.utils.data.DataLoader(test_ds, batch_size=bsz, shuffle=False, drop_last=False)\n",
    "val_loader = torch.utils.data.DataLoader(val_ds, batch_size=bsz, shuffle=False, drop_last=False)\n",
    "no_aug_train_loader = torch.utils.data.DataLoader(no_aug_train_ds, batch_size=bsz, shuffle=False, drop_last=False)\n",
    "\n"
   ]
  },
  {
   "cell_type": "code",
   "execution_count": 32,
   "id": "017426b7",
   "metadata": {},
   "outputs": [],
   "source": [
    "import copy\n",
    "\n",
    "def run_model(train_loader_, val_loader_, test_loader_, set_device=False):\n",
    "    build_fn = failure_directions.model_utils.BUILD_FUNCTIONS[hparams['arch_type']]\n",
    "    model = build_fn(hparams['arch'], hparams['num_classes'])\n",
    "    model = model.cuda()\n",
    "\n",
    "    training_args=hparams['training']\n",
    "    training_args['iters_per_epoch'] = len(train_loader_)\n",
    "    trainer = failure_directions.LightWeightTrainer(training_args=training_args,\n",
    "                                                    exp_name='temp', enable_logging=False,\n",
    "                                                    bce=False, set_device=set_device)\n",
    "    trainer.fit(model, train_loader_, val_loader_)\n",
    "    return evaluate_model(model, test_loader_)\n",
    "\n",
    "def run_finetune_model(train_loader_, val_loader_, test_loader_, set_device=False, freeze=True):\n",
    "    \n",
    "    finetune_training = {\n",
    "     'epochs': 15,\n",
    "     'lr': 0.1,\n",
    "     'optimizer': {'momentum': 0.9, 'weight_decay': 0.0005},\n",
    "     'lr_scheduler': {'type': 'cyclic', 'lr_peak_epoch': 5}\n",
    "    }\n",
    "    build_fn = failure_directions.model_utils.BUILD_FUNCTIONS[hparams['arch_type']]\n",
    "    model = copy.deepcopy(svm_model).train()\n",
    "    \n",
    "    if freeze:\n",
    "        for name, p in model.named_parameters():\n",
    "            if name.split('.')[0] != 'linear':\n",
    "                print(\"freezing\", name)\n",
    "                p.requires_grad = False\n",
    "\n",
    "\n",
    "    training_args=finetune_training\n",
    "    training_args['iters_per_epoch'] = len(train_loader_)\n",
    "    trainer = failure_directions.LightWeightTrainer(training_args=training_args,\n",
    "                                                    exp_name='temp', enable_logging=False,\n",
    "                                                    bce=False, set_device=set_device)\n",
    "    trainer.fit(model, train_loader_, val_loader_)\n",
    "    return evaluate_model(model, test_loader_)"
   ]
  },
  {
   "cell_type": "code",
   "execution_count": 73,
   "id": "59e3f058",
   "metadata": {},
   "outputs": [
    {
     "name": "stdout",
     "output_type": "stream",
     "text": [
      "freezing conv1.weight\n",
      "freezing bn1.weight\n",
      "freezing bn1.bias\n",
      "freezing layer1.0.conv1.weight\n",
      "freezing layer1.0.bn1.weight\n",
      "freezing layer1.0.bn1.bias\n",
      "freezing layer1.0.conv2.weight\n",
      "freezing layer1.0.bn2.weight\n",
      "freezing layer1.0.bn2.bias\n",
      "freezing layer1.1.conv1.weight\n",
      "freezing layer1.1.bn1.weight\n",
      "freezing layer1.1.bn1.bias\n",
      "freezing layer1.1.conv2.weight\n",
      "freezing layer1.1.bn2.weight\n",
      "freezing layer1.1.bn2.bias\n",
      "freezing layer2.0.conv1.weight\n",
      "freezing layer2.0.bn1.weight\n",
      "freezing layer2.0.bn1.bias\n",
      "freezing layer2.0.conv2.weight\n",
      "freezing layer2.0.bn2.weight\n",
      "freezing layer2.0.bn2.bias\n",
      "freezing layer2.0.shortcut.0.weight\n",
      "freezing layer2.0.shortcut.1.weight\n",
      "freezing layer2.0.shortcut.1.bias\n",
      "freezing layer2.1.conv1.weight\n",
      "freezing layer2.1.bn1.weight\n",
      "freezing layer2.1.bn1.bias\n",
      "freezing layer2.1.conv2.weight\n",
      "freezing layer2.1.bn2.weight\n",
      "freezing layer2.1.bn2.bias\n",
      "freezing layer3.0.conv1.weight\n",
      "freezing layer3.0.bn1.weight\n",
      "freezing layer3.0.bn1.bias\n",
      "freezing layer3.0.conv2.weight\n",
      "freezing layer3.0.bn2.weight\n",
      "freezing layer3.0.bn2.bias\n",
      "freezing layer3.0.shortcut.0.weight\n",
      "freezing layer3.0.shortcut.1.weight\n",
      "freezing layer3.0.shortcut.1.bias\n",
      "freezing layer3.1.conv1.weight\n",
      "freezing layer3.1.bn1.weight\n",
      "freezing layer3.1.bn1.bias\n",
      "freezing layer3.1.conv2.weight\n",
      "freezing layer3.1.bn2.weight\n",
      "freezing layer3.1.bn2.bias\n",
      "freezing layer4.0.conv1.weight\n",
      "freezing layer4.0.bn1.weight\n",
      "freezing layer4.0.bn1.bias\n",
      "freezing layer4.0.conv2.weight\n",
      "freezing layer4.0.bn2.weight\n",
      "freezing layer4.0.bn2.bias\n",
      "freezing layer4.0.shortcut.0.weight\n",
      "freezing layer4.0.shortcut.1.weight\n",
      "freezing layer4.0.shortcut.1.bias\n",
      "freezing layer4.1.conv1.weight\n",
      "freezing layer4.1.bn1.weight\n",
      "freezing layer4.1.bn1.bias\n",
      "freezing layer4.1.conv2.weight\n",
      "freezing layer4.1.bn2.weight\n",
      "freezing layer4.1.bn2.bias\n"
     ]
    },
    {
     "name": "stderr",
     "output_type": "stream",
     "text": [
      "Train Epoch: 0: 100%|██████████| 21/21 [00:03<00:00,  6.57it/s, loss=0.426, acc=0.855]\n",
      "Val Epoch: 0: 100%|██████████| 20/20 [00:01<00:00, 10.31it/s, loss=0.43, acc=0.871] \n"
     ]
    },
    {
     "name": "stdout",
     "output_type": "stream",
     "text": [
      "LR: 0.020000000000000004, Train Loss: 0.4191, Train Acc: 0.8808, Val Loss: 0.6863, Val Acc: 0.7984\n"
     ]
    },
    {
     "name": "stderr",
     "output_type": "stream",
     "text": [
      "Train Epoch: 1: 100%|██████████| 21/21 [00:03<00:00,  6.43it/s, loss=0.395, acc=0.889]\n",
      "Val Epoch: 1: 100%|██████████| 20/20 [00:01<00:00, 10.31it/s, loss=0.433, acc=0.868]\n"
     ]
    },
    {
     "name": "stdout",
     "output_type": "stream",
     "text": [
      "LR: 0.04000000000000001, Train Loss: 0.4271, Train Acc: 0.8789, Val Loss: 0.6839, Val Acc: 0.7963\n"
     ]
    },
    {
     "name": "stderr",
     "output_type": "stream",
     "text": [
      "Train Epoch: 2: 100%|██████████| 21/21 [00:03<00:00,  6.47it/s, loss=0.358, acc=0.889]\n",
      "Val Epoch: 2: 100%|██████████| 20/20 [00:01<00:00, 10.28it/s, loss=0.435, acc=0.864]\n"
     ]
    },
    {
     "name": "stdout",
     "output_type": "stream",
     "text": [
      "LR: 0.06000000000000001, Train Loss: 0.4153, Train Acc: 0.8783, Val Loss: 0.6776, Val Acc: 0.7954\n"
     ]
    },
    {
     "name": "stderr",
     "output_type": "stream",
     "text": [
      "Train Epoch: 3: 100%|██████████| 21/21 [00:03<00:00,  6.57it/s, loss=0.439, acc=0.883]\n",
      "Val Epoch: 3: 100%|██████████| 20/20 [00:01<00:00, 10.40it/s, loss=0.416, acc=0.86] \n"
     ]
    },
    {
     "name": "stdout",
     "output_type": "stream",
     "text": [
      "LR: 0.08000000000000002, Train Loss: 0.4113, Train Acc: 0.8800, Val Loss: 0.6718, Val Acc: 0.7938\n"
     ]
    },
    {
     "name": "stderr",
     "output_type": "stream",
     "text": [
      "Train Epoch: 4: 100%|██████████| 21/21 [00:03<00:00,  6.56it/s, loss=0.407, acc=0.904]\n",
      "Val Epoch: 4: 100%|██████████| 20/20 [00:01<00:00, 10.45it/s, loss=0.395, acc=0.868]\n"
     ]
    },
    {
     "name": "stdout",
     "output_type": "stream",
     "text": [
      "LR: 0.1, Train Loss: 0.4146, Train Acc: 0.8761, Val Loss: 0.6591, Val Acc: 0.7951\n"
     ]
    },
    {
     "name": "stderr",
     "output_type": "stream",
     "text": [
      "Train Epoch: 5: 100%|██████████| 21/21 [00:03<00:00,  6.67it/s, loss=0.391, acc=0.879]\n",
      "Val Epoch: 5: 100%|██████████| 20/20 [00:01<00:00, 10.58it/s, loss=0.387, acc=0.871]\n"
     ]
    },
    {
     "name": "stdout",
     "output_type": "stream",
     "text": [
      "LR: 0.09000000000000001, Train Loss: 0.4095, Train Acc: 0.8767, Val Loss: 0.6563, Val Acc: 0.7938\n"
     ]
    },
    {
     "name": "stderr",
     "output_type": "stream",
     "text": [
      "Train Epoch: 6: 100%|██████████| 21/21 [00:03<00:00,  6.68it/s, loss=0.31, acc=0.916] \n",
      "Val Epoch: 6: 100%|██████████| 20/20 [00:01<00:00, 10.70it/s, loss=0.378, acc=0.871]\n"
     ]
    },
    {
     "name": "stdout",
     "output_type": "stream",
     "text": [
      "LR: 0.08000000000000002, Train Loss: 0.4045, Train Acc: 0.8795, Val Loss: 0.6563, Val Acc: 0.7938\n"
     ]
    },
    {
     "name": "stderr",
     "output_type": "stream",
     "text": [
      "Train Epoch: 7: 100%|██████████| 21/21 [00:03<00:00,  6.64it/s, loss=0.372, acc=0.885]\n",
      "Val Epoch: 7: 100%|██████████| 20/20 [00:01<00:00, 10.48it/s, loss=0.345, acc=0.886]\n"
     ]
    },
    {
     "name": "stdout",
     "output_type": "stream",
     "text": [
      "LR: 0.06999999999999999, Train Loss: 0.4031, Train Acc: 0.8764, Val Loss: 0.6469, Val Acc: 0.7974\n"
     ]
    },
    {
     "name": "stderr",
     "output_type": "stream",
     "text": [
      "Train Epoch: 8: 100%|██████████| 21/21 [00:03<00:00,  6.73it/s, loss=0.347, acc=0.898]\n",
      "Val Epoch: 8: 100%|██████████| 20/20 [00:01<00:00, 10.64it/s, loss=0.387, acc=0.871]\n"
     ]
    },
    {
     "name": "stdout",
     "output_type": "stream",
     "text": [
      "LR: 0.06, Train Loss: 0.3987, Train Acc: 0.8819, Val Loss: 0.6496, Val Acc: 0.7950\n"
     ]
    },
    {
     "name": "stderr",
     "output_type": "stream",
     "text": [
      "Train Epoch: 9: 100%|██████████| 21/21 [00:03<00:00,  6.68it/s, loss=0.385, acc=0.859]\n",
      "Val Epoch: 9: 100%|██████████| 20/20 [00:01<00:00, 10.87it/s, loss=0.397, acc=0.871]\n"
     ]
    },
    {
     "name": "stdout",
     "output_type": "stream",
     "text": [
      "LR: 0.05, Train Loss: 0.3980, Train Acc: 0.8796, Val Loss: 0.6497, Val Acc: 0.7957\n"
     ]
    },
    {
     "name": "stderr",
     "output_type": "stream",
     "text": [
      "Train Epoch: 10: 100%|██████████| 21/21 [00:03<00:00,  6.66it/s, loss=0.471, acc=0.85] \n",
      "Val Epoch: 10: 100%|██████████| 20/20 [00:01<00:00, 10.52it/s, loss=0.38, acc=0.875] \n"
     ]
    },
    {
     "name": "stdout",
     "output_type": "stream",
     "text": [
      "LR: 0.039999999999999994, Train Loss: 0.3904, Train Acc: 0.8824, Val Loss: 0.6477, Val Acc: 0.7969\n"
     ]
    },
    {
     "name": "stderr",
     "output_type": "stream",
     "text": [
      "Train Epoch: 11: 100%|██████████| 21/21 [00:03<00:00,  6.68it/s, loss=0.415, acc=0.865]\n",
      "Val Epoch: 11: 100%|██████████| 20/20 [00:01<00:00, 10.74it/s, loss=0.361, acc=0.882]\n"
     ]
    },
    {
     "name": "stdout",
     "output_type": "stream",
     "text": [
      "LR: 0.029999999999999995, Train Loss: 0.3954, Train Acc: 0.8836, Val Loss: 0.6473, Val Acc: 0.7981\n"
     ]
    },
    {
     "name": "stderr",
     "output_type": "stream",
     "text": [
      "Train Epoch: 12: 100%|██████████| 21/21 [00:03<00:00,  6.60it/s, loss=0.453, acc=0.875]\n",
      "Val Epoch: 12: 100%|██████████| 20/20 [00:01<00:00, 10.46it/s, loss=0.395, acc=0.875]\n"
     ]
    },
    {
     "name": "stdout",
     "output_type": "stream",
     "text": [
      "LR: 0.019999999999999997, Train Loss: 0.3936, Train Acc: 0.8815, Val Loss: 0.6476, Val Acc: 0.7968\n"
     ]
    },
    {
     "name": "stderr",
     "output_type": "stream",
     "text": [
      "Train Epoch: 13: 100%|██████████| 21/21 [00:03<00:00,  6.65it/s, loss=0.434, acc=0.869]\n",
      "Val Epoch: 13: 100%|██████████| 20/20 [00:01<00:00, 10.46it/s, loss=0.368, acc=0.879]\n"
     ]
    },
    {
     "name": "stdout",
     "output_type": "stream",
     "text": [
      "LR: 0.009999999999999988, Train Loss: 0.3943, Train Acc: 0.8815, Val Loss: 0.6482, Val Acc: 0.7983\n"
     ]
    },
    {
     "name": "stderr",
     "output_type": "stream",
     "text": [
      "Train Epoch: 14: 100%|██████████| 21/21 [00:03<00:00,  6.66it/s, loss=0.354, acc=0.879]\n",
      "Val Epoch: 14: 100%|██████████| 20/20 [00:01<00:00, 10.34it/s, loss=0.372, acc=0.882]\n"
     ]
    },
    {
     "name": "stdout",
     "output_type": "stream",
     "text": [
      "LR: 0.0, Train Loss: 0.3896, Train Acc: 0.8807, Val Loss: 0.6457, Val Acc: 0.7978\n"
     ]
    },
    {
     "name": "stderr",
     "output_type": "stream",
     "text": [
      "100%|██████████| 20/20 [00:01<00:00, 10.82it/s]\n"
     ]
    }
   ],
   "source": [
    "# See relative accuracies\n",
    "#4\n",
    "flip_interventions = {}\n",
    "for k in ['pos', 'neg', 'neutral']:\n",
    "# for k in ['unlabeled']:\n",
    "    flip_interventions[k] = []\n",
    "    for v in range(1):\n",
    "        base_synth_dataset = sd_ds[k]\n",
    "        synth_train_set = torch.utils.data.ConcatDataset([train_ds, base_synth_dataset])\n",
    "        synth_train_loader = torch.utils.data.DataLoader(synth_train_set, batch_size=bsz, shuffle=True, drop_last=True)\n",
    "        flip_interventions[k].append(run_finetune_model(synth_train_loader, val_loader, test_loader, set_device=True, freeze=True))\n"
   ]
  },
  {
   "cell_type": "code",
   "execution_count": 15,
   "id": "39ea4d15",
   "metadata": {},
   "outputs": [
    {
     "data": {
      "image/png": "[encoded data removed]",
      "text/plain": [
       "<Figure size 360x288 with 1 Axes>"
      ]
     },
     "metadata": {},
     "output_type": "display_data"
    }
   ],
   "source": [
    "# import src.clip_utils as clip_utils\n",
    "# cifar_label_list = np.array([CLASS_DICT['CIFAR'][u] for u in range(10)])\n",
    "\n",
    "# clip_analyzer = viz_utils.ClipAnalyzer(\n",
    "#     processor=processor, svm_model_name=svm_model_name, caption_set_name=\"CIFARSIMPLE\", class_names=cifar_label_list)\n",
    "\n",
    "# def get_cdf(arr, K_range=None):\n",
    "#     out = []\n",
    "#     if K_range is None:\n",
    "#         K_range = np.arange(10, len(arr), 10)\n",
    "#     for K in K_range:\n",
    "#         out.append(arr[:K].mean())\n",
    "#     out = np.array(out)\n",
    "#     return out, K_range\n",
    "\n",
    "# saved_caption_and_most_relevant_imgs = {}\n",
    "# all_dfs = []\n",
    "# for target_class in range(10):\n",
    "#     print(processor.metrics['cv_scores'][target_class])\n",
    "#     print(\"performing classify captions on svm\")\n",
    "#     result = clip_analyzer.get_svm_style_top_K(target_class, 'all')\n",
    "#     print(\"--------\")\n",
    "\n",
    "#     cdfs = {}\n",
    "#     class_mask = test_class==target_class\n",
    "#     masked_indices = np.arange(len(test_class))[class_mask]\n",
    "#     # K_range = np.arange(10, len(masked_indices), 10)\n",
    "#     K_range=np.arange(20, 200, 5)\n",
    "#     for caption_index in range(1):\n",
    "#         for direction in ['pos', 'neg']:\n",
    "#             caption_text = result[f'{direction}_captions'][caption_index]\n",
    "#             print(f\"{direction}: {caption_text}\")\n",
    "#             top_caption_latent = torch.tensor(result[f'{direction}_latents'][caption_index]).cuda()\n",
    "\n",
    "#             image_latents = clip_analyzer.clip_features['test'][class_mask].cuda()\n",
    "#             image_angles = clip_utils.order_descriptions_angle(mean_point=top_caption_latent.unsqueeze(0), query_points=image_latents)\n",
    "#             image_order = np.argsort(image_angles)[::-1]\n",
    "#             saved_caption_and_most_relevant_imgs[(target_class, caption_index, direction)] = (masked_indices[image_order], caption_text)\n",
    "#             dir_name = 'Positive' if direction == 'pos' else 'Negative' \n",
    "#             cdfs[dir_name], _ = get_cdf(test_correct[masked_indices[image_order]], K_range)\n",
    "#             # uncomment this to display the images\n",
    "\n",
    "#         df = pd.DataFrame()\n",
    "#         df['Top K'] = K_range\n",
    "#         for d, v in cdfs.items():\n",
    "#             df[d] = v\n",
    "#         df['Overall Class'] = test_correct[masked_indices].mean()\n",
    "#         df = df.melt('Top K', var_name='Order', value_name='Accuracy')\n",
    "#         all_dfs.append(df)\n",
    "    \n",
    "combined_df = pd.concat(all_dfs).reset_index()\n",
    "fig, ax = plt.subplots(1, 1, figsize=(5,4))\n",
    "sns.lineplot(data=combined_df, x='Top K', y='Accuracy', hue='Order', ax=ax, \n",
    "             hue_order=['Positive', 'Negative', 'Overall Class'], \n",
    "            palette=[BLUE, RED, GRAY], ci=False)\n",
    "handles, labels = ax.get_legend_handles_labels()\n",
    "ax.legend(handles=handles, labels=labels)\n",
    "ax.set_xlabel(\"Top K Test Images by Caption\")\n",
    "plt.savefig(\"figures/cifarsimple.pdf\", bbox_inches='tight')\n",
    "plt.show()\n",
    "    "
   ]
  },
  {
   "cell_type": "code",
   "execution_count": 7,
   "id": "bc2df4f9",
   "metadata": {},
   "outputs": [],
   "source": [
    "flip_interventions = torch.load(\"/mnt/cfs/home/saachij/src/failure-directions/failure_directions/cifar_caption_level_imgs_2.pt\")\n",
    "rdir = \"/mnt/cfs/home/saachij/src/failure-directions/failure_directions/sd_files/cifar10/caption_level_freeze\"\n",
    "base_name = 'cifar_caption_level_imgs_freeze'\n",
    "flip_interventions_ = [\n",
    "    torch.load(os.path.join(rdir, f\"{base_name}_A.pt\")),\n",
    "    torch.load(os.path.join(rdir, f\"{base_name}_B.pt\")),\n",
    "    torch.load(os.path.join(rdir, f\"{base_name}_C.pt\")),\n",
    "    torch.load(os.path.join(rdir, f\"{base_name}_D.pt\")),\n",
    "    torch.load(os.path.join(rdir, f\"{base_name}_E.pt\")),\n",
    "    torch.load(os.path.join(rdir, f\"{base_name}_G.pt\")),\n",
    "    torch.load(os.path.join(rdir, f\"{base_name}_H.pt\")),\n",
    "]"
   ]
  },
  {
   "cell_type": "code",
   "execution_count": 11,
   "id": "329e698d",
   "metadata": {},
   "outputs": [],
   "source": [
    "# mapping = {\n",
    "#     'pos': 0,\n",
    "#     'neg': 0.1,\n",
    "#     'neutral': 0,\n",
    "# }\n",
    "mapping = {\n",
    "    'pos': 'pos',\n",
    "    'neg': 'neg',\n",
    "    'neutral': 'neutral',\n",
    "}\n",
    "flip_interventions = {'pos': [], 'neg': [], 'neutral': []}\n",
    "for f in flip_interventions_:\n",
    "    for g in ['pos', 'neg', 'neutral']:\n",
    "        for u in f[mapping[g]]:\n",
    "            flip_interventions[g].append(u)"
   ]
  },
  {
   "cell_type": "code",
   "execution_count": 12,
   "id": "c1b33d45",
   "metadata": {},
   "outputs": [],
   "source": [
    "\n",
    "flip_int_corrects = {}\n",
    "for k in flip_interventions:\n",
    "    arr = flip_interventions[k]\n",
    "    flip_int_corrects[k] = [arr[v][0] ==  arr[v][1] for v in range(len(arr))]"
   ]
  },
  {
   "cell_type": "code",
   "execution_count": 48,
   "id": "ff8abb7e",
   "metadata": {},
   "outputs": [
    {
     "name": "stdout",
     "output_type": "stream",
     "text": [
      "15\n"
     ]
    },
    {
     "data": {
      "image/png": "[encoded data removed]",
      "text/plain": [
       "<Figure size 504x216 with 1 Axes>"
      ]
     },
     "metadata": {},
     "output_type": "display_data"
    },
    {
     "name": "stdout",
     "output_type": "stream",
     "text": [
      "15\n"
     ]
    },
    {
     "data": {
      "image/png": "[encoded data removed]",
      "text/plain": [
       "<Figure size 504x216 with 1 Axes>"
      ]
     },
     "metadata": {},
     "output_type": "display_data"
    }
   ],
   "source": [
    "for POS_MODE in [True, False]:\n",
    "    if POS_MODE:\n",
    "        q_tag = 'pos'\n",
    "    else:\n",
    "        q_tag = 'neg'\n",
    "    def get_dv_indices(target_c):\n",
    "        dv = test_dv\n",
    "        mask = test_class == target_c\n",
    "        inds = np.arange(len(dv))[mask]\n",
    "        return inds[np.argsort(dv[mask])]\n",
    "\n",
    "    fig, ax_ = plt.subplots(1, 1, figsize=(7, 3))\n",
    "    cls = -1\n",
    "    trials = len(flip_int_corrects['pos'])\n",
    "    print(trials)\n",
    "    ax = ax_\n",
    "    load_corrects = {\n",
    "        'pos': flip_int_corrects['pos'],\n",
    "        'neg': flip_int_corrects['neg'],\n",
    "        'neutral': flip_int_corrects['neutral'],\n",
    "        'baseline': [torch.tensor(test_correct == 1) for _ in range(trials)],\n",
    "\n",
    "    }\n",
    "\n",
    "    K = 100\n",
    "\n",
    "\n",
    "    all_dfs = []\n",
    "    # valid_classes = np.arange(10)\n",
    "    if cls == -1:\n",
    "        valid_classes = np.arange(10)\n",
    "    else:\n",
    "        valid_classes = [cls]\n",
    "    for v in range(trials):\n",
    "        xaxis = np.arange(20, 200, 5)\n",
    "        accs = {k:[] for k in load_corrects.keys()}\n",
    "        for K in xaxis:\n",
    "    #         minority_indices = np.concatenate([get_dv_indices(target_c)[:K] for target_c in valid_classes])\n",
    "            minority_indices = np.concatenate([saved_caption_and_most_relevant_imgs[(target_c, 0, q_tag)][0][:K] for target_c in valid_classes])\n",
    "            for k in load_corrects.keys():\n",
    "                accs[k].append(load_corrects[k][v][minority_indices].float().mean().item())\n",
    "        df = pd.DataFrame()\n",
    "        df['Top K'] = xaxis\n",
    "        df['Adding generic synthetic images'] = accs['neutral']\n",
    "        df['Adding hard synthetic images'] = accs['neg']\n",
    "        df['Adding easy synthetic images'] = accs['pos']\n",
    "\n",
    "        df['Original Accuracy'] = accs['baseline']\n",
    "        df = df.melt('Top K', var_name='Order', value_name='Subpopulation Accuracy')\n",
    "        all_dfs.append(df)\n",
    "\n",
    "\n",
    "    all_df = pd.concat(all_dfs).reset_index()\n",
    "\n",
    "    sns.lineplot(data=all_df, x='Top K', y='Subpopulation Accuracy', hue='Order', ax=ax)\n",
    "    ax.set_xlabel(\"Top K Test Images by Caption\")\n",
    "    t = 'All' if cls == -1 else cifar_label_list[cls]  \n",
    "    # ax.set_title(f'{t}')\n",
    "    if POS_MODE:\n",
    "        ax.set_ylim(0.75, 0.9)\n",
    "    else:\n",
    "        ax.set_ylim(0.65, 0.8)\n",
    "    handles, labels = ax.get_legend_handles_labels()\n",
    "    ax.legend(handles=handles, labels=labels, loc='lower right')\n",
    "    if POS_MODE:\n",
    "        plt.savefig('easy_finetune.pdf', bbox_inches='tight')\n",
    "    else:\n",
    "        plt.savefig('hard_finetune.pdf', bbox_inches='tight')\n",
    "    plt.show()\n"
   ]
  },
  {
   "cell_type": "code",
   "execution_count": 19,
   "id": "e4ea0d96",
   "metadata": {},
   "outputs": [
    {
     "name": "stdout",
     "output_type": "stream",
     "text": [
      "a photo of a airplane\n",
      "a photo of a automobile\n",
      "a photo of a bird\n",
      "a photo of a cat\n",
      "a photo of a deer\n",
      "a photo of a dog\n",
      "a photo of a frog\n",
      "a photo of a horse\n",
      "a photo of a ship\n",
      "a photo of a truck\n"
     ]
    }
   ],
   "source": [
    "for r in clip_analyzer.captions['reference']:\n",
    "    print(r)\n",
    "for c in range(10):\n",
    "    print(saved_caption_and_most_relevant_imgs[(c, 0, 'neg')][1])"
   ]
  }
 ],
 "metadata": {
  "kernelspec": {
   "display_name": "Python 3 (ipykernel)",
   "language": "python",
   "name": "python3"
  },
  "language_info": {
   "codemirror_mode": {
    "name": "ipython",
    "version": 3
   },
   "file_extension": ".py",
   "mimetype": "text/x-python",
   "name": "python",
   "nbconvert_exporter": "python",
   "pygments_lexer": "ipython3",
   "version": "3.9.12"
  }
 },
 "nbformat": 4,
 "nbformat_minor": 5
}
